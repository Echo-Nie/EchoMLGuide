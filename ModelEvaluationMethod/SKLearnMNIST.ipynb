{
 "cells": [
  {
   "cell_type": "code",
   "execution_count": 95,
   "metadata": {
    "collapsed": true,
    "ExecuteTime": {
     "end_time": "2025-02-04T14:10:57.476031600Z",
     "start_time": "2025-02-04T14:10:57.457779500Z"
    }
   },
   "outputs": [],
   "source": [
    "# 导入numpy库，用于数值计算，特别是对数组和矩阵的操作\n",
    "import numpy as np\n",
    "\n",
    "# 导入os库，用于与操作系统进行交互，比如文件目录操作\n",
    "import os\n",
    "\n",
    "# 在Jupyter Notebook中使用，使得matplotlib生成的图表直接嵌入显示\n",
    "%matplotlib inline\n",
    "\n",
    "# 导入matplotlib库，用于数据可视化；matplotlib是Python中最基础的绘图库\n",
    "import matplotlib\n",
    "\n",
    "# 从matplotlib导入pyplot模块，通常使用plt作为别名，提供类似MATLAB的绘图接口\n",
    "import matplotlib.pyplot as plt\n",
    "\n",
    "# 设置matplotlib中轴标签（x轴和y轴）的默认字体大小为14\n",
    "plt.rcParams['axes.labelsize'] = 14 \n",
    "\n",
    "# 设置matplotlib中y轴刻度标签的默认字体大小为12\n",
    "plt.rcParams['ytick.labelsize'] = 12\n",
    "\n",
    "# 导入warnings库，用于控制Python程序中的警告信息\n",
    "import warnings\n",
    "\n",
    "# 忽略所有警告信息，这样在运行代码时可以避免显示不重要的警告\n",
    "warnings.filterwarnings('ignore')\n",
    "\n",
    "# 设置随机数种子为42，确保np.random下的随机函数生成的随机数序列是可复现的\n",
    "np.random.seed(42)"
   ]
  },
  {
   "cell_type": "markdown",
   "metadata": {},
   "source": [
    "### 数据集读取\n",
    "- Mnist数据是图像数据：(28,28,1)的灰度图"
   ]
  },
  {
   "cell_type": "code",
   "execution_count": 96,
   "metadata": {
    "ExecuteTime": {
     "end_time": "2025-02-04T14:11:01.819632900Z",
     "start_time": "2025-02-04T14:10:58.327010600Z"
    }
   },
   "outputs": [
    {
     "name": "stdout",
     "output_type": "stream",
     "text": [
      "**Author**: Yann LeCun, Corinna Cortes, Christopher J.C. Burges  \n",
      "**Source**: [MNIST Website](http://yann.lecun.com/exdb/mnist/) - Date unknown  \n",
      "**Please cite**:  \n",
      "\n",
      "The MNIST database of handwritten digits with 784 features, raw data available at: http://yann.lecun.com/exdb/mnist/. It can be split in a training set of the first 60,000 examples, and a test set of 10,000 examples  \n",
      "\n",
      "It is a subset of a larger set available from NIST. The digits have been size-normalized and centered in a fixed-size image. It is a good database for people who want to try learning techniques and pattern recognition methods on real-world data while spending minimal efforts on preprocessing and formatting. The original black and white (bilevel) images from NIST were size normalized to fit in a 20x20 pixel box while preserving their aspect ratio. The resulting images contain grey levels as a result of the anti-aliasing technique used by the normalization algorithm. the images were centered in a 28x28 image by computing the center of mass of the pixels, and translating the image so as to position this point at the center of the 28x28 field.  \n",
      "\n",
      "With some classification methods (particularly template-based methods, such as SVM and K-nearest neighbors), the error rate improves when the digits are centered by bounding box rather than center of mass. If you do this kind of pre-processing, you should report it in your publications. The MNIST database was constructed from NIST's NIST originally designated SD-3 as their training set and SD-1 as their test set. However, SD-3 is much cleaner and easier to recognize than SD-1. The reason for this can be found on the fact that SD-3 was collected among Census Bureau employees, while SD-1 was collected among high-school students. Drawing sensible conclusions from learning experiments requires that the result be independent of the choice of training set and test among the complete set of samples. Therefore it was necessary to build a new database by mixing NIST's datasets.  \n",
      "\n",
      "The MNIST training set is composed of 30,000 patterns from SD-3 and 30,000 patterns from SD-1. Our test set was composed of 5,000 patterns from SD-3 and 5,000 patterns from SD-1. The 60,000 pattern training set contained examples from approximately 250 writers. We made sure that the sets of writers of the training set and test set were disjoint. SD-1 contains 58,527 digit images written by 500 different writers. In contrast to SD-3, where blocks of data from each writer appeared in sequence, the data in SD-1 is scrambled. Writer identities for SD-1 is available and we used this information to unscramble the writers. We then split SD-1 in two: characters written by the first 250 writers went into our new training set. The remaining 250 writers were placed in our test set. Thus we had two sets with nearly 30,000 examples each. The new training set was completed with enough examples from SD-3, starting at pattern # 0, to make a full set of 60,000 training patterns. Similarly, the new test set was completed with SD-3 examples starting at pattern # 35,000 to make a full set with 60,000 test patterns. Only a subset of 10,000 test images (5,000 from SD-1 and 5,000 from SD-3) is available on this site. The full 60,000 sample training set is available.\n",
      "\n",
      "Downloaded from openml.org.\n",
      "数据形状: (70000, 784)\n",
      "标签形状: (70000,)\n"
     ]
    }
   ],
   "source": [
    "from sklearn.datasets import fetch_openml\n",
    "\n",
    "# 确认数据存储目录\n",
    "data_dir = os.path.join(os.getcwd(), 'data')\n",
    "\n",
    "# 下载 MNIST 数据集并保存到 data\n",
    "# mnist = fetch_openml(\"mnist_784\", parser='auto', data_home=data_dir)\n",
    "\n",
    "# 使用fetch_openml尝试从本地加载MNIST数据集\n",
    "# parser='auto' 参数根据数据自动选择合适的解析器，data_home指定了数据存放路径\n",
    "mnist = fetch_openml(\"mnist_784\", parser='auto', data_home=data_dir)\n",
    "\n",
    "# 如果想要确认数据是否确实是从本地加载的，可以检查mnist对象的内容\n",
    "print(mnist.DESCR)  # 打印数据集描述\n",
    "\n",
    "# 直接使用数据\n",
    "X, y = mnist.data, mnist.target\n",
    "print(f\"数据形状: {X.shape}\")\n",
    "print(f\"标签形状: {y.shape}\")"
   ]
  },
  {
   "cell_type": "code",
   "execution_count": 97,
   "metadata": {
    "ExecuteTime": {
     "end_time": "2025-02-04T14:11:01.825763400Z",
     "start_time": "2025-02-04T14:11:01.819632900Z"
    }
   },
   "outputs": [
    {
     "data": {
      "text/plain": "(70000, 784)"
     },
     "execution_count": 97,
     "metadata": {},
     "output_type": "execute_result"
    }
   ],
   "source": [
    "X, y = mnist[\"data\"], mnist[\"target\"]\n",
    "X.shape"
   ]
  },
  {
   "cell_type": "code",
   "execution_count": 98,
   "metadata": {
    "ExecuteTime": {
     "end_time": "2025-02-04T14:11:02.783147400Z",
     "start_time": "2025-02-04T14:11:02.771383300Z"
    }
   },
   "outputs": [
    {
     "data": {
      "text/plain": "(70000,)"
     },
     "execution_count": 98,
     "metadata": {},
     "output_type": "execute_result"
    }
   ],
   "source": [
    "y.shape"
   ]
  },
  {
   "cell_type": "code",
   "outputs": [
    {
     "data": {
      "text/plain": "<Figure size 640x480 with 1 Axes>",
      "image/png": "[encoded data removed]"
     },
     "metadata": {},
     "output_type": "display_data"
    }
   ],
   "source": [
    "plt.imshow(X.iloc[0].values.reshape(28, 28), cmap='gray')  # 使用 .iloc 访问第 0 行\n",
    "plt.axis('off')\n",
    "plt.show()"
   ],
   "metadata": {
    "collapsed": false,
    "ExecuteTime": {
     "end_time": "2025-02-04T14:11:03.479137300Z",
     "start_time": "2025-02-04T14:11:03.425835700Z"
    }
   },
   "execution_count": 99
  },
  {
   "cell_type": "markdown",
   "metadata": {},
   "source": [
    "![title](./img/数据集.png)"
   ]
  },
  {
   "cell_type": "code",
   "execution_count": 100,
   "metadata": {
    "collapsed": true,
    "ExecuteTime": {
     "end_time": "2025-02-04T14:11:04.530016500Z",
     "start_time": "2025-02-04T14:11:04.472725800Z"
    }
   },
   "outputs": [],
   "source": [
    "# 将数据集 X 和对应的标签 y 划分为训练集和测试集\n",
    "# X[:60000] 表示取数据集 X 的前 60000 个样本作为训练集的特征\n",
    "# X[60000:] 表示取数据集 X 中从第 60001 个样本开始到最后一个样本作为测试集的特征\n",
    "# y[:60000] 表示取标签 y 的前 60000 个样本作为训练集的标签\n",
    "# y[60000:] 表示取标签 y 中从第 60001 个样本开始到最后一个样本作为测试集的标签\n",
    "X_train, X_test, y_train, y_test = X[:60000], X[60000:], y[:60000], y[60000:]"
   ]
  },
  {
   "cell_type": "code",
   "execution_count": 101,
   "metadata": {
    "collapsed": true,
    "ExecuteTime": {
     "end_time": "2025-02-04T14:11:04.981868200Z",
     "start_time": "2025-02-04T14:11:04.784877600Z"
    }
   },
   "outputs": [],
   "source": [
    "# 洗牌操作：打乱训练集的顺序，确保数据的随机性\n",
    "import numpy as np\n",
    "\n",
    "# 生成一个长度为 60000 的随机排列数组，表示打乱后的索引\n",
    "# np.random.permutation(60000) 会生成 0 到 59999 的随机排列\n",
    "shuffle_index = np.random.permutation(60000)\n",
    "\n",
    "# 使用打乱后的索引重新排列训练集的特征和标签\n",
    "# X_train.iloc[shuffle_index] 表示按照 shuffle_index 的顺序重新排列训练集的特征\n",
    "# y_train.iloc[shuffle_index] 表示按照 shuffle_index 的顺序重新排列训练集的标签\n",
    "X_train, y_train = X_train.iloc[shuffle_index], y_train.iloc[shuffle_index]"
   ]
  },
  {
   "cell_type": "code",
   "execution_count": 102,
   "metadata": {
    "ExecuteTime": {
     "end_time": "2025-02-04T14:11:05.111343600Z",
     "start_time": "2025-02-04T14:11:05.087809700Z"
    }
   },
   "outputs": [
    {
     "data": {
      "text/plain": "array([12628, 37730, 39991, ...,   860, 15795, 56422])"
     },
     "execution_count": 102,
     "metadata": {},
     "output_type": "execute_result"
    }
   ],
   "source": [
    "shuffle_index"
   ]
  },
  {
   "cell_type": "markdown",
   "metadata": {},
   "source": [
    "### 交叉验证"
   ]
  },
  {
   "cell_type": "markdown",
   "metadata": {},
   "source": [
    "![title](./img/机器学习中的数据集划分与交叉验证.png)"
   ]
  },
  {
   "cell_type": "markdown",
   "metadata": {},
   "source": [
    "![title](./img/K折交叉验证流程示意图.png)"
   ]
  },
  {
   "cell_type": "code",
   "execution_count": 103,
   "metadata": {
    "collapsed": true,
    "ExecuteTime": {
     "end_time": "2025-02-04T14:11:05.862153200Z",
     "start_time": "2025-02-04T14:11:05.849126600Z"
    }
   },
   "outputs": [],
   "source": [
    "# 将训练集标签中所有值为'1'的标记为True（即正类），其余为False（即负类）\n",
    "# 这里将进行二分类问题，目标是识别数字'1'\n",
    "y_train_1 = (y_train == '1')\n",
    "\n",
    "# 对测试集标签做同样的处理\n",
    "y_test_1 = (y_test == '1')"
   ]
  },
  {
   "cell_type": "code",
   "execution_count": 104,
   "metadata": {
    "ExecuteTime": {
     "end_time": "2025-02-04T14:11:06.072433600Z",
     "start_time": "2025-02-04T14:11:06.058613700Z"
    }
   },
   "outputs": [
    {
     "name": "stdout",
     "output_type": "stream",
     "text": [
      "12628    False\n",
      "37730    False\n",
      "39991    False\n",
      "8525     False\n",
      "8279     False\n",
      "51012    False\n",
      "14871    False\n",
      "15127    False\n",
      "9366     False\n",
      "33322    False\n",
      "53390    False\n",
      "21819    False\n",
      "5026     False\n",
      "23428    False\n",
      "45297     True\n",
      "26354    False\n",
      "30195    False\n",
      "47038    False\n",
      "20731    False\n",
      "34047    False\n",
      "26064    False\n",
      "42469    False\n",
      "29746     True\n",
      "14522    False\n",
      "31572    False\n",
      "54949    False\n",
      "19368    False\n",
      "3803     False\n",
      "53325    False\n",
      "14300    False\n",
      "51301    False\n",
      "9008     False\n",
      "47521    False\n",
      "25224    False\n",
      "48921    False\n",
      "37978     True\n",
      "44171    False\n",
      "26303    False\n",
      "19458    False\n",
      "5369     False\n",
      "50291    False\n",
      "25951    False\n",
      "54908    False\n",
      "56362    False\n",
      "32218    False\n",
      "2885     False\n",
      "36559    False\n",
      "8966     False\n",
      "46574    False\n",
      "10530    False\n",
      "Name: class, dtype: bool\n"
     ]
    }
   ],
   "source": [
    "# 打印训练集标签转换结果的前50个元素，确认是否正确地进行了二值化\n",
    "print(y_train_1[:50])"
   ]
  },
  {
   "cell_type": "code",
   "execution_count": 105,
   "metadata": {
    "ExecuteTime": {
     "end_time": "2025-02-04T14:11:06.826515200Z",
     "start_time": "2025-02-04T14:11:06.209937500Z"
    }
   },
   "outputs": [
    {
     "data": {
      "text/plain": "SGDClassifier(max_iter=5, random_state=42)",
      "text/html": "<style>#sk-container-id-2 {\n  /* Definition of color scheme common for light and dark mode */\n  --sklearn-color-text: black;\n  --sklearn-color-line: gray;\n  /* Definition of color scheme for unfitted estimators */\n  --sklearn-color-unfitted-level-0: #fff5e6;\n  --sklearn-color-unfitted-level-1: #f6e4d2;\n  --sklearn-color-unfitted-level-2: #ffe0b3;\n  --sklearn-color-unfitted-level-3: chocolate;\n  /* Definition of color scheme for fitted estimators */\n  --sklearn-color-fitted-level-0: #f0f8ff;\n  --sklearn-color-fitted-level-1: #d4ebff;\n  --sklearn-color-fitted-level-2: #b3dbfd;\n  --sklearn-color-fitted-level-3: cornflowerblue;\n\n  /* Specific color for light theme */\n  --sklearn-color-text-on-default-background: var(--sg-text-color, var(--theme-code-foreground, var(--jp-content-font-color1, black)));\n  --sklearn-color-background: var(--sg-background-color, var(--theme-background, var(--jp-layout-color0, white)));\n  --sklearn-color-border-box: var(--sg-text-color, var(--theme-code-foreground, var(--jp-content-font-color1, black)));\n  --sklearn-color-icon: #696969;\n\n  @media (prefers-color-scheme: dark) {\n    /* Redefinition of color scheme for dark theme */\n    --sklearn-color-text-on-default-background: var(--sg-text-color, var(--theme-code-foreground, var(--jp-content-font-color1, white)));\n    --sklearn-color-background: var(--sg-background-color, var(--theme-background, var(--jp-layout-color0, #111)));\n    --sklearn-color-border-box: var(--sg-text-color, var(--theme-code-foreground, var(--jp-content-font-color1, white)));\n    --sklearn-color-icon: #878787;\n  }\n}\n\n#sk-container-id-2 {\n  color: var(--sklearn-color-text);\n}\n\n#sk-container-id-2 pre {\n  padding: 0;\n}\n\n#sk-container-id-2 input.sk-hidden--visually {\n  border: 0;\n  clip: rect(1px 1px 1px 1px);\n  clip: rect(1px, 1px, 1px, 1px);\n  height: 1px;\n  margin: -1px;\n  overflow: hidden;\n  padding: 0;\n  position: absolute;\n  width: 1px;\n}\n\n#sk-container-id-2 div.sk-dashed-wrapped {\n  border: 1px dashed var(--sklearn-color-line);\n  margin: 0 0.4em 0.5em 0.4em;\n  box-sizing: border-box;\n  padding-bottom: 0.4em;\n  background-color: var(--sklearn-color-background);\n}\n\n#sk-container-id-2 div.sk-container {\n  /* jupyter's `normalize.less` sets `[hidden] { display: none; }`\n     but bootstrap.min.css set `[hidden] { display: none !important; }`\n     so we also need the `!important` here to be able to override the\n     default hidden behavior on the sphinx rendered scikit-learn.org.\n     See: https://github.com/scikit-learn/scikit-learn/issues/21755 */\n  display: inline-block !important;\n  position: relative;\n}\n\n#sk-container-id-2 div.sk-text-repr-fallback {\n  display: none;\n}\n\ndiv.sk-parallel-item,\ndiv.sk-serial,\ndiv.sk-item {\n  /* draw centered vertical line to link estimators */\n  background-image: linear-gradient(var(--sklearn-color-text-on-default-background), var(--sklearn-color-text-on-default-background));\n  background-size: 2px 100%;\n  background-repeat: no-repeat;\n  background-position: center center;\n}\n\n/* Parallel-specific style estimator block */\n\n#sk-container-id-2 div.sk-parallel-item::after {\n  content: \"\";\n  width: 100%;\n  border-bottom: 2px solid var(--sklearn-color-text-on-default-background);\n  flex-grow: 1;\n}\n\n#sk-container-id-2 div.sk-parallel {\n  display: flex;\n  align-items: stretch;\n  justify-content: center;\n  background-color: var(--sklearn-color-background);\n  position: relative;\n}\n\n#sk-container-id-2 div.sk-parallel-item {\n  display: flex;\n  flex-direction: column;\n}\n\n#sk-container-id-2 div.sk-parallel-item:first-child::after {\n  align-self: flex-end;\n  width: 50%;\n}\n\n#sk-container-id-2 div.sk-parallel-item:last-child::after {\n  align-self: flex-start;\n  width: 50%;\n}\n\n#sk-container-id-2 div.sk-parallel-item:only-child::after {\n  width: 0;\n}\n\n/* Serial-specific style estimator block */\n\n#sk-container-id-2 div.sk-serial {\n  display: flex;\n  flex-direction: column;\n  align-items: center;\n  background-color: var(--sklearn-color-background);\n  padding-right: 1em;\n  padding-left: 1em;\n}\n\n\n/* Toggleable style: style used for estimator/Pipeline/ColumnTransformer box that is\nclickable and can be expanded/collapsed.\n- Pipeline and ColumnTransformer use this feature and define the default style\n- Estimators will overwrite some part of the style using the `sk-estimator` class\n*/\n\n/* Pipeline and ColumnTransformer style (default) */\n\n#sk-container-id-2 div.sk-toggleable {\n  /* Default theme specific background. It is overwritten whether we have a\n  specific estimator or a Pipeline/ColumnTransformer */\n  background-color: var(--sklearn-color-background);\n}\n\n/* Toggleable label */\n#sk-container-id-2 label.sk-toggleable__label {\n  cursor: pointer;\n  display: block;\n  width: 100%;\n  margin-bottom: 0;\n  padding: 0.5em;\n  box-sizing: border-box;\n  text-align: center;\n}\n\n#sk-container-id-2 label.sk-toggleable__label-arrow:before {\n  /* Arrow on the left of the label */\n  content: \"▸\";\n  float: left;\n  margin-right: 0.25em;\n  color: var(--sklearn-color-icon);\n}\n\n#sk-container-id-2 label.sk-toggleable__label-arrow:hover:before {\n  color: var(--sklearn-color-text);\n}\n\n/* Toggleable content - dropdown */\n\n#sk-container-id-2 div.sk-toggleable__content {\n  max-height: 0;\n  max-width: 0;\n  overflow: hidden;\n  text-align: left;\n  /* unfitted */\n  background-color: var(--sklearn-color-unfitted-level-0);\n}\n\n#sk-container-id-2 div.sk-toggleable__content.fitted {\n  /* fitted */\n  background-color: var(--sklearn-color-fitted-level-0);\n}\n\n#sk-container-id-2 div.sk-toggleable__content pre {\n  margin: 0.2em;\n  border-radius: 0.25em;\n  color: var(--sklearn-color-text);\n  /* unfitted */\n  background-color: var(--sklearn-color-unfitted-level-0);\n}\n\n#sk-container-id-2 div.sk-toggleable__content.fitted pre {\n  /* unfitted */\n  background-color: var(--sklearn-color-fitted-level-0);\n}\n\n#sk-container-id-2 input.sk-toggleable__control:checked~div.sk-toggleable__content {\n  /* Expand drop-down */\n  max-height: 200px;\n  max-width: 100%;\n  overflow: auto;\n}\n\n#sk-container-id-2 input.sk-toggleable__control:checked~label.sk-toggleable__label-arrow:before {\n  content: \"▾\";\n}\n\n/* Pipeline/ColumnTransformer-specific style */\n\n#sk-container-id-2 div.sk-label input.sk-toggleable__control:checked~label.sk-toggleable__label {\n  color: var(--sklearn-color-text);\n  background-color: var(--sklearn-color-unfitted-level-2);\n}\n\n#sk-container-id-2 div.sk-label.fitted input.sk-toggleable__control:checked~label.sk-toggleable__label {\n  background-color: var(--sklearn-color-fitted-level-2);\n}\n\n/* Estimator-specific style */\n\n/* Colorize estimator box */\n#sk-container-id-2 div.sk-estimator input.sk-toggleable__control:checked~label.sk-toggleable__label {\n  /* unfitted */\n  background-color: var(--sklearn-color-unfitted-level-2);\n}\n\n#sk-container-id-2 div.sk-estimator.fitted input.sk-toggleable__control:checked~label.sk-toggleable__label {\n  /* fitted */\n  background-color: var(--sklearn-color-fitted-level-2);\n}\n\n#sk-container-id-2 div.sk-label label.sk-toggleable__label,\n#sk-container-id-2 div.sk-label label {\n  /* The background is the default theme color */\n  color: var(--sklearn-color-text-on-default-background);\n}\n\n/* On hover, darken the color of the background */\n#sk-container-id-2 div.sk-label:hover label.sk-toggleable__label {\n  color: var(--sklearn-color-text);\n  background-color: var(--sklearn-color-unfitted-level-2);\n}\n\n/* Label box, darken color on hover, fitted */\n#sk-container-id-2 div.sk-label.fitted:hover label.sk-toggleable__label.fitted {\n  color: var(--sklearn-color-text);\n  background-color: var(--sklearn-color-fitted-level-2);\n}\n\n/* Estimator label */\n\n#sk-container-id-2 div.sk-label label {\n  font-family: monospace;\n  font-weight: bold;\n  display: inline-block;\n  line-height: 1.2em;\n}\n\n#sk-container-id-2 div.sk-label-container {\n  text-align: center;\n}\n\n/* Estimator-specific */\n#sk-container-id-2 div.sk-estimator {\n  font-family: monospace;\n  border: 1px dotted var(--sklearn-color-border-box);\n  border-radius: 0.25em;\n  box-sizing: border-box;\n  margin-bottom: 0.5em;\n  /* unfitted */\n  background-color: var(--sklearn-color-unfitted-level-0);\n}\n\n#sk-container-id-2 div.sk-estimator.fitted {\n  /* fitted */\n  background-color: var(--sklearn-color-fitted-level-0);\n}\n\n/* on hover */\n#sk-container-id-2 div.sk-estimator:hover {\n  /* unfitted */\n  background-color: var(--sklearn-color-unfitted-level-2);\n}\n\n#sk-container-id-2 div.sk-estimator.fitted:hover {\n  /* fitted */\n  background-color: var(--sklearn-color-fitted-level-2);\n}\n\n/* Specification for estimator info (e.g. \"i\" and \"?\") */\n\n/* Common style for \"i\" and \"?\" */\n\n.sk-estimator-doc-link,\na:link.sk-estimator-doc-link,\na:visited.sk-estimator-doc-link {\n  float: right;\n  font-size: smaller;\n  line-height: 1em;\n  font-family: monospace;\n  background-color: var(--sklearn-color-background);\n  border-radius: 1em;\n  height: 1em;\n  width: 1em;\n  text-decoration: none !important;\n  margin-left: 1ex;\n  /* unfitted */\n  border: var(--sklearn-color-unfitted-level-1) 1pt solid;\n  color: var(--sklearn-color-unfitted-level-1);\n}\n\n.sk-estimator-doc-link.fitted,\na:link.sk-estimator-doc-link.fitted,\na:visited.sk-estimator-doc-link.fitted {\n  /* fitted */\n  border: var(--sklearn-color-fitted-level-1) 1pt solid;\n  color: var(--sklearn-color-fitted-level-1);\n}\n\n/* On hover */\ndiv.sk-estimator:hover .sk-estimator-doc-link:hover,\n.sk-estimator-doc-link:hover,\ndiv.sk-label-container:hover .sk-estimator-doc-link:hover,\n.sk-estimator-doc-link:hover {\n  /* unfitted */\n  background-color: var(--sklearn-color-unfitted-level-3);\n  color: var(--sklearn-color-background);\n  text-decoration: none;\n}\n\ndiv.sk-estimator.fitted:hover .sk-estimator-doc-link.fitted:hover,\n.sk-estimator-doc-link.fitted:hover,\ndiv.sk-label-container:hover .sk-estimator-doc-link.fitted:hover,\n.sk-estimator-doc-link.fitted:hover {\n  /* fitted */\n  background-color: var(--sklearn-color-fitted-level-3);\n  color: var(--sklearn-color-background);\n  text-decoration: none;\n}\n\n/* Span, style for the box shown on hovering the info icon */\n.sk-estimator-doc-link span {\n  display: none;\n  z-index: 9999;\n  position: relative;\n  font-weight: normal;\n  right: .2ex;\n  padding: .5ex;\n  margin: .5ex;\n  width: min-content;\n  min-width: 20ex;\n  max-width: 50ex;\n  color: var(--sklearn-color-text);\n  box-shadow: 2pt 2pt 4pt #999;\n  /* unfitted */\n  background: var(--sklearn-color-unfitted-level-0);\n  border: .5pt solid var(--sklearn-color-unfitted-level-3);\n}\n\n.sk-estimator-doc-link.fitted span {\n  /* fitted */\n  background: var(--sklearn-color-fitted-level-0);\n  border: var(--sklearn-color-fitted-level-3);\n}\n\n.sk-estimator-doc-link:hover span {\n  display: block;\n}\n\n/* \"?\"-specific style due to the `<a>` HTML tag */\n\n#sk-container-id-2 a.estimator_doc_link {\n  float: right;\n  font-size: 1rem;\n  line-height: 1em;\n  font-family: monospace;\n  background-color: var(--sklearn-color-background);\n  border-radius: 1rem;\n  height: 1rem;\n  width: 1rem;\n  text-decoration: none;\n  /* unfitted */\n  color: var(--sklearn-color-unfitted-level-1);\n  border: var(--sklearn-color-unfitted-level-1) 1pt solid;\n}\n\n#sk-container-id-2 a.estimator_doc_link.fitted {\n  /* fitted */\n  border: var(--sklearn-color-fitted-level-1) 1pt solid;\n  color: var(--sklearn-color-fitted-level-1);\n}\n\n/* On hover */\n#sk-container-id-2 a.estimator_doc_link:hover {\n  /* unfitted */\n  background-color: var(--sklearn-color-unfitted-level-3);\n  color: var(--sklearn-color-background);\n  text-decoration: none;\n}\n\n#sk-container-id-2 a.estimator_doc_link.fitted:hover {\n  /* fitted */\n  background-color: var(--sklearn-color-fitted-level-3);\n}\n</style><div id=\"sk-container-id-2\" class=\"sk-top-container\"><div class=\"sk-text-repr-fallback\"><pre>SGDClassifier(max_iter=5, random_state=42)</pre><b>In a Jupyter environment, please rerun this cell to show the HTML representation or trust the notebook. <br />On GitHub, the HTML representation is unable to render, please try loading this page with nbviewer.org.</b></div><div class=\"sk-container\" hidden><div class=\"sk-item\"><div class=\"sk-estimator fitted sk-toggleable\"><input class=\"sk-toggleable__control sk-hidden--visually\" id=\"sk-estimator-id-2\" type=\"checkbox\" checked><label for=\"sk-estimator-id-2\" class=\"sk-toggleable__label fitted sk-toggleable__label-arrow fitted\">&nbsp;&nbsp;SGDClassifier<a class=\"sk-estimator-doc-link fitted\" rel=\"noreferrer\" target=\"_blank\" href=\"https://scikit-learn.org/1.5/modules/generated/sklearn.linear_model.SGDClassifier.html\">?<span>Documentation for SGDClassifier</span></a><span class=\"sk-estimator-doc-link fitted\">i<span>Fitted</span></span></label><div class=\"sk-toggleable__content fitted\"><pre>SGDClassifier(max_iter=5, random_state=42)</pre></div> </div></div></div></div>"
     },
     "execution_count": 105,
     "metadata": {},
     "output_type": "execute_result"
    }
   ],
   "source": [
    "from sklearn.linear_model import SGDClassifier\n",
    "\n",
    "# 创建一个SGDClassifier实例，设置最大迭代次数为5，随机状态为42以确保结果可复现\n",
    "sgd_clf = SGDClassifier(max_iter=5, random_state=42)\n",
    "\n",
    "# 使用训练数据X_train及其对应的二值化标签y_train_1来训练模型\n",
    "# 目标是让模型学会区分数字'1'和其他数字\n",
    "sgd_clf.fit(X_train, y_train_1)"
   ]
  },
  {
   "cell_type": "code",
   "execution_count": 106,
   "metadata": {
    "ExecuteTime": {
     "end_time": "2025-02-04T14:11:06.830513100Z",
     "start_time": "2025-02-04T14:11:06.826515200Z"
    }
   },
   "outputs": [
    {
     "data": {
      "text/plain": "array([ True])"
     },
     "execution_count": 106,
     "metadata": {},
     "output_type": "execute_result"
    }
   ],
   "source": [
    "# 使用训练好的 SGD 分类器 (sgd_clf) 对单个样本进行预测\n",
    "# X.iloc[35000] 表示从数据集 X 中提取索引为 35000 的样本（特征数据）\n",
    "# [X.iloc[35000]] 将单个样本包装成一个列表，因为 predict 方法通常接受批量数据输入\n",
    "# sgd_clf.predict() 是模型预测方法，返回输入样本的预测结果\n",
    "sgd_clf.predict([X.iloc[35000]])"
   ]
  },
  {
   "cell_type": "code",
   "execution_count": 107,
   "metadata": {
    "ExecuteTime": {
     "end_time": "2025-02-04T14:11:06.845456900Z",
     "start_time": "2025-02-04T14:11:06.831512400Z"
    }
   },
   "outputs": [
    {
     "data": {
      "text/plain": "'1'"
     },
     "execution_count": 107,
     "metadata": {},
     "output_type": "execute_result"
    }
   ],
   "source": [
    "y[35000]\n",
    "# 上面是true，这里就看看实际标签是不是“1”，打印出来是1，所以没问题"
   ]
  },
  {
   "cell_type": "markdown",
   "source": [
    "## 使用工具包进行交叉验证"
   ],
   "metadata": {
    "collapsed": false
   }
  },
  {
   "cell_type": "code",
   "execution_count": 108,
   "metadata": {
    "ExecuteTime": {
     "end_time": "2025-02-04T14:11:08.934312400Z",
     "start_time": "2025-02-04T14:11:06.951861Z"
    }
   },
   "outputs": [
    {
     "data": {
      "text/plain": "array([0.9905 , 0.991  , 0.98985])"
     },
     "execution_count": 108,
     "metadata": {},
     "output_type": "execute_result"
    }
   ],
   "source": [
    "# 导入交叉验证评估工具 cross_val_score\n",
    "from sklearn.model_selection import cross_val_score\n",
    "\n",
    "# 使用交叉验证评估 SGD 分类器 (sgd_clf) 的性能\n",
    "# cross_val_score 是用于计算模型在交叉验证中得分的函数\n",
    "# 参数说明：\n",
    "#   - sgd_clf: 训练好的 SGD 分类器模型\n",
    "#   - X_train: 训练集的特征数据\n",
    "#   - y_train_1: 训练集的标签数据（假设是二分类问题，标签为 5 或非 5）\n",
    "#   - cv=3: 使用 3 折交叉验证（将数据分成 3 份，轮流用其中 1 份作为验证集，其余作为训练集）\n",
    "#   - scoring='accuracy': 使用准确率（accuracy）作为评估指标\n",
    "cross_val_score(sgd_clf, X_train, y_train_1, cv=3, scoring='accuracy')"
   ]
  },
  {
   "cell_type": "code",
   "outputs": [
    {
     "data": {
      "text/plain": "array([0.9885    , 0.99016667, 0.98683333, 0.9745    , 0.98333333,\n       0.99233333, 0.9875    , 0.99016667, 0.983     , 0.991     ])"
     },
     "execution_count": 109,
     "metadata": {},
     "output_type": "execute_result"
    }
   ],
   "source": [
    "# 导入交叉验证评估工具 cross_val_score\n",
    "from sklearn.model_selection import cross_val_score\n",
    "\n",
    "# 使用交叉验证评估 SGD 分类器 (sgd_clf) 的性能\n",
    "# cross_val_score 是用于计算模型在交叉验证中得分的函数\n",
    "# 参数说明：\n",
    "#   - sgd_clf: 训练好的 SGD 分类器模型\n",
    "#   - X_train: 训练集的特征数据\n",
    "#   - y_train_1: 训练集的标签数据（假设是二分类问题，标签为 1 或非 1）\n",
    "#   - cv=3: 使用 10 折交叉验证（将数据分成 10 份，轮流用其中 1 份作为验证集，其余作为训练集）\n",
    "#   - scoring='accuracy': 使用准确率（accuracy）作为评估指标\n",
    "cross_val_score(sgd_clf, X_train, y_train_1, cv=10, scoring='accuracy')"
   ],
   "metadata": {
    "collapsed": false,
    "ExecuteTime": {
     "end_time": "2025-02-04T14:11:15.653958300Z",
     "start_time": "2025-02-04T14:11:08.984057200Z"
    }
   },
   "execution_count": 109
  },
  {
   "cell_type": "code",
   "execution_count": 110,
   "metadata": {
    "ExecuteTime": {
     "end_time": "2025-02-04T14:11:15.659946900Z",
     "start_time": "2025-02-04T14:11:15.655958300Z"
    }
   },
   "outputs": [
    {
     "data": {
      "text/plain": "(60000, 784)"
     },
     "execution_count": 110,
     "metadata": {},
     "output_type": "execute_result"
    }
   ],
   "source": [
    "X_train.shape"
   ]
  },
  {
   "cell_type": "code",
   "execution_count": 111,
   "metadata": {
    "ExecuteTime": {
     "end_time": "2025-02-04T14:11:15.678734200Z",
     "start_time": "2025-02-04T14:11:15.659946900Z"
    }
   },
   "outputs": [
    {
     "data": {
      "text/plain": "(60000,)"
     },
     "execution_count": 111,
     "metadata": {},
     "output_type": "execute_result"
    }
   ],
   "source": [
    "y_train_1.shape"
   ]
  },
  {
   "cell_type": "markdown",
   "source": [
    "## 手动进行交叉验证"
   ],
   "metadata": {
    "collapsed": false
   }
  },
  {
   "cell_type": "code",
   "execution_count": 112,
   "metadata": {
    "ExecuteTime": {
     "end_time": "2025-02-04T14:11:17.496454700Z",
     "start_time": "2025-02-04T14:11:15.667734100Z"
    }
   },
   "outputs": [
    {
     "name": "stdout",
     "output_type": "stream",
     "text": [
      "0.862\n",
      "0.8716\n",
      "0.84715\n"
     ]
    }
   ],
   "source": [
    "# 导入 StratifiedKFold 和 clone 工具\n",
    "# StratifiedKFold 用于分层 K 折交叉验证，确保每一折的类别分布与整体一致\n",
    "# clone 用于创建一个模型的副本，避免修改原始模型\n",
    "from sklearn.model_selection import StratifiedKFold\n",
    "from sklearn.base import clone\n",
    "\n",
    "# 初始化 StratifiedKFold 对象\n",
    "# n_splits=3 表示将数据分成 3 折\n",
    "# shuffle=True 表示在划分数据前先打乱数据顺序\n",
    "# random_state=42 设置随机种子，确保结果可复现\n",
    "skflods = StratifiedKFold(n_splits=3, shuffle=True, random_state=42)\n",
    "\n",
    "# 使用 StratifiedKFold 对训练集进行分层 K 折交叉验证\n",
    "# train_index 和 test_index 分别是每一折的训练集和测试集的索引\n",
    "for train_index, test_index in skflods.split(X_train, y_train_1):\n",
    "    # 克隆 SGD 分类器模型，创建一个独立的副本\n",
    "    clone_clf = clone(sgd_clf)\n",
    "    \n",
    "    # 根据当前折的训练集索引，提取训练集的特征和标签\n",
    "    X_train_folds = X_train.iloc[train_index]\n",
    "    y_train_folds = y_train_1[train_index]\n",
    "    \n",
    "    # 根据当前折的测试集索引，提取测试集的特征和标签\n",
    "    X_test_folds = X_train.iloc[test_index]\n",
    "    y_test_folds = y_train_1[test_index]\n",
    "    \n",
    "    # 使用当前折的训练集训练克隆的模型\n",
    "    clone_clf.fit(X_train_folds, y_train_folds)\n",
    "    \n",
    "    # 使用训练好的模型对当前折的测试集进行预测\n",
    "    y_pred = clone_clf.predict(X_test_folds)\n",
    "    \n",
    "    # 计算预测正确的样本数量\n",
    "    n_correct = sum(y_pred == y_test_folds)\n",
    "    \n",
    "    # 计算并打印当前折的准确率（预测正确的比例）\n",
    "    print(n_correct / len(y_pred))"
   ]
  },
  {
   "cell_type": "markdown",
   "metadata": {},
   "source": [
    "### Confusion Matrix-混淆矩阵"
   ]
  },
  {
   "cell_type": "markdown",
   "metadata": {},
   "source": [
    "![title](./img/Problem.png)"
   ]
  },
  {
   "cell_type": "markdown",
   "source": [
    "在分类任务中，特别是二分类问题中，TP（True Positives）、FP（False Positives）、FN（False Negatives）和TN（True Negatives）是评估模型性能的关键指标，定义如下：\n",
    "\n",
    "- TP (True Positives): 真阳性。指的是实际为正类且被模型正确预测为正类的样本数量。\n",
    "- FP (False Positives): 假阳性。指的是实际为负类但被模型错误地预测为正类的样本数量。\n",
    "- FN (False Negatives): 假阴性。指的是实际为正类但被模型错误地预测为负类的样本数量。\n",
    "- TN (True Negatives): 真阴性。指的是实际为负类且被模型正确预测为负类的样本数量。"
   ],
   "metadata": {
    "collapsed": false
   }
  },
  {
   "cell_type": "code",
   "execution_count": 113,
   "metadata": {
    "collapsed": true,
    "ExecuteTime": {
     "end_time": "2025-02-04T14:11:19.063420Z",
     "start_time": "2025-02-04T14:11:17.480900200Z"
    }
   },
   "outputs": [],
   "source": [
    "# 导入交叉验证预测函数cross_val_predict\n",
    "from sklearn.model_selection import cross_val_predict\n",
    "\n",
    "# 使用3折交叉验证生成训练集的预测结果\n",
    "# 参数说明：\n",
    "# - sgd_clf: 预定义的随机梯度下降分类器（SGDClassifier）\n",
    "# - X_train: 训练集的特征数据\n",
    "# - y_train_1: 目标标签，此处为二元分类问题（例如判断是否为数字1）\n",
    "# - cv=3: 指定3折交叉验证，将数据分为3份，依次用其中2份训练，1份预测\n",
    "# 返回值y_train_pred: 包含每个样本预测结果的数组，通过交叉验证避免模型过拟合训练数据\n",
    "y_train_pred = cross_val_predict(sgd_clf, X_train, y_train_1, cv=3)"
   ]
  },
  {
   "cell_type": "code",
   "execution_count": 114,
   "metadata": {
    "ExecuteTime": {
     "end_time": "2025-02-04T14:11:19.070039500Z",
     "start_time": "2025-02-04T14:11:19.064420200Z"
    }
   },
   "outputs": [
    {
     "data": {
      "text/plain": "(60000,)"
     },
     "execution_count": 114,
     "metadata": {},
     "output_type": "execute_result"
    }
   ],
   "source": [
    "# 查看y_train_pred的形状\n",
    "# y_train_pred是通过交叉验证生成的预测结果数组\n",
    "# 它的形状表示预测结果的数量，通常与训练集的样本数量一致\n",
    "# 返回值是一个元组，表示数组的维度\n",
    "y_train_pred.shape"
   ]
  },
  {
   "cell_type": "code",
   "execution_count": 115,
   "metadata": {
    "ExecuteTime": {
     "end_time": "2025-02-04T14:11:19.085562200Z",
     "start_time": "2025-02-04T14:11:19.070039500Z"
    }
   },
   "outputs": [
    {
     "name": "stdout",
     "output_type": "stream",
     "text": [
      "(60000, 784)\n"
     ]
    }
   ],
   "source": [
    "# 获取训练数据集X_train的形状（维度信息）\n",
    "# shape属性返回一个包含数组各维度大小的元组\n",
    "# 例如对于二维数组，shape[0]是行数，shape[1]是列数\n",
    "print(X_train.shape)  # 打印X_train的形状"
   ]
  },
  {
   "cell_type": "code",
   "execution_count": 116,
   "metadata": {
    "ExecuteTime": {
     "end_time": "2025-02-04T14:11:20.351262900Z",
     "start_time": "2025-02-04T14:11:20.268081100Z"
    }
   },
   "outputs": [
    {
     "name": "stdout",
     "output_type": "stream",
     "text": [
      "[[52985   273]\n",
      " [  300  6442]]\n"
     ]
    },
    {
     "data": {
      "text/plain": "<Figure size 800x600 with 2 Axes>",
      "image/png": "[encoded data removed]"
     },
     "metadata": {},
     "output_type": "display_data"
    }
   ],
   "source": [
    "# 导入confusion_matrix函数\n",
    "from sklearn.metrics import confusion_matrix\n",
    "import matplotlib.pyplot as plt\n",
    "import seaborn as sns\n",
    "# 使用confusion_matrix函数计算并生成训练集上的混淆矩阵\n",
    "# 参数y_train_1是训练数据集的真实标签\n",
    "# 参数y_train_pred是对应训练数据集上模型的预测标签\n",
    "# 返回结果是一个二维数组，其中：\n",
    "# 第i行第j列的元素表示实际属于第i类但被预测为第j类的样本数量\n",
    "cm = confusion_matrix(y_train_1, y_train_pred)\n",
    "\n",
    "# 打印混淆矩阵\n",
    "print(cm)\n",
    "\n",
    "# 使用 Seaborn 的 heatmap 函数绘制混淆矩阵\n",
    "plt.figure(figsize=(8, 6))  # 设置图形大小\n",
    "sns.heatmap(cm, annot=True, fmt='d', cmap='Reds', \n",
    "            xticklabels=['Not 1', '1'], yticklabels=['Not 1', '1'])\n",
    "\n",
    "plt.title('matrix', fontsize=16)\n",
    "plt.xlabel('pre', fontsize=14)\n",
    "plt.ylabel('true', fontsize=14)\n",
    "\n",
    "# 显示图形\n",
    "plt.show()"
   ]
  },
  {
   "cell_type": "markdown",
   "source": [
    "negative class  [[ **true negatives** , **false positives** ],\n",
    " \n",
    "positive class  [ **false negatives** , **true positives** ]]\n",
    "\n",
    "* true negatives:  53,985个数据被正确的分为非1类别\n",
    "* false positives：273张被错误的分为1类别\n",
    "\n",
    "* false negatives：300张错误的分为非1类别\n",
    "* true positives： 6442张被正确的分为1类别\n",
    "\n",
    "## 一个完美的分类器应该只有**true positives** 和 **true negatives**, 即主对角线元素不为0，其余元素为0"
   ],
   "metadata": {
    "collapsed": false
   }
  },
  {
   "cell_type": "markdown",
   "metadata": {},
   "source": [
    "### Precision and Recall\n",
    "\n",
    "\n",
    "### **$ precision = \\frac {TP} {TP + FP} $**\n",
    "\n",
    "\n",
    "### **$ recall = \\frac {TP} {TP + FN} $**"
   ]
  },
  {
   "cell_type": "markdown",
   "metadata": {},
   "source": [
    "![title](./img/混淆矩阵与分类性能指标示例.png)"
   ]
  },
  {
   "cell_type": "code",
   "execution_count": 117,
   "metadata": {
    "ExecuteTime": {
     "end_time": "2025-02-04T14:11:22.800950200Z",
     "start_time": "2025-02-04T14:11:22.779130Z"
    }
   },
   "outputs": [
    {
     "data": {
      "text/plain": "0.9593447505584513"
     },
     "execution_count": 117,
     "metadata": {},
     "output_type": "execute_result"
    }
   ],
   "source": [
    "from sklearn.metrics import precision_score,recall_score\n",
    "precision_score(y_train_1,y_train_pred)"
   ]
  },
  {
   "cell_type": "code",
   "execution_count": 156,
   "metadata": {
    "ExecuteTime": {
     "end_time": "2025-02-04T14:19:48.538197600Z",
     "start_time": "2025-02-04T14:19:48.478545100Z"
    }
   },
   "outputs": [
    {
     "data": {
      "text/plain": "0.9555028181548502"
     },
     "execution_count": 156,
     "metadata": {},
     "output_type": "execute_result"
    }
   ],
   "source": [
    "recall_score(y_train_1,y_train_pred)\n",
    "# 召回率"
   ]
  },
  {
   "cell_type": "markdown",
   "metadata": {},
   "source": [
    "将**Precision** 和 **Recall**结合到一个称为**F1 score** 的指标,调和平均值给予低值更多权重。 因此，如果召回和精确度都很高，分类器将获得高F 1分数。\n",
    "\n",
    "### $ F_1  = $ $2\\over {1\\over precision}+{1\\over recall} $ $=$ $2×$ $precision×recall\\over precision+recall $ $=$ $TP\\over {TP}+{FN + FP\\over 2}$"
   ]
  },
  {
   "cell_type": "code",
   "execution_count": 157,
   "metadata": {
    "ExecuteTime": {
     "end_time": "2025-02-04T14:19:49.291582800Z",
     "start_time": "2025-02-04T14:19:49.258631900Z"
    }
   },
   "outputs": [
    {
     "data": {
      "text/plain": "0.9574199301478784"
     },
     "execution_count": 157,
     "metadata": {},
     "output_type": "execute_result"
    }
   ],
   "source": [
    "from sklearn.metrics import f1_score\n",
    "f1_score(y_train_1,y_train_pred)"
   ]
  },
  {
   "cell_type": "markdown",
   "metadata": {},
   "source": [
    "### 阈值对结果的影响"
   ]
  },
  {
   "cell_type": "markdown",
   "metadata": {},
   "source": [
    "![title](./img/不同阈值下的精确率和召回率变化示例.png)"
   ]
  },
  {
   "cell_type": "code",
   "execution_count": 173,
   "metadata": {
    "ExecuteTime": {
     "end_time": "2025-02-04T14:20:56.603874800Z",
     "start_time": "2025-02-04T14:20:56.584393400Z"
    }
   },
   "outputs": [
    {
     "name": "stdout",
     "output_type": "stream",
     "text": [
      "Decision function score for sample 35000: [166791.30564515]\n"
     ]
    }
   ],
   "source": [
    "# 使用训练好的 SGD 分类器 (sgd_clf) 对单个样本进行决策函数值计算\n",
    "# decision_function 方法返回每个样本属于正类（这里是数字 '1'）的置信度分数\n",
    "y_scores = sgd_clf.decision_function([X.iloc[35000]])\n",
    "print(\"Decision function score for sample 35000:\", y_scores)"
   ]
  },
  {
   "cell_type": "code",
   "execution_count": 174,
   "metadata": {
    "ExecuteTime": {
     "end_time": "2025-02-04T14:20:57.138003500Z",
     "start_time": "2025-02-04T14:20:57.092733600Z"
    }
   },
   "outputs": [
    {
     "name": "stdout",
     "output_type": "stream",
     "text": [
      "Prediction with threshold of 50000: [ True]\n"
     ]
    }
   ],
   "source": [
    "# 设定一个阈值 t 来手动决定分类结果\n",
    "# 如果决策函数值大于这个阈值，则认为该样本属于正类\n",
    "t = 50000\n",
    "y_pred = (y_scores > t)\n",
    "print(\"Prediction with threshold of 50000:\", y_pred)"
   ]
  },
  {
   "cell_type": "markdown",
   "metadata": {},
   "source": [
    "Scikit-Learn不允许直接设置阈值，但它可以得到决策分数，调用其**decision_function（）**方法，而不是调用分类器的**predict（）**方法，该方法返回每个实例的分数，然后使用想要的**阈值**根据这些分数进行预测："
   ]
  },
  {
   "cell_type": "code",
   "execution_count": 175,
   "metadata": {
    "collapsed": true,
    "ExecuteTime": {
     "end_time": "2025-02-04T14:20:59.118737600Z",
     "start_time": "2025-02-04T14:20:57.250980200Z"
    }
   },
   "outputs": [],
   "source": [
    "# 使用 cross_val_predict 函数进行交叉验证预测，并获取决策函数值\n",
    "# cv=3 表示使用 3 折交叉验证；method=\"decision_function\" 指定返回决策函数值而不是默认的概率估计\n",
    "y_scores = cross_val_predict(sgd_clf, X_train, y_train_1, cv=3,\n",
    "                             method=\"decision_function\")"
   ]
  },
  {
   "cell_type": "code",
   "execution_count": 176,
   "metadata": {
    "ExecuteTime": {
     "end_time": "2025-02-04T14:20:59.120738Z",
     "start_time": "2025-02-04T14:20:59.107722600Z"
    }
   },
   "outputs": [
    {
     "name": "stdout",
     "output_type": "stream",
     "text": [
      "First 10 decision function scores from cross-validation:\n",
      " [ -993793.57094401  -792034.55721758  -368429.86266686  -657246.17518583\n",
      " -1063521.3805351   -868383.19576801 -1310177.73205922  -931904.25806185\n",
      "  -755448.10653871 -1089568.8235572 ]\n"
     ]
    }
   ],
   "source": [
    "# 打印前10个样本的决策函数值\n",
    "print(\"First 10 decision function scores from cross-validation:\\n\", y_scores[:10])"
   ]
  },
  {
   "cell_type": "code",
   "execution_count": 177,
   "metadata": {
    "ExecuteTime": {
     "end_time": "2025-02-04T14:20:59.134202500Z",
     "start_time": "2025-02-04T14:20:59.111742900Z"
    }
   },
   "outputs": [],
   "source": [
    "# 计算精确率、召回率和对应的阈值\n",
    "# precision_recall_curve 函数基于真实的标签 (y_train_1) 和预测的得分 (y_scores) 来计算这些指标\n",
    "from sklearn.metrics import precision_recall_curve\n",
    "precisions, recalls, thresholds = precision_recall_curve(y_train_1, y_scores)"
   ]
  },
  {
   "cell_type": "code",
   "execution_count": 178,
   "metadata": {
    "ExecuteTime": {
     "end_time": "2025-02-04T14:20:59.135736100Z",
     "start_time": "2025-02-04T14:20:59.128301400Z"
    }
   },
   "outputs": [
    {
     "data": {
      "text/plain": "(60000,)"
     },
     "execution_count": 178,
     "metadata": {},
     "output_type": "execute_result"
    }
   ],
   "source": [
    "# 查看训练集标签的真实形状\n",
    "y_train_1.shape"
   ]
  },
  {
   "cell_type": "code",
   "execution_count": 179,
   "metadata": {
    "ExecuteTime": {
     "end_time": "2025-02-04T14:20:59.164815600Z",
     "start_time": "2025-02-04T14:20:59.132202900Z"
    }
   },
   "outputs": [
    {
     "data": {
      "text/plain": "(60000,)"
     },
     "execution_count": 179,
     "metadata": {},
     "output_type": "execute_result"
    }
   ],
   "source": [
    "# 查看阈值数组的形状\n",
    "thresholds.shape"
   ]
  },
  {
   "cell_type": "code",
   "execution_count": 180,
   "metadata": {
    "ExecuteTime": {
     "end_time": "2025-02-04T14:20:59.165810Z",
     "start_time": "2025-02-04T14:20:59.137244Z"
    }
   },
   "outputs": [
    {
     "data": {
      "text/plain": "array([0.11236667, 0.11236854, 0.11237041, 0.11237229, 0.11237416,\n       0.11237603, 0.1123779 , 0.11237978, 0.11238165, 0.11238352])"
     },
     "execution_count": 180,
     "metadata": {},
     "output_type": "execute_result"
    }
   ],
   "source": [
    "precisions[:10]"
   ]
  },
  {
   "cell_type": "code",
   "execution_count": 181,
   "metadata": {
    "ExecuteTime": {
     "end_time": "2025-02-04T14:20:59.166810Z",
     "start_time": "2025-02-04T14:20:59.143037800Z"
    }
   },
   "outputs": [
    {
     "data": {
      "text/plain": "(60001,)"
     },
     "execution_count": 181,
     "metadata": {},
     "output_type": "execute_result"
    }
   ],
   "source": [
    "# 查看精确率数组的形状\n",
    "precisions.shape"
   ]
  },
  {
   "cell_type": "code",
   "execution_count": 182,
   "metadata": {
    "ExecuteTime": {
     "end_time": "2025-02-04T14:20:59.179810100Z",
     "start_time": "2025-02-04T14:20:59.148713800Z"
    }
   },
   "outputs": [
    {
     "data": {
      "text/plain": "(60001,)"
     },
     "execution_count": 182,
     "metadata": {},
     "output_type": "execute_result"
    }
   ],
   "source": [
    "# 查看召回率数组的形状\n",
    "recalls.shape"
   ]
  },
  {
   "cell_type": "code",
   "execution_count": 183,
   "metadata": {
    "ExecuteTime": {
     "end_time": "2025-02-04T14:20:59.252924600Z",
     "start_time": "2025-02-04T14:20:59.157810700Z"
    }
   },
   "outputs": [
    {
     "data": {
      "text/plain": "<Figure size 800x400 with 0 Axes>"
     },
     "metadata": {},
     "output_type": "display_data"
    },
    {
     "data": {
      "text/plain": "<Figure size 1000x600 with 1 Axes>",
      "image/png": "[encoded data removed]"
     },
     "metadata": {},
     "output_type": "display_data"
    }
   ],
   "source": [
    "def plot_precision_recall_vs_threshold(precisions, recalls, thresholds):\n",
    "    \"\"\"\n",
    "    绘制精确率和召回率相对于阈值的变化图。\n",
    "\n",
    "    参数:\n",
    "    precisions (list): 精确率列表。\n",
    "    recalls (list): 召回率列表。\n",
    "    thresholds (list): 阈值列表。\n",
    "    \"\"\"\n",
    "    plt.figure(figsize=(10, 6))  \n",
    "    plt.plot(thresholds, precisions[:-1], \"b--\", label=\"Precision\")  \n",
    "    plt.plot(thresholds, recalls[:-1], \"g-\", label=\"Recall\")  \n",
    "\n",
    "    plt.xlabel(\"Threshold\", fontsize=14)  \n",
    "    plt.ylabel(\"Precision/Recall\", fontsize=14)  \n",
    "    plt.title(\"Precision and Recall vs. Threshold\", fontsize=16)  \n",
    "    plt.legend(loc=\"upper left\", fontsize=12)  \n",
    "    plt.grid(True) \n",
    "    plt.ylim([0, 1])  \n",
    "    plt.xlim([min(thresholds), max(thresholds)])  \n",
    "    \n",
    "plt.figure(figsize=(8, 4))\n",
    "plot_precision_recall_vs_threshold(precisions,recalls,thresholds)\n",
    "plt.xlim([-700000, 390000])\n",
    "plt.show()"
   ]
  },
  {
   "cell_type": "code",
   "execution_count": 184,
   "metadata": {
    "ExecuteTime": {
     "end_time": "2025-02-04T14:20:59.327972100Z",
     "start_time": "2025-02-04T14:20:59.252924600Z"
    }
   },
   "outputs": [
    {
     "data": {
      "text/plain": "<Figure size 800x600 with 1 Axes>",
      "image/png": "[encoded data removed]"
     },
     "metadata": {},
     "output_type": "display_data"
    }
   ],
   "source": [
    "def plot_precision_vs_recall(precisions, recalls):\n",
    "    plt.plot(recalls, \n",
    "             precisions, \n",
    "             \"b-\", \n",
    "             linewidth=2)\n",
    "    \n",
    "    plt.xlabel(\"Recall\", fontsize=16)\n",
    "    plt.ylabel(\"Precision\", fontsize=16)\n",
    "    plt.axis([0, 1, 0, 1])\n",
    "\n",
    "plt.figure(figsize=(8, 6))\n",
    "plot_precision_vs_recall(precisions, recalls)\n",
    "plt.show()"
   ]
  },
  {
   "cell_type": "markdown",
   "metadata": {},
   "source": [
    "### ROC curves\n",
    "**receiver operating characteristic (ROC)** 曲线是二元分类中的常用评估方法\n",
    "* 它与精确度/召回曲线非常相似，但ROC曲线不是绘制精确度与召回率，而是绘制**true positive rate(TPR)** 与**false positive rate(FPR)** \n",
    "\n",
    "* 要绘制ROC曲线，首先需要使用**roc_curve（）**函数计算各种阈值的**TPR和FPR**：\n",
    "\n",
    "TPR = TP / (TP + FN) (Recall)\n",
    "\n",
    "FPR = FP / (FP + TN)"
   ]
  },
  {
   "cell_type": "code",
   "execution_count": 185,
   "metadata": {
    "collapsed": true,
    "ExecuteTime": {
     "end_time": "2025-02-04T14:20:59.328972600Z",
     "start_time": "2025-02-04T14:20:59.313762600Z"
    }
   },
   "outputs": [],
   "source": [
    "from sklearn.metrics import roc_curve, auc\n",
    "fpr, tpr, thresholds = roc_curve(y_train_1, y_scores)"
   ]
  },
  {
   "cell_type": "code",
   "execution_count": 186,
   "metadata": {
    "ExecuteTime": {
     "end_time": "2025-02-04T14:20:59.420386600Z",
     "start_time": "2025-02-04T14:20:59.329972500Z"
    }
   },
   "outputs": [
    {
     "data": {
      "text/plain": "<Figure size 800x600 with 1 Axes>",
      "image/png": "[encoded data removed]"
     },
     "metadata": {},
     "output_type": "display_data"
    }
   ],
   "source": [
    "import matplotlib.pyplot as plt\n",
    "from sklearn.metrics import roc_curve, auc\n",
    "\n",
    "def plot_roc_curve(fpr, tpr, roc_auc, label=None):\n",
    "    \"\"\"\n",
    "    绘制ROC曲线并显示AUC面积。\n",
    "\n",
    "    参数:\n",
    "    fpr (list): 假正例率列表。\n",
    "    tpr (list): 真正例率列表。\n",
    "    roc_auc (float): ROC曲线下的面积（AUC值）。\n",
    "    label (str): 图例标签。\n",
    "    \"\"\"\n",
    "    plt.figure(figsize=(8, 6))\n",
    "    plt.plot(fpr, tpr, color='darkorange', lw=2, label=f'ROC curve (area = {roc_auc:.2f})')\n",
    "    plt.plot([0, 1], [0, 1], color='navy', lw=2, linestyle='--')\n",
    "    plt.xlim([0.0, 1.0])\n",
    "    plt.ylim([0.0, 1.05])\n",
    "    plt.xlabel('False Positive Rate', fontsize=16)\n",
    "    plt.ylabel('True Positive Rate', fontsize=16)\n",
    "    plt.title('Receiver Operating Characteristic')\n",
    "    plt.legend(loc=\"lower right\")\n",
    "    plt.grid(True)  # 添加网格线\n",
    "\n",
    "\n",
    "# 计算ROC曲线上的点\n",
    "fpr, tpr, thresholds = roc_curve(y_train_1, y_scores)\n",
    "\n",
    "# 计算AUC值\n",
    "roc_auc = auc(fpr, tpr)\n",
    "\n",
    "# 绘制ROC曲线并显示AUC面积\n",
    "plot_roc_curve(fpr, tpr, roc_auc)\n",
    "plt.show()"
   ]
  },
  {
   "cell_type": "markdown",
   "metadata": {},
   "source": [
    "**虚线表示纯随机分类器的ROC曲线**; 一个好的分类器尽可能远离该线（朝左上角）。\n",
    "\n",
    "比较分类器的一种方法是测量曲线下面积（AUC）。完美分类器的ROC AUC**等于1**，而纯随机分类器的ROC AUC**等于0.5**。 Scikit-Learn提供了计算ROC AUC的函数："
   ]
  },
  {
   "cell_type": "code",
   "execution_count": 187,
   "metadata": {
    "ExecuteTime": {
     "end_time": "2025-02-04T14:20:59.446824300Z",
     "start_time": "2025-02-04T14:20:59.422624300Z"
    }
   },
   "outputs": [
    {
     "data": {
      "text/plain": "0.9972526261202149"
     },
     "execution_count": 187,
     "metadata": {},
     "output_type": "execute_result"
    }
   ],
   "source": [
    "from sklearn.metrics import roc_auc_score\n",
    "\n",
    "roc_auc_score(y_train_1, y_scores)"
   ]
  },
  {
   "cell_type": "code",
   "execution_count": 188,
   "metadata": {
    "collapsed": true,
    "ExecuteTime": {
     "end_time": "2025-02-04T14:20:59.517271500Z",
     "start_time": "2025-02-04T14:20:59.438778100Z"
    }
   },
   "outputs": [
    {
     "data": {
      "text/plain": "<Figure size 640x480 with 1 Axes>",
      "image/png": "[encoded data removed]"
     },
     "metadata": {},
     "output_type": "display_data"
    }
   ],
   "source": [
    "from sklearn.metrics import roc_curve, auc\n",
    "import matplotlib.pyplot as plt\n",
    "import numpy as np\n",
    "\n",
    "# 假设真实标签\n",
    "y_true = np.array([0] * 90 + [1] * 10)  # 90个负类和10个正类\n",
    "\n",
    "# 假设模型预测的概率得分\n",
    "# 让正类的得分显著高于负类，以获得更好的区分能力\n",
    "y_scores = np.concatenate([np.random.rand(80) * 0.1, np.random.rand(20) * 0.9 + 0.1])\n",
    "\n",
    "# 计算ROC曲线上的点\n",
    "fpr, tpr, thresholds = roc_curve(y_true, y_scores)\n",
    "\n",
    "# 计算AUC值\n",
    "roc_auc = auc(fpr, tpr)\n",
    "\n",
    "# 绘制ROC曲线\n",
    "plt.figure()\n",
    "plt.plot(fpr, tpr, color='darkorange', lw=2, label='ROC curve (area = %0.2f)' % roc_auc)\n",
    "plt.plot([0, 1], [0, 1], color='navy', lw=2, linestyle='--')\n",
    "plt.xlim([0.0, 1.0])\n",
    "plt.ylim([0.0, 1.05])\n",
    "plt.xlabel('False Positive Rate')\n",
    "plt.ylabel('True Positive Rate')\n",
    "plt.title('Receiver Operating Characteristic')\n",
    "plt.legend(loc=\"lower right\")\n",
    "plt.show()"
   ]
  },
  {
   "cell_type": "code",
   "outputs": [],
   "source": [],
   "metadata": {
    "collapsed": false,
    "ExecuteTime": {
     "end_time": "2025-02-04T14:20:59.518271900Z",
     "start_time": "2025-02-04T14:20:59.511118800Z"
    }
   },
   "execution_count": 188
  },
  {
   "cell_type": "code",
   "outputs": [],
   "source": [],
   "metadata": {
    "collapsed": false
   }
  }
 ],
 "metadata": {
  "kernelspec": {
   "display_name": "Python 3",
   "language": "python",
   "name": "python3"
  },
  "language_info": {
   "codemirror_mode": {
    "name": "ipython",
    "version": 3
   },
   "file_extension": ".py",
   "mimetype": "text/x-python",
   "name": "python",
   "nbconvert_exporter": "python",
   "pygments_lexer": "ipython3",
   "version": "3.6.3"
  }
 },
 "nbformat": 4,
 "nbformat_minor": 2
}
