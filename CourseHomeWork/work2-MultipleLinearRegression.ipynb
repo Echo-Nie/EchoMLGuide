{
 "cells": [
  {
   "cell_type": "code",
   "outputs": [],
   "source": [
    "import torch\n",
    "import torch.nn as nn\n",
    "import torch.optim as optim\n",
    "from torch.utils.data import DataLoader, TensorDataset\n",
    "\n",
    "import numpy as np\n",
    "import plotly\n",
    "import plotly.graph_objs as go\n",
    "from sklearn.model_selection import train_test_split\n",
    "from sklearn.preprocessing import StandardScaler\n",
    "from sklearn.metrics import r2_score, mean_squared_error\n",
    "from sklearn.linear_model import LinearRegression"
   ],
   "metadata": {
    "collapsed": false,
    "ExecuteTime": {
     "end_time": "2025-03-11T03:26:37.914905400Z",
     "start_time": "2025-03-11T03:26:37.877710200Z"
    }
   },
   "id": "e828c242500432ea",
   "execution_count": 9
  },
  {
   "cell_type": "code",
   "outputs": [],
   "source": [
    "data = np.loadtxt(\"./data2/multiple_variable.txt\", delimiter=\"\\t\")"
   ],
   "metadata": {
    "collapsed": false,
    "ExecuteTime": {
     "end_time": "2025-03-11T03:26:37.916131Z",
     "start_time": "2025-03-11T03:26:37.901266100Z"
    }
   },
   "id": "7580e371b4c4630b",
   "execution_count": 10
  },
  {
   "cell_type": "code",
   "outputs": [],
   "source": [
    "# 特征和目标变量\n",
    "X = data[:, :-1]  # 假设最后一列是目标变量\n",
    "y = data[:, -1]\n",
    "\n",
    "# 数据预处理\n",
    "# 标准化特征\n",
    "scaler = StandardScaler()\n",
    "X = scaler.fit_transform(X)\n",
    "\n",
    "# 转换为 PyTorch 张量\n",
    "X_tensor = torch.tensor(X, dtype=torch.float32)\n",
    "y_tensor = torch.tensor(y, dtype=torch.float32).reshape(-1, 1)"
   ],
   "metadata": {
    "collapsed": false,
    "ExecuteTime": {
     "end_time": "2025-03-11T03:26:37.956567500Z",
     "start_time": "2025-03-11T03:26:37.919497500Z"
    }
   },
   "id": "1b7a2b93bef3c8f0",
   "execution_count": 11
  },
  {
   "cell_type": "code",
   "outputs": [],
   "source": [
    "# 划分训练集和测试集\n",
    "X_train, X_test, y_train, y_test = train_test_split(X_tensor, y_tensor, test_size=0.2, random_state=42)"
   ],
   "metadata": {
    "collapsed": false,
    "ExecuteTime": {
     "end_time": "2025-03-11T03:26:37.958896900Z",
     "start_time": "2025-03-11T03:26:37.928837300Z"
    }
   },
   "id": "d77ef67cf6973870",
   "execution_count": 12
  },
  {
   "cell_type": "code",
   "outputs": [],
   "source": [
    "# 创建数据加载器\n",
    "batch_size = 32\n",
    "train_dataset = TensorDataset(X_train, y_train)\n",
    "train_loader = DataLoader(train_dataset, batch_size=batch_size, shuffle=True)\n",
    "\n",
    "# 定义多变量线性回归模型\n",
    "class MultipleLinearRegression(nn.Module):\n",
    "    def __init__(self, input_features):\n",
    "        super(MultipleLinearRegression, self).__init__()\n",
    "        self.linear = nn.Linear(input_features, 1)\n",
    "        \n",
    "    def forward(self, x):\n",
    "        return self.linear(x)\n",
    "\n",
    "# 初始化模型、损失函数和优化器\n",
    "input_features = X.shape[1]\n",
    "model = MultipleLinearRegression(input_features)\n",
    "criterion = nn.MSELoss()\n",
    "optimizer = optim.SGD(model.parameters(), lr=0.01)\n"
   ],
   "metadata": {
    "collapsed": false,
    "ExecuteTime": {
     "end_time": "2025-03-11T03:26:37.958896900Z",
     "start_time": "2025-03-11T03:26:37.936390900Z"
    }
   },
   "id": "9875c69d57bba2a1",
   "execution_count": 13
  },
  {
   "cell_type": "code",
   "outputs": [
    {
     "name": "stdout",
     "output_type": "stream",
     "text": [
      "Epoch [20/200], Loss: 0.0040\n",
      "Epoch [40/200], Loss: 0.0001\n",
      "Epoch [60/200], Loss: 0.0000\n",
      "Epoch [80/200], Loss: 0.0000\n",
      "Epoch [100/200], Loss: 0.0000\n",
      "Epoch [120/200], Loss: 0.0000\n",
      "Epoch [140/200], Loss: 0.0000\n",
      "Epoch [160/200], Loss: 0.0000\n",
      "Epoch [180/200], Loss: 0.0000\n",
      "Epoch [200/200], Loss: 0.0000\n"
     ]
    }
   ],
   "source": [
    "# 训练模型\n",
    "num_epochs = 200\n",
    "losses = []\n",
    "\n",
    "for epoch in range(num_epochs):\n",
    "    for batch_X, batch_y in train_loader:\n",
    "        # 前向传播\n",
    "        outputs = model(batch_X)\n",
    "        loss = criterion(outputs, batch_y)\n",
    "        \n",
    "        # 反向传播和优化\n",
    "        optimizer.zero_grad()\n",
    "        loss.backward()\n",
    "        optimizer.step()\n",
    "    \n",
    "    # 记录损失\n",
    "    with torch.no_grad():\n",
    "        train_outputs = model(X_train)\n",
    "        epoch_loss = criterion(train_outputs, y_train)\n",
    "        losses.append(epoch_loss.item())\n",
    "    \n",
    "    if (epoch + 1) % 20 == 0:\n",
    "        print(f'Epoch [{epoch + 1}/{num_epochs}], Loss: {epoch_loss.item():.4f}')"
   ],
   "metadata": {
    "collapsed": false,
    "ExecuteTime": {
     "end_time": "2025-03-11T03:26:38.346989900Z",
     "start_time": "2025-03-11T03:26:37.944609700Z"
    }
   },
   "id": "f89492fd0ed19846",
   "execution_count": 14
  },
  {
   "cell_type": "code",
   "outputs": [
    {
     "name": "stdout",
     "output_type": "stream",
     "text": [
      "Training R² Score: 1.0000, Training MSE: 0.0000\n",
      "Testing R² Score: 1.0000, Testing MSE: 0.0000\n"
     ]
    }
   ],
   "source": [
    "# 模型评估\n",
    "with torch.no_grad():\n",
    "    # 训练集评估\n",
    "    train_predictions = model(X_train).numpy()\n",
    "    train_r2 = r2_score(y_train.numpy(), train_predictions)\n",
    "    train_mse = mean_squared_error(y_train.numpy(), train_predictions)\n",
    "    \n",
    "    # 测试集评估\n",
    "    test_predictions = model(X_test).numpy()\n",
    "    test_r2 = r2_score(y_test.numpy(), test_predictions)\n",
    "    test_mse = mean_squared_error(y_test.numpy(), test_predictions)\n",
    "    \n",
    "print(f'Training R² Score: {train_r2:.4f}, Training MSE: {train_mse:.4f}')\n",
    "print(f'Testing R² Score: {test_r2:.4f}, Testing MSE: {test_mse:.4f}')"
   ],
   "metadata": {
    "collapsed": false,
    "ExecuteTime": {
     "end_time": "2025-03-11T03:26:38.354158200Z",
     "start_time": "2025-03-11T03:26:38.346989900Z"
    }
   },
   "id": "66991724d81639a8",
   "execution_count": 15
  },
  {
   "cell_type": "code",
   "execution_count": 16,
   "id": "initial_id",
   "metadata": {
    "collapsed": true,
    "ExecuteTime": {
     "end_time": "2025-03-11T03:26:38.485323900Z",
     "start_time": "2025-03-11T03:26:38.356204300Z"
    }
   },
   "outputs": [
    {
     "data": {
      "text/plain": "<Figure size 1000x600 with 1 Axes>",
      "image/png": "[encoded data removed]"
     },
     "metadata": {},
     "output_type": "display_data"
    },
    {
     "name": "stdout",
     "output_type": "stream",
     "text": [
      "linear.weight: [0.02861651 0.05702899 0.08161838]\n",
      "linear.bias: [0.69451183]\n"
     ]
    }
   ],
   "source": [
    "# 绘制损失曲线\n",
    "import matplotlib.pyplot as plt\n",
    "\n",
    "plt.figure(figsize=(10, 6))\n",
    "plt.plot(range(1, num_epochs + 1), losses, label='Loss', color='skyblue', marker='*', linestyle='-')\n",
    "plt.title(\"Loss During Training\", fontsize=16)\n",
    "plt.xlabel(\"Epoch\", fontsize=14)\n",
    "plt.ylabel(\"Loss\", fontsize=14)\n",
    "plt.legend(fontsize=12)\n",
    "plt.grid(True, linestyle='--', alpha=0.5)\n",
    "plt.show()\n",
    "\n",
    "# 打印模型参数\n",
    "for name, param in model.named_parameters():\n",
    "    if param.requires_grad:\n",
    "        print(f'{name}: {param.data.numpy().flatten()}')"
   ]
  },
  {
   "cell_type": "code",
   "outputs": [
    {
     "ename": "AttributeError",
     "evalue": "'MultipleLinearRegression' object has no attribute 'predict'",
     "output_type": "error",
     "traceback": [
      "\u001B[1;31m---------------------------------------------------------------------------\u001B[0m",
      "\u001B[1;31mAttributeError\u001B[0m                            Traceback (most recent call last)",
      "Cell \u001B[1;32mIn[17], line 15\u001B[0m\n\u001B[0;32m     12\u001B[0m     X_grid \u001B[38;5;241m=\u001B[39m np\u001B[38;5;241m.\u001B[39mhstack([X_grid, np\u001B[38;5;241m.\u001B[39mtile(mean_features[\u001B[38;5;241m2\u001B[39m:], (X_grid\u001B[38;5;241m.\u001B[39mshape[\u001B[38;5;241m0\u001B[39m], \u001B[38;5;241m1\u001B[39m))])\n\u001B[0;32m     14\u001B[0m \u001B[38;5;66;03m# 预测网格点的值\u001B[39;00m\n\u001B[1;32m---> 15\u001B[0m y_grid \u001B[38;5;241m=\u001B[39m \u001B[43mmodel\u001B[49m\u001B[38;5;241;43m.\u001B[39;49m\u001B[43mpredict\u001B[49m(X_grid)\n\u001B[0;32m     16\u001B[0m y_grid \u001B[38;5;241m=\u001B[39m y_grid\u001B[38;5;241m.\u001B[39mreshape(x1_grid\u001B[38;5;241m.\u001B[39mshape)\n\u001B[0;32m     18\u001B[0m \u001B[38;5;66;03m# 创建3D散点图和回归平面\u001B[39;00m\n",
      "File \u001B[1;32mE:\\Hawkes\\CudaTest\\.venv\\Lib\\site-packages\\torch\\nn\\modules\\module.py:1729\u001B[0m, in \u001B[0;36mModule.__getattr__\u001B[1;34m(self, name)\u001B[0m\n\u001B[0;32m   1727\u001B[0m     \u001B[38;5;28;01mif\u001B[39;00m name \u001B[38;5;129;01min\u001B[39;00m modules:\n\u001B[0;32m   1728\u001B[0m         \u001B[38;5;28;01mreturn\u001B[39;00m modules[name]\n\u001B[1;32m-> 1729\u001B[0m \u001B[38;5;28;01mraise\u001B[39;00m \u001B[38;5;167;01mAttributeError\u001B[39;00m(\u001B[38;5;124mf\u001B[39m\u001B[38;5;124m\"\u001B[39m\u001B[38;5;124m'\u001B[39m\u001B[38;5;132;01m{\u001B[39;00m\u001B[38;5;28mtype\u001B[39m(\u001B[38;5;28mself\u001B[39m)\u001B[38;5;241m.\u001B[39m\u001B[38;5;18m__name__\u001B[39m\u001B[38;5;132;01m}\u001B[39;00m\u001B[38;5;124m'\u001B[39m\u001B[38;5;124m object has no attribute \u001B[39m\u001B[38;5;124m'\u001B[39m\u001B[38;5;132;01m{\u001B[39;00mname\u001B[38;5;132;01m}\u001B[39;00m\u001B[38;5;124m'\u001B[39m\u001B[38;5;124m\"\u001B[39m)\n",
      "\u001B[1;31mAttributeError\u001B[0m: 'MultipleLinearRegression' object has no attribute 'predict'"
     ]
    }
   ],
   "source": [
    "# 可视化（假设我们有三个特征，选择前两个特征进行3D展示）\n",
    "if X.shape[1] >= 2:\n",
    "    # 创建网格以绘制回归平面\n",
    "    x1_min, x1_max = X[:, 0].min(), X[:, 0].max()\n",
    "    x2_min, x2_max = X[:, 1].min(), X[:, 1].max()\n",
    "    x1_grid, x2_grid = np.meshgrid(np.linspace(x1_min, x1_max, 50), np.linspace(x2_min, x2_max, 50))\n",
    "    X_grid = np.c_[x1_grid.ravel(), x2_grid.ravel()]\n",
    "\n",
    "    # 如果有更多特征，用均值填充\n",
    "    if X.shape[1] > 2:\n",
    "        mean_features = np.mean(X, axis=0)\n",
    "        X_grid = np.hstack([X_grid, np.tile(mean_features[2:], (X_grid.shape[0], 1))])\n",
    "\n",
    "    # 预测网格点的值\n",
    "    y_grid = model.predict(X_grid)\n",
    "    y_grid = y_grid.reshape(x1_grid.shape)\n",
    "\n",
    "    # 创建3D散点图和回归平面\n",
    "    trace1 = go.Scatter3d(\n",
    "        x=X[:, 0],\n",
    "        y=X[:, 1],\n",
    "        z=y,\n",
    "        mode='markers',\n",
    "        marker=dict(\n",
    "            size=4,\n",
    "            color=y,\n",
    "            colorscale='Viridis',\n",
    "            opacity=0.8\n",
    "        ),\n",
    "        name='Data Points'\n",
    "    )\n",
    "\n",
    "    trace2 = go.Surface(\n",
    "        x=x1_grid,\n",
    "        y=x2_grid,\n",
    "        z=y_grid,\n",
    "        colorscale='Blues',\n",
    "        opacity=0.7,\n",
    "        name='Regression Plane'\n",
    "    )\n",
    "\n",
    "    layout = go.Layout(\n",
    "        title='3D Visualization of Multiple Linear Regression',\n",
    "        scene=dict(\n",
    "            xaxis_title='Feature 1',\n",
    "            yaxis_title='Feature 2',\n",
    "            zaxis_title='Target Variable'\n",
    "        ),\n",
    "        margin=dict(l=0, r=0, b=0, t=40),\n",
    "        height=800,\n",
    "        width=1000\n",
    "    )\n",
    "\n",
    "    fig = go.Figure(data=[trace1, trace2], layout=layout)\n",
    "\n",
    "    # 保存为HTML文件\n",
    "    plotly.offline.plot(fig, filename='multiple_linear_regression.html')\n",
    "\n",
    "    # 如果需要显示图表\n",
    "    fig.show()\n",
    "else:\n",
    "    print(\"需要至少两个特征才能进行3D可视化\")"
   ],
   "metadata": {
    "collapsed": false,
    "ExecuteTime": {
     "end_time": "2025-03-11T03:26:39.088519600Z",
     "start_time": "2025-03-11T03:26:38.488410300Z"
    }
   },
   "id": "91ca26434205e2ab",
   "execution_count": 17
  }
 ],
 "metadata": {
  "kernelspec": {
   "display_name": "Python 3",
   "language": "python",
   "name": "python3"
  },
  "language_info": {
   "codemirror_mode": {
    "name": "ipython",
    "version": 2
   },
   "file_extension": ".py",
   "mimetype": "text/x-python",
   "name": "python",
   "nbconvert_exporter": "python",
   "pygments_lexer": "ipython2",
   "version": "2.7.6"
  }
 },
 "nbformat": 4,
 "nbformat_minor": 5
}
