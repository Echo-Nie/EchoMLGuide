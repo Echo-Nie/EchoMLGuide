{
 "cells": [
  {
   "cell_type": "markdown",
   "source": [
    "# 1 K-Means 实现"
   ],
   "metadata": {
    "collapsed": false
   },
   "id": "a4bd33ddc99f47be"
  },
  {
   "cell_type": "markdown",
   "source": [
    "## 导包"
   ],
   "metadata": {
    "collapsed": false
   },
   "id": "4080f27fcd547d88"
  },
  {
   "cell_type": "code",
   "outputs": [],
   "source": [
    "import pandas as pd\n",
    "import numpy as np\n",
    "import plotly.express as px\n",
    "from sklearn.preprocessing import StandardScaler\n",
    "from sklearn.metrics import silhouette_score\n",
    "from scipy.spatial.distance import pdist, squareform\n",
    "from kneed import KneeLocator\n",
    "import matplotlib.pyplot as plt"
   ],
   "metadata": {
    "collapsed": false,
    "ExecuteTime": {
     "end_time": "2025-04-29T02:56:38.069642700Z",
     "start_time": "2025-04-29T02:56:37.781497700Z"
    }
   },
   "id": "d94961df27171f1b",
   "execution_count": 13
  },
  {
   "cell_type": "markdown",
   "source": [
    "## 数据"
   ],
   "metadata": {
    "collapsed": false
   },
   "id": "596768841267da3"
  },
  {
   "cell_type": "code",
   "outputs": [
    {
     "name": "stdout",
     "output_type": "stream",
     "text": [
      "数据的前 5 行:\n",
      "         X1        X2\n",
      "0  1.842080  4.607572\n",
      "1  5.658583  4.799964\n",
      "2  6.352579  3.290854\n",
      "3  2.904017  4.612204\n",
      "4  3.231979  4.939894\n"
     ]
    },
    {
     "data": {
      "text/plain": "<Figure size 1200x600 with 1 Axes>",
      "image/png": "[encoded data removed]"
     },
     "metadata": {},
     "output_type": "display_data"
    }
   ],
   "source": [
    "url = \"clusterData/ex7data2.csv\"  \n",
    "data = pd.read_csv(url, header=None, names=[\"X1\", \"X2\"])\n",
    "print(\"数据的前 5 行:\")\n",
    "print(data.head())\n",
    "plt.figure(figsize=(12, 6))\n",
    "\n",
    "plt.subplot(1, 2, 1)\n",
    "plt.scatter(data[\"X1\"], data[\"X2\"], c='blue', marker='o')\n",
    "plt.title('Original Data')\n",
    "plt.xlabel('X1')\n",
    "plt.ylabel('X2')\n",
    "\n",
    "plt.show()"
   ],
   "metadata": {
    "collapsed": false,
    "ExecuteTime": {
     "end_time": "2025-04-29T02:56:38.193512900Z",
     "start_time": "2025-04-29T02:56:38.072812Z"
    }
   },
   "id": "3d6c55748d6313e4",
   "execution_count": 14
  },
  {
   "cell_type": "markdown",
   "source": [
    "## K - Means"
   ],
   "metadata": {
    "collapsed": false
   },
   "id": "f1526cf24c2be68a"
  },
  {
   "cell_type": "code",
   "outputs": [],
   "source": [
    "class KMeans:\n",
    "    def __init__(self, n_clusters, max_iter=100, random_state=None, noise_threshold=None):\n",
    "        \"\"\"\n",
    "        初始化KMeans类\n",
    "        :param n_clusters: 聚类的簇数\n",
    "        :param max_iter: 最大迭代次数\n",
    "        :param random_state: 随机种子，用于初始化聚类中心\n",
    "        :param noise_threshold: 噪声点的阈值，动态计算\n",
    "        \"\"\"\n",
    "        \n",
    "        self.n_clusters = n_clusters  \n",
    "        self.max_iter = max_iter  \n",
    "        self.random_state = random_state  \n",
    "        self.noise_threshold = noise_threshold \n",
    "        self.centroids = None  \n",
    "        self.labels = None  \n",
    "\n",
    "    def initialize_centroids(self, X):\n",
    "        \"\"\"\n",
    "        随机初始化聚类中心\n",
    "        :param X: 输入数据\n",
    "        :return: 随机初始化的聚类中心\n",
    "        \"\"\"\n",
    "        np.random.seed(self.random_state)  \n",
    "        random_idx = np.random.permutation(X.shape[0])  \n",
    "        centroids = X[random_idx[:self.n_clusters]]  \n",
    "        return centroids\n",
    "\n",
    "    def compute_centroids(self, X, labels):\n",
    "        \"\"\"\n",
    "        计算新的聚类中心\n",
    "        :param X: 输入数据\n",
    "        :param labels: 当前聚类标签\n",
    "        :return: 新的聚类中心\n",
    "        \"\"\"\n",
    "        centroids = []  \n",
    "        for i in range(self.n_clusters):  \n",
    "            cluster_points = X[labels == i]  \n",
    "            if len(cluster_points) > 0:  \n",
    "                centroids.append(cluster_points.mean(axis=0))  # 计算当前簇的均值作为新的聚类中心\n",
    "            else:\n",
    "                centroids.append(self.centroids[i])  \n",
    "        return np.array(centroids)  \n",
    "\n",
    "    def compute_labels(self, X, centroids):\n",
    "        \"\"\"\n",
    "        计算每个点的聚类标签\n",
    "        :param X: 输入数据\n",
    "        :param centroids: 当前聚类中心\n",
    "        :return: 聚类标签\n",
    "        \"\"\"\n",
    "        distances = np.linalg.norm(X[:, np.newaxis] - centroids, axis=2)  # 计算每个点到每个聚类中心的距离,ns,nf;ns,1,nf;ns,nc,nf;\n",
    "        labels = np.argmin(distances, axis=1)  # 为每个点分配距离最近的聚类中心的标签\n",
    "        return labels\n",
    "\n",
    "    def compute_noise_points(self, X, labels, centroids):\n",
    "        \"\"\"\n",
    "        计算噪声点\n",
    "        :param X: 输入数据\n",
    "        :param labels: 当前聚类标签\n",
    "        :param centroids: 当前聚类中心\n",
    "        :return: 噪声点的索引\n",
    "        \"\"\"\n",
    "        \n",
    "        if self.noise_threshold is None:  # 噪声阈值未指定\n",
    "            # 动态计算噪声点阈值，例如使用所有点到最近聚类中心的平均距离\n",
    "            distances = np.linalg.norm(X - centroids[labels], axis=1)  # 计算每个点到其聚类中心的距离\n",
    "            self.noise_threshold = np.mean(distances) * 2  # 两倍平均距离作为阈值\n",
    "\n",
    "        noise_points = []  \n",
    "        for i in range(X.shape[0]):  \n",
    "            if labels[i] == -1:  \n",
    "                continue  \n",
    "            distance = np.linalg.norm(X[i] - centroids[labels[i]])  \n",
    "            \n",
    "            if distance > self.noise_threshold:  \n",
    "                noise_points.append(i)  \n",
    "        return noise_points\n",
    "\n",
    "    def fit(self, X):\n",
    "        \"\"\"\n",
    "        执行算法\n",
    "        :param X: 输入数据\n",
    "        \"\"\"\n",
    "        global labels\n",
    "        self.centroids = self.initialize_centroids(X)  \n",
    "        for _ in range(self.max_iter):  \n",
    "            labels = self.compute_labels(X, self.centroids)  \n",
    "            new_centroids = self.compute_centroids(X, labels)  \n",
    "            if np.all(self.centroids == new_centroids):  # 新旧一致\n",
    "                break  \n",
    "            self.centroids = new_centroids  # 更新\n",
    "\n",
    "        # 噪声点\n",
    "        noise_points = self.compute_noise_points(X, labels, self.centroids)  \n",
    "        labels = labels.copy()  # 复制当前标签\n",
    "        labels[noise_points] = -1  # 噪声点记为-1\n",
    "        self.labels = labels  # 更新"
   ],
   "metadata": {
    "collapsed": false,
    "ExecuteTime": {
     "end_time": "2025-04-29T02:56:38.235030700Z",
     "start_time": "2025-04-29T02:56:38.183681100Z"
    }
   },
   "id": "735d6f37ec763da6",
   "execution_count": 15
  },
  {
   "cell_type": "markdown",
   "source": [
    "## 聚类结果"
   ],
   "metadata": {
    "collapsed": false
   },
   "id": "d1cf91dd210cbc74"
  },
  {
   "cell_type": "code",
   "execution_count": 21,
   "id": "initial_id",
   "metadata": {
    "collapsed": true,
    "ExecuteTime": {
     "end_time": "2025-04-29T02:57:18.219470200Z",
     "start_time": "2025-04-29T02:57:18.179275500Z"
    }
   },
   "outputs": [
    {
     "data": {
      "application/vnd.plotly.v1+json": {
       "data": [
        {
         "hovertemplate": "特征 1=%{x}<br>特征 2=%{y}<br>簇=%{marker.color}<extra></extra>",
         "legendgroup": "",
         "marker": {
          "color": [
           0,
           -1,
           1,
           0,
           0,
           0,
           0,
           0,
           0,
           0,
           0,
           0,
           0,
           0,
           0,
           0,
           -1,
           0,
           0,
           0,
           0,
           0,
           0,
           0,
           0,
           0,
           0,
           0,
           0,
           0,
           0,
           0,
           0,
           0,
           0,
           0,
           0,
           0,
           0,
           0,
           0,
           0,
           0,
           0,
           0,
           0,
           0,
           -1,
           0,
           0,
           0,
           0,
           0,
           0,
           0,
           0,
           -1,
           0,
           0,
           0,
           0,
           0,
           0,
           0,
           0,
           0,
           0,
           -1,
           0,
           0,
           0,
           0,
           0,
           0,
           0,
           0,
           0,
           0,
           0,
           -1,
           -1,
           0,
           0,
           0,
           -1,
           0,
           0,
           0,
           0,
           0,
           0,
           0,
           -1,
           0,
           0,
           -1,
           0,
           0,
           0,
           0,
           2,
           2,
           2,
           -1,
           2,
           2,
           2,
           2,
           2,
           -1,
           2,
           -1,
           2,
           2,
           2,
           2,
           2,
           2,
           2,
           2,
           2,
           2,
           2,
           2,
           2,
           2,
           2,
           2,
           2,
           2,
           2,
           2,
           2,
           2,
           2,
           2,
           2,
           2,
           2,
           2,
           2,
           2,
           2,
           2,
           2,
           2,
           2,
           2,
           2,
           -1,
           2,
           2,
           2,
           2,
           2,
           2,
           2,
           2,
           2,
           2,
           2,
           2,
           2,
           2,
           2,
           2,
           2,
           2,
           2,
           2,
           2,
           2,
           2,
           2,
           2,
           2,
           2,
           2,
           2,
           2,
           2,
           2,
           2,
           2,
           2,
           2,
           2,
           2,
           2,
           2,
           2,
           2,
           2,
           2,
           2,
           2,
           -1,
           2,
           -1,
           2,
           1,
           1,
           1,
           1,
           1,
           1,
           1,
           1,
           1,
           1,
           1,
           1,
           1,
           1,
           1,
           1,
           1,
           1,
           -1,
           1,
           1,
           1,
           1,
           1,
           1,
           1,
           1,
           1,
           1,
           1,
           1,
           1,
           1,
           1,
           1,
           1,
           1,
           1,
           1,
           -1,
           1,
           -1,
           1,
           1,
           1,
           1,
           1,
           1,
           1,
           1,
           1,
           1,
           1,
           1,
           1,
           1,
           1,
           1,
           1,
           1,
           1,
           1,
           -1,
           1,
           1,
           -1,
           -1,
           1,
           1,
           1,
           1,
           1,
           1,
           -1,
           1,
           1,
           1,
           -1,
           1,
           1,
           1,
           1,
           1,
           1,
           1,
           1,
           1,
           1,
           1,
           1,
           1,
           1,
           1,
           1,
           1,
           1,
           1,
           1,
           1,
           0
          ],
          "coloraxis": "coloraxis",
          "symbol": "circle"
         },
         "mode": "markers",
         "name": "",
         "orientation": "v",
         "showlegend": false,
         "x": [
          1.8420795311261555,
          5.658583120618816,
          6.35257892020234,
          2.904016525281363,
          3.2319791572074426,
          1.2479226797003768,
          1.97619886162512,
          2.23454135329173,
          2.9834075716604347,
          2.979703906925933,
          2.114964111296854,
          2.121695429851929,
          1.514352903108069,
          2.1697922709882342,
          0.4185237324421214,
          2.47053694822282,
          4.060691324409988,
          3.0070893379030883,
          0.6663234559392024,
          3.162186503015328,
          0.5115525803972185,
          3.134280099558564,
          2.049745950070817,
          0.665827852422697,
          1.0173201258293545,
          2.178935676285175,
          2.8596261496674256,
          1.308825883599691,
          0.9925324554451718,
          1.4037263817193335,
          2.660465724208499,
          2.7999588192935536,
          2.069953453750165,
          3.2976518091928098,
          1.8929765958025333,
          2.5598306396203334,
          1.153540312065502,
          2.2515075383287666,
          2.209602955078801,
          1.5914193717920568,
          1.6783803760299154,
          2.5914864171878738,
          2.8099644223368205,
          0.953116272018942,
          1.5177527591280904,
          3.231142476556044,
          2.5418001057260597,
          3.8142286544291366,
          1.684958290504217,
          2.1777717336419573,
          1.81733279599126,
          1.857765534416548,
          3.0308430076969914,
          2.9265829487849206,
          3.4349354315667204,
          3.203671162333278,
          0.1051180394588671,
          1.4059791628972462,
          2.241850515528486,
          1.3667839525662495,
          1.707254821599876,
          1.9190956589454176,
          1.601567313150977,
          0.3796343714386487,
          2.02134502433816,
          1.120367372903417,
          2.2690142804657305,
          -0.2451271276617017,
          2.128578426246194,
          1.8441998110251223,
          2.3255825322728683,
          1.5233411310579263,
          1.0228512846407858,
          1.8538273720727831,
          2.2032165835580124,
          1.2009998119131844,
          1.0206270273889793,
          1.604932266103602,
          0.4764735513254672,
          0.3639172040966811,
          0.3131984500482181,
          2.2866483910158677,
          2.154601389641329,
          2.0528851765061518,
          4.888043316568204,
          2.403047466924176,
          2.568694529536674,
          1.8297599254285275,
          0.5484522320181779,
          3.171096186656912,
          3.042020694060989,
          2.404277749844845,
          0.1778346644668875,
          2.6142867842398347,
          2.3009779823162417,
          3.9077931723316217,
          2.0567054240880105,
          1.3813349700697428,
          1.1607417785188765,
          1.7281819943472312,
          3.2036062057779144,
          3.061929184157545,
          4.017149169469283,
          1.4026082193785905,
          4.081649507530082,
          3.1527308085072985,
          3.4518635089270657,
          3.8538431375932074,
          1.5744925512126997,
          4.72372077755589,
          2.8796108406812584,
          0.9679134767334232,
          1.5317810704822732,
          4.138359152178729,
          3.161090214815601,
          2.951770389082617,
          3.2784429546227427,
          2.1270184993118018,
          3.3264888481347885,
          2.5437148945678403,
          3.233946999894361,
          4.431529762704597,
          3.5647862538954813,
          4.255884820986278,
          4.053865813388372,
          3.0897017602678742,
          2.8473445933325423,
          3.6358604869258224,
          1.955388637259492,
          2.8838400473503127,
          3.484443872790626,
          3.497984124763063,
          2.455759339638348,
          3.203800095269826,
          3.006772536867357,
          1.965479737608877,
          2.1798933319744465,
          2.612070293192836,
          3.9554991153824592,
          3.648464816547517,
          4.184500106526444,
          3.78757230175684,
          3.3006365498721384,
          3.02836363232283,
          3.1841217562056885,
          4.169118966225332,
          3.240242111019093,
          3.915960677768852,
          2.9697971618738923,
          1.1299385570386,
          2.717307986328911,
          3.1189016958972675,
          2.4051802002605527,
          2.9581842907871807,
          1.6545630850790554,
          2.3977580681531183,
          2.284093050088675,
          2.795887243076254,
          3.4115627708591223,
          3.5066352127611102,
          3.9361602886035065,
          3.902066572515992,
          2.610363960633363,
          4.372718610315967,
          3.083491363119661,
          2.1159935015877323,
          2.156534044871015,
          2.144911011682092,
          1.8493552407584717,
          4.159081601434126,
          2.764944992381324,
          3.905611531758359,
          2.540716724478098,
          4.277830681418135,
          3.3105816690186938,
          2.155206613462027,
          3.713636588104567,
          3.5401018635547064,
          1.6051999144777125,
          1.7516433715618278,
          3.124051226487953,
          2.3719878528947334,
          2.534460192788522,
          3.683446503425531,
          3.267013396283058,
          3.941591391535048,
          3.2645514018838435,
          4.304711382466017,
          2.684993757562959,
          3.126351840441264,
          2.9429435569199853,
          3.118765410908555,
          2.0235897790944337,
          3.622029314554192,
          2.4286587861147773,
          2.0951729618655994,
          5.292394521306933,
          2.0729170855338177,
          0.9462320825757168,
          2.739119075886318,
          6.005065336398827,
          6.0569641091736495,
          6.770127666721521,
          5.640346781001489,
          5.633254027407438,
          6.174431565363438,
          7.246947941745138,
          5.581629063930656,
          5.362720504336735,
          4.70775773362377,
          7.428920981004157,
          6.641072482533531,
          6.374736515665913,
          7.287803244048407,
          6.2029523094848535,
          5.387360412681998,
          5.667310300677457,
          6.597021551786485,
          7.756605593713768,
          6.632627452617938,
          5.7663495877683415,
          5.994231542030925,
          6.378704072854217,
          5.740362333785032,
          4.616524417150913,
          5.335339987326496,
          5.372939124793692,
          5.036111615427723,
          5.529086767660337,
          6.050869424857448,
          5.132008998429942,
          5.732849448865801,
          6.781107319547244,
          6.448344486992528,
          6.399414819366499,
          5.860679247147698,
          6.447651830577588,
          5.367081109651559,
          5.8873556526849535,
          3.9616246541869216,
          6.284381932579608,
          4.205847888245449,
          5.326155813846448,
          7.171352036284695,
          7.494927502838001,
          7.398072414628061,
          5.024329841014982,
          5.317124783074046,
          5.876552365538852,
          6.037628331680621,
          5.912802727354569,
          6.694513582424757,
          6.0101797788609845,
          6.927219684374198,
          6.335595219108058,
          6.2425707075521615,
          5.578122938363613,
          6.407738625745769,
          6.800295256441381,
          7.216840328780716,
          6.511007399653392,
          4.606305339926791,
          7.655032263472198,
          5.502957590616259,
          6.630606985789793,
          3.4592800643452866,
          8.203398153359817,
          4.9567942756934205,
          5.370526670765466,
          5.697978664307992,
          6.273762709954784,
          5.05274526001882,
          6.885755837329,
          4.187744196259964,
          5.975103279293128,
          6.094571294802686,
          5.723956974354073,
          4.372497673493347,
          6.29206262170893,
          5.145330350868728,
          6.587056504854597,
          5.7876909544557,
          6.727980978712887,
          6.640789386230871,
          6.232288777398539,
          6.217727237731909,
          5.781163010356058,
          6.624472531850962,
          5.195908230361076,
          5.871771805724644,
          5.895620994170579,
          5.617543198026376,
          5.631761031004175,
          5.502586590242818,
          6.482126282928347,
          7.30278708280303,
          6.991984340611751,
          4.825534095511381,
          6.117680550153719,
          0.940489440353196
         ],
         "xaxis": "x",
         "y": [
          4.607571604482282,
          4.799964054441543,
          3.2908544987542663,
          4.612204112815066,
          4.939894052826295,
          4.93267846009402,
          4.434896742381875,
          5.055471681344978,
          4.840464061253519,
          4.806710807986595,
          5.373735865287625,
          5.208542115552275,
          4.77003303264906,
          5.274353538341508,
          4.883125218349286,
          4.804189440854675,
          4.995038620740097,
          4.678977577376825,
          4.871879490418842,
          4.836583005763322,
          4.910529229502589,
          4.961781139153404,
          5.624139495988096,
          5.243992574839312,
          4.844736469192718,
          5.29758701369049,
          5.260419973323453,
          5.301587009101879,
          5.015674237577476,
          4.575276844394842,
          5.196238478566125,
          5.115263227051593,
          4.68467130341947,
          5.592055349989062,
          4.890432088944249,
          5.263977564175146,
          4.678667174337322,
          5.44500310210926,
          4.914692641452207,
          4.832125726643392,
          5.2690382174802215,
          4.925933935454911,
          5.538498989714164,
          5.580371075704837,
          5.038366376905697,
          5.784296646013455,
          4.810987375514933,
          4.735267964925186,
          4.5964355345526,
          4.861540188503138,
          5.133339067003756,
          4.869624135455342,
          5.240575821340838,
          5.096679228841688,
          5.340807411956873,
          4.859247586559391,
          4.729163438461413,
          5.066368224996453,
          4.9244617023247255,
          5.261610953537723,
          4.0423147944003865,
          5.578484465015508,
          4.644530115981849,
          5.261947294103528,
          4.412674449222839,
          5.208807468302654,
          4.618188827708471,
          5.740192366387896,
          5.01149793096124,
          5.031539479749028,
          4.748679619050756,
          4.8791615932566605,
          5.010506504958272,
          5.007524823118074,
          4.9451637873213485,
          4.578297628829255,
          4.629911191127603,
          5.136631390741864,
          5.135359772867848,
          4.73332822591586,
          5.546946435563959,
          5.007669903345754,
          5.462829590785801,
          4.779585588568983,
          5.506707952236728,
          5.081473257321243,
          5.206878859954676,
          4.596572882818212,
          5.02672980169041,
          5.594645195347297,
          5.007583730318273,
          5.02587069662433,
          5.297650317664919,
          5.222874141673731,
          4.972358439910461,
          5.094646759998636,
          5.233913255151575,
          5.001949624092176,
          4.677279268477293,
          5.36028437434454,
          0.7222149034236587,
          1.5719210992485262,
          1.1607064678528023,
          1.0872653580630562,
          0.872003428739607,
          0.9815587114697814,
          0.427840834415254,
          0.7920479033506194,
          1.3481112594910267,
          0.6204413584594055,
          0.7541374110660162,
          1.1616681947644747,
          1.1005485242324748,
          1.2478097932507732,
          1.2942289318415272,
          0.8958314324641911,
          1.750439261520662,
          0.9567204249582624,
          1.2801906639493872,
          0.9573271589986068,
          1.0820232401768624,
          0.5404100030365326,
          1.117647142657849,
          0.906439572236069,
          0.5329186210157868,
          1.0881444823769872,
          0.2675925319316858,
          1.1216019434923548,
          1.321568569161503,
          0.8045450649676619,
          1.1355144824379535,
          1.1004640210347765,
          0.7890465416425023,
          1.0272807463558216,
          0.625191281541267,
          1.2173076049288782,
          1.308798305086229,
          0.9907685574084988,
          0.8326929897165098,
          1.628496974308694,
          0.4535620312008207,
          1.4544290445226995,
          1.2810758821084065,
          1.356351889867326,
          1.4141079887295975,
          0.2058103774770208,
          1.1487623727645102,
          1.012257735490282,
          1.0121030599292014,
          0.770852843682668,
          0.4869755461809559,
          0.6943833555225435,
          1.117781226884269,
          1.0188709568753616,
          1.1863117476010434,
          1.2472138735497558,
          0.6486546903964623,
          0.9952666365513956,
          1.1596362974706589,
          0.7387810441941597,
          1.4620293406882423,
          1.277787507048313,
          0.8802760188273794,
          1.0291409195709396,
          1.1963264443568251,
          0.7930365000883433,
          0.4035886068351918,
          1.1358239904983922,
          1.022326436980281,
          0.6172073250362708,
          1.431489505711269,
          1.1657531498432012,
          0.9839251586297414,
          1.180136796728559,
          1.031244609451246,
          0.8069656235345628,
          0.4581320816161256,
          0.864461352047468,
          1.109805302134234,
          0.6885353609048434,
          0.6782175665304078,
          1.4278960719163036,
          1.215620812788234,
          1.228345375360799,
          0.3205667586236743,
          0.8257743797704139,
          1.3836868984255504,
          1.107259950849141,
          0.3534494332134992,
          1.2806892975237558,
          1.028250762556938,
          1.332854585759118,
          0.447716138160535,
          1.2864376300924134,
          0.8649928452669559,
          1.1401049110506878,
          0.3687329803035045,
          1.1676385057503424,
          0.2452225283820371,
          1.100722839009583,
          2.727841713587384,
          2.9497043325204046,
          3.214114215383589,
          2.6938528220486404,
          2.990023386279589,
          3.2902648803675434,
          2.9687742421277563,
          3.3351037462060464,
          3.1468119220583373,
          2.787108694840931,
          3.466794896488929,
          3.0599873792651504,
          2.5625305919319183,
          2.7517988465447667,
          2.6785617898769707,
          2.267373457548288,
          2.9647786730521912,
          3.070823760206949,
          3.1560446461824103,
          3.147991826330151,
          3.1427170744346853,
          2.7570785849923065,
          2.650223208757134,
          3.103913060350143,
          2.7932071508556477,
          3.039286944297795,
          2.816847755729278,
          2.924860873447376,
          3.336815764978288,
          2.8070259443516634,
          2.198121948150304,
          2.8773813216769755,
          3.05676866020901,
          3.3529922496221007,
          2.8975694844683377,
          2.995771287055466,
          3.1656094546343536,
          3.1950255161881342,
          3.346155661401808,
          2.72025046330054,
          3.1736064316433823,
          2.8164736834371635,
          3.033140472272608,
          3.4122727007565823,
          2.8401875400218235,
          3.4848703059391672,
          2.9868317853348563,
          2.817413560279757,
          3.216611091154561,
          2.6830351150892136,
          2.8563193765165886,
          2.890560826096426,
          2.724013381935843,
          3.199600255791053,
          3.30864291189389,
          2.791792687595131,
          3.247660162539342,
          2.6755495094705086,
          3.17579577996112,
          2.728965745190048,
          2.7273190659262743,
          3.329458003252386,
          2.870956284238776,
          2.6292463440042564,
          3.015023010300451,
          2.684784447523264,
          2.4169349520394388,
          2.897762969043581,
          2.4495481341998326,
          2.949771319733885,
          2.242560360890311,
          2.756921629697973,
          2.88845269257306,
          2.8928346339770745,
          3.0259190998465844,
          2.618679749914378,
          3.04454219379047,
          3.054882171401887,
          2.775738556384176,
          4.132256915057223,
          3.375083452766874,
          3.2925512732268567,
          3.004398300225435,
          2.4106883885905326,
          2.7285090223319397,
          2.80994633217706,
          3.079877867015621,
          2.744537425706766,
          3.06972936535178,
          3.2551773046247563,
          2.898439774276882,
          2.597507103274049,
          3.047587472381008,
          3.118690754276496,
          2.550851397135404,
          3.3801597885210763,
          2.98706728722547,
          2.7796166391805075,
          2.8547565521647957,
          5.715568023943128
         ],
         "yaxis": "y",
         "type": "scatter"
        },
        {
         "marker": {
          "color": "red",
          "line": {
           "color": "DarkSlateGrey",
           "width": 2
          },
          "size": 20,
          "symbol": "x"
         },
         "mode": "markers",
         "name": "聚类中心",
         "x": [
          1.9836315199271528,
          6.024403169393791,
          3.0345825446066734
         ],
         "y": [
          5.030430038142128,
          2.972660536945895,
          0.9985308034402209
         ],
         "type": "scatter"
        },
        {
         "marker": {
          "color": "black",
          "line": {
           "color": "black",
           "width": 2
          },
          "size": 5
         },
         "mode": "markers",
         "name": "噪声点",
         "x": [
          5.658583120618816,
          4.060691324409988,
          3.8142286544291366,
          0.1051180394588671,
          -0.2451271276617017,
          0.3639172040966811,
          0.3131984500482181,
          4.888043316568204,
          0.1778346644668875,
          3.9077931723316217,
          1.4026082193785905,
          4.72372077755589,
          0.9679134767334232,
          1.1299385570386,
          5.292394521306933,
          0.9462320825757168,
          7.756605593713768,
          3.9616246541869216,
          4.205847888245449,
          7.655032263472198,
          3.4592800643452866,
          8.203398153359817,
          4.187744196259964,
          4.372497673493347
         ],
         "y": [
          4.799964054441543,
          4.995038620740097,
          4.735267964925186,
          4.729163438461413,
          5.740192366387896,
          4.73332822591586,
          5.546946435563959,
          5.506707952236728,
          5.297650317664919,
          5.094646759998636,
          1.0872653580630562,
          0.6204413584594055,
          1.1616681947644747,
          0.770852843682668,
          0.3687329803035045,
          0.2452225283820371,
          3.1560446461824103,
          2.72025046330054,
          2.8164736834371635,
          2.870956284238776,
          2.684784447523264,
          2.4169349520394388,
          2.8928346339770745,
          3.054882171401887
         ],
         "type": "scatter"
        }
       ],
       "layout": {
        "template": {
         "data": {
          "histogram2dcontour": [
           {
            "type": "histogram2dcontour",
            "colorbar": {
             "outlinewidth": 0,
             "ticks": ""
            },
            "colorscale": [
             [
              0.0,
              "#0d0887"
             ],
             [
              0.1111111111111111,
              "#46039f"
             ],
             [
              0.2222222222222222,
              "#7201a8"
             ],
             [
              0.3333333333333333,
              "#9c179e"
             ],
             [
              0.4444444444444444,
              "#bd3786"
             ],
             [
              0.5555555555555556,
              "#d8576b"
             ],
             [
              0.6666666666666666,
              "#ed7953"
             ],
             [
              0.7777777777777778,
              "#fb9f3a"
             ],
             [
              0.8888888888888888,
              "#fdca26"
             ],
             [
              1.0,
              "#f0f921"
             ]
            ]
           }
          ],
          "choropleth": [
           {
            "type": "choropleth",
            "colorbar": {
             "outlinewidth": 0,
             "ticks": ""
            }
           }
          ],
          "histogram2d": [
           {
            "type": "histogram2d",
            "colorbar": {
             "outlinewidth": 0,
             "ticks": ""
            },
            "colorscale": [
             [
              0.0,
              "#0d0887"
             ],
             [
              0.1111111111111111,
              "#46039f"
             ],
             [
              0.2222222222222222,
              "#7201a8"
             ],
             [
              0.3333333333333333,
              "#9c179e"
             ],
             [
              0.4444444444444444,
              "#bd3786"
             ],
             [
              0.5555555555555556,
              "#d8576b"
             ],
             [
              0.6666666666666666,
              "#ed7953"
             ],
             [
              0.7777777777777778,
              "#fb9f3a"
             ],
             [
              0.8888888888888888,
              "#fdca26"
             ],
             [
              1.0,
              "#f0f921"
             ]
            ]
           }
          ],
          "heatmap": [
           {
            "type": "heatmap",
            "colorbar": {
             "outlinewidth": 0,
             "ticks": ""
            },
            "colorscale": [
             [
              0.0,
              "#0d0887"
             ],
             [
              0.1111111111111111,
              "#46039f"
             ],
             [
              0.2222222222222222,
              "#7201a8"
             ],
             [
              0.3333333333333333,
              "#9c179e"
             ],
             [
              0.4444444444444444,
              "#bd3786"
             ],
             [
              0.5555555555555556,
              "#d8576b"
             ],
             [
              0.6666666666666666,
              "#ed7953"
             ],
             [
              0.7777777777777778,
              "#fb9f3a"
             ],
             [
              0.8888888888888888,
              "#fdca26"
             ],
             [
              1.0,
              "#f0f921"
             ]
            ]
           }
          ],
          "heatmapgl": [
           {
            "type": "heatmapgl",
            "colorbar": {
             "outlinewidth": 0,
             "ticks": ""
            },
            "colorscale": [
             [
              0.0,
              "#0d0887"
             ],
             [
              0.1111111111111111,
              "#46039f"
             ],
             [
              0.2222222222222222,
              "#7201a8"
             ],
             [
              0.3333333333333333,
              "#9c179e"
             ],
             [
              0.4444444444444444,
              "#bd3786"
             ],
             [
              0.5555555555555556,
              "#d8576b"
             ],
             [
              0.6666666666666666,
              "#ed7953"
             ],
             [
              0.7777777777777778,
              "#fb9f3a"
             ],
             [
              0.8888888888888888,
              "#fdca26"
             ],
             [
              1.0,
              "#f0f921"
             ]
            ]
           }
          ],
          "contourcarpet": [
           {
            "type": "contourcarpet",
            "colorbar": {
             "outlinewidth": 0,
             "ticks": ""
            }
           }
          ],
          "contour": [
           {
            "type": "contour",
            "colorbar": {
             "outlinewidth": 0,
             "ticks": ""
            },
            "colorscale": [
             [
              0.0,
              "#0d0887"
             ],
             [
              0.1111111111111111,
              "#46039f"
             ],
             [
              0.2222222222222222,
              "#7201a8"
             ],
             [
              0.3333333333333333,
              "#9c179e"
             ],
             [
              0.4444444444444444,
              "#bd3786"
             ],
             [
              0.5555555555555556,
              "#d8576b"
             ],
             [
              0.6666666666666666,
              "#ed7953"
             ],
             [
              0.7777777777777778,
              "#fb9f3a"
             ],
             [
              0.8888888888888888,
              "#fdca26"
             ],
             [
              1.0,
              "#f0f921"
             ]
            ]
           }
          ],
          "surface": [
           {
            "type": "surface",
            "colorbar": {
             "outlinewidth": 0,
             "ticks": ""
            },
            "colorscale": [
             [
              0.0,
              "#0d0887"
             ],
             [
              0.1111111111111111,
              "#46039f"
             ],
             [
              0.2222222222222222,
              "#7201a8"
             ],
             [
              0.3333333333333333,
              "#9c179e"
             ],
             [
              0.4444444444444444,
              "#bd3786"
             ],
             [
              0.5555555555555556,
              "#d8576b"
             ],
             [
              0.6666666666666666,
              "#ed7953"
             ],
             [
              0.7777777777777778,
              "#fb9f3a"
             ],
             [
              0.8888888888888888,
              "#fdca26"
             ],
             [
              1.0,
              "#f0f921"
             ]
            ]
           }
          ],
          "mesh3d": [
           {
            "type": "mesh3d",
            "colorbar": {
             "outlinewidth": 0,
             "ticks": ""
            }
           }
          ],
          "scatter": [
           {
            "fillpattern": {
             "fillmode": "overlay",
             "size": 10,
             "solidity": 0.2
            },
            "type": "scatter"
           }
          ],
          "parcoords": [
           {
            "type": "parcoords",
            "line": {
             "colorbar": {
              "outlinewidth": 0,
              "ticks": ""
             }
            }
           }
          ],
          "scatterpolargl": [
           {
            "type": "scatterpolargl",
            "marker": {
             "colorbar": {
              "outlinewidth": 0,
              "ticks": ""
             }
            }
           }
          ],
          "bar": [
           {
            "error_x": {
             "color": "#2a3f5f"
            },
            "error_y": {
             "color": "#2a3f5f"
            },
            "marker": {
             "line": {
              "color": "#E5ECF6",
              "width": 0.5
             },
             "pattern": {
              "fillmode": "overlay",
              "size": 10,
              "solidity": 0.2
             }
            },
            "type": "bar"
           }
          ],
          "scattergeo": [
           {
            "type": "scattergeo",
            "marker": {
             "colorbar": {
              "outlinewidth": 0,
              "ticks": ""
             }
            }
           }
          ],
          "scatterpolar": [
           {
            "type": "scatterpolar",
            "marker": {
             "colorbar": {
              "outlinewidth": 0,
              "ticks": ""
             }
            }
           }
          ],
          "histogram": [
           {
            "marker": {
             "pattern": {
              "fillmode": "overlay",
              "size": 10,
              "solidity": 0.2
             }
            },
            "type": "histogram"
           }
          ],
          "scattergl": [
           {
            "type": "scattergl",
            "marker": {
             "colorbar": {
              "outlinewidth": 0,
              "ticks": ""
             }
            }
           }
          ],
          "scatter3d": [
           {
            "type": "scatter3d",
            "line": {
             "colorbar": {
              "outlinewidth": 0,
              "ticks": ""
             }
            },
            "marker": {
             "colorbar": {
              "outlinewidth": 0,
              "ticks": ""
             }
            }
           }
          ],
          "scattermapbox": [
           {
            "type": "scattermapbox",
            "marker": {
             "colorbar": {
              "outlinewidth": 0,
              "ticks": ""
             }
            }
           }
          ],
          "scatterternary": [
           {
            "type": "scatterternary",
            "marker": {
             "colorbar": {
              "outlinewidth": 0,
              "ticks": ""
             }
            }
           }
          ],
          "scattercarpet": [
           {
            "type": "scattercarpet",
            "marker": {
             "colorbar": {
              "outlinewidth": 0,
              "ticks": ""
             }
            }
           }
          ],
          "carpet": [
           {
            "aaxis": {
             "endlinecolor": "#2a3f5f",
             "gridcolor": "white",
             "linecolor": "white",
             "minorgridcolor": "white",
             "startlinecolor": "#2a3f5f"
            },
            "baxis": {
             "endlinecolor": "#2a3f5f",
             "gridcolor": "white",
             "linecolor": "white",
             "minorgridcolor": "white",
             "startlinecolor": "#2a3f5f"
            },
            "type": "carpet"
           }
          ],
          "table": [
           {
            "cells": {
             "fill": {
              "color": "#EBF0F8"
             },
             "line": {
              "color": "white"
             }
            },
            "header": {
             "fill": {
              "color": "#C8D4E3"
             },
             "line": {
              "color": "white"
             }
            },
            "type": "table"
           }
          ],
          "barpolar": [
           {
            "marker": {
             "line": {
              "color": "#E5ECF6",
              "width": 0.5
             },
             "pattern": {
              "fillmode": "overlay",
              "size": 10,
              "solidity": 0.2
             }
            },
            "type": "barpolar"
           }
          ],
          "pie": [
           {
            "automargin": true,
            "type": "pie"
           }
          ]
         },
         "layout": {
          "autotypenumbers": "strict",
          "colorway": [
           "#636efa",
           "#EF553B",
           "#00cc96",
           "#ab63fa",
           "#FFA15A",
           "#19d3f3",
           "#FF6692",
           "#B6E880",
           "#FF97FF",
           "#FECB52"
          ],
          "font": {
           "color": "#2a3f5f"
          },
          "hovermode": "closest",
          "hoverlabel": {
           "align": "left"
          },
          "paper_bgcolor": "white",
          "plot_bgcolor": "#E5ECF6",
          "polar": {
           "bgcolor": "#E5ECF6",
           "angularaxis": {
            "gridcolor": "white",
            "linecolor": "white",
            "ticks": ""
           },
           "radialaxis": {
            "gridcolor": "white",
            "linecolor": "white",
            "ticks": ""
           }
          },
          "ternary": {
           "bgcolor": "#E5ECF6",
           "aaxis": {
            "gridcolor": "white",
            "linecolor": "white",
            "ticks": ""
           },
           "baxis": {
            "gridcolor": "white",
            "linecolor": "white",
            "ticks": ""
           },
           "caxis": {
            "gridcolor": "white",
            "linecolor": "white",
            "ticks": ""
           }
          },
          "coloraxis": {
           "colorbar": {
            "outlinewidth": 0,
            "ticks": ""
           }
          },
          "colorscale": {
           "sequential": [
            [
             0.0,
             "#0d0887"
            ],
            [
             0.1111111111111111,
             "#46039f"
            ],
            [
             0.2222222222222222,
             "#7201a8"
            ],
            [
             0.3333333333333333,
             "#9c179e"
            ],
            [
             0.4444444444444444,
             "#bd3786"
            ],
            [
             0.5555555555555556,
             "#d8576b"
            ],
            [
             0.6666666666666666,
             "#ed7953"
            ],
            [
             0.7777777777777778,
             "#fb9f3a"
            ],
            [
             0.8888888888888888,
             "#fdca26"
            ],
            [
             1.0,
             "#f0f921"
            ]
           ],
           "sequentialminus": [
            [
             0.0,
             "#0d0887"
            ],
            [
             0.1111111111111111,
             "#46039f"
            ],
            [
             0.2222222222222222,
             "#7201a8"
            ],
            [
             0.3333333333333333,
             "#9c179e"
            ],
            [
             0.4444444444444444,
             "#bd3786"
            ],
            [
             0.5555555555555556,
             "#d8576b"
            ],
            [
             0.6666666666666666,
             "#ed7953"
            ],
            [
             0.7777777777777778,
             "#fb9f3a"
            ],
            [
             0.8888888888888888,
             "#fdca26"
            ],
            [
             1.0,
             "#f0f921"
            ]
           ],
           "diverging": [
            [
             0,
             "#8e0152"
            ],
            [
             0.1,
             "#c51b7d"
            ],
            [
             0.2,
             "#de77ae"
            ],
            [
             0.3,
             "#f1b6da"
            ],
            [
             0.4,
             "#fde0ef"
            ],
            [
             0.5,
             "#f7f7f7"
            ],
            [
             0.6,
             "#e6f5d0"
            ],
            [
             0.7,
             "#b8e186"
            ],
            [
             0.8,
             "#7fbc41"
            ],
            [
             0.9,
             "#4d9221"
            ],
            [
             1,
             "#276419"
            ]
           ]
          },
          "xaxis": {
           "gridcolor": "white",
           "linecolor": "white",
           "ticks": "",
           "title": {
            "standoff": 15
           },
           "zerolinecolor": "white",
           "automargin": true,
           "zerolinewidth": 2
          },
          "yaxis": {
           "gridcolor": "white",
           "linecolor": "white",
           "ticks": "",
           "title": {
            "standoff": 15
           },
           "zerolinecolor": "white",
           "automargin": true,
           "zerolinewidth": 2
          },
          "scene": {
           "xaxis": {
            "backgroundcolor": "#E5ECF6",
            "gridcolor": "white",
            "linecolor": "white",
            "showbackground": true,
            "ticks": "",
            "zerolinecolor": "white",
            "gridwidth": 2
           },
           "yaxis": {
            "backgroundcolor": "#E5ECF6",
            "gridcolor": "white",
            "linecolor": "white",
            "showbackground": true,
            "ticks": "",
            "zerolinecolor": "white",
            "gridwidth": 2
           },
           "zaxis": {
            "backgroundcolor": "#E5ECF6",
            "gridcolor": "white",
            "linecolor": "white",
            "showbackground": true,
            "ticks": "",
            "zerolinecolor": "white",
            "gridwidth": 2
           }
          },
          "shapedefaults": {
           "line": {
            "color": "#2a3f5f"
           }
          },
          "annotationdefaults": {
           "arrowcolor": "#2a3f5f",
           "arrowhead": 0,
           "arrowwidth": 1
          },
          "geo": {
           "bgcolor": "white",
           "landcolor": "#E5ECF6",
           "subunitcolor": "white",
           "showland": true,
           "showlakes": true,
           "lakecolor": "white"
          },
          "title": {
           "x": 0.05
          },
          "mapbox": {
           "style": "light"
          }
         }
        },
        "xaxis": {
         "anchor": "y",
         "domain": [
          0.0,
          1.0
         ],
         "title": {
          "text": "特征 1"
         }
        },
        "yaxis": {
         "anchor": "x",
         "domain": [
          0.0,
          1.0
         ],
         "title": {
          "text": "特征 2"
         }
        },
        "coloraxis": {
         "colorbar": {
          "title": {
           "text": "簇"
          }
         },
         "colorscale": [
          [
           0.0,
           "#0d0887"
          ],
          [
           0.1111111111111111,
           "#46039f"
          ],
          [
           0.2222222222222222,
           "#7201a8"
          ],
          [
           0.3333333333333333,
           "#9c179e"
          ],
          [
           0.4444444444444444,
           "#bd3786"
          ],
          [
           0.5555555555555556,
           "#d8576b"
          ],
          [
           0.6666666666666666,
           "#ed7953"
          ],
          [
           0.7777777777777778,
           "#fb9f3a"
          ],
          [
           0.8888888888888888,
           "#fdca26"
          ],
          [
           1.0,
           "#f0f921"
          ]
         ]
        },
        "legend": {
         "tracegroupgap": 0
        },
        "title": {
         "text": "K-Means 聚类结果（包含噪声点）"
        }
       },
       "config": {
        "plotlyServerURL": "https://plot.ly"
       }
      },
      "text/html": "<div>                            <div id=\"a49473d8-a338-4034-8c06-7293f301a71a\" class=\"plotly-graph-div\" style=\"height:525px; width:100%;\"></div>            <script type=\"text/javascript\">                require([\"plotly\"], function(Plotly) {                    window.PLOTLYENV=window.PLOTLYENV || {};                                    if (document.getElementById(\"a49473d8-a338-4034-8c06-7293f301a71a\")) {                    Plotly.newPlot(                        \"a49473d8-a338-4034-8c06-7293f301a71a\",                        [{\"hovertemplate\":\"特征 1=%{x}\\u003cbr\\u003e特征 2=%{y}\\u003cbr\\u003e簇=%{marker.color}\\u003cextra\\u003e\\u003c\\u002fextra\\u003e\",\"legendgroup\":\"\",\"marker\":{\"color\":[0,-1,1,0,0,0,0,0,0,0,0,0,0,0,0,0,-1,0,0,0,0,0,0,0,0,0,0,0,0,0,0,0,0,0,0,0,0,0,0,0,0,0,0,0,0,0,0,-1,0,0,0,0,0,0,0,0,-1,0,0,0,0,0,0,0,0,0,0,-1,0,0,0,0,0,0,0,0,0,0,0,-1,-1,0,0,0,-1,0,0,0,0,0,0,0,-1,0,0,-1,0,0,0,0,2,2,2,-1,2,2,2,2,2,-1,2,-1,2,2,2,2,2,2,2,2,2,2,2,2,2,2,2,2,2,2,2,2,2,2,2,2,2,2,2,2,2,2,2,2,2,2,2,2,2,-1,2,2,2,2,2,2,2,2,2,2,2,2,2,2,2,2,2,2,2,2,2,2,2,2,2,2,2,2,2,2,2,2,2,2,2,2,2,2,2,2,2,2,2,2,2,2,-1,2,-1,2,1,1,1,1,1,1,1,1,1,1,1,1,1,1,1,1,1,1,-1,1,1,1,1,1,1,1,1,1,1,1,1,1,1,1,1,1,1,1,1,-1,1,-1,1,1,1,1,1,1,1,1,1,1,1,1,1,1,1,1,1,1,1,1,-1,1,1,-1,-1,1,1,1,1,1,1,-1,1,1,1,-1,1,1,1,1,1,1,1,1,1,1,1,1,1,1,1,1,1,1,1,1,1,0],\"coloraxis\":\"coloraxis\",\"symbol\":\"circle\"},\"mode\":\"markers\",\"name\":\"\",\"orientation\":\"v\",\"showlegend\":false,\"x\":[1.8420795311261555,5.658583120618816,6.35257892020234,2.904016525281363,3.2319791572074426,1.2479226797003768,1.97619886162512,2.23454135329173,2.9834075716604347,2.979703906925933,2.114964111296854,2.121695429851929,1.514352903108069,2.1697922709882342,0.4185237324421214,2.47053694822282,4.060691324409988,3.0070893379030883,0.6663234559392024,3.162186503015328,0.5115525803972185,3.134280099558564,2.049745950070817,0.665827852422697,1.0173201258293545,2.178935676285175,2.8596261496674256,1.308825883599691,0.9925324554451718,1.4037263817193335,2.660465724208499,2.7999588192935536,2.069953453750165,3.2976518091928098,1.8929765958025333,2.5598306396203334,1.153540312065502,2.2515075383287666,2.209602955078801,1.5914193717920568,1.6783803760299154,2.5914864171878738,2.8099644223368205,0.953116272018942,1.5177527591280904,3.231142476556044,2.5418001057260597,3.8142286544291366,1.684958290504217,2.1777717336419573,1.81733279599126,1.857765534416548,3.0308430076969914,2.9265829487849206,3.4349354315667204,3.203671162333278,0.1051180394588671,1.4059791628972462,2.241850515528486,1.3667839525662495,1.707254821599876,1.9190956589454176,1.601567313150977,0.3796343714386487,2.02134502433816,1.120367372903417,2.2690142804657305,-0.2451271276617017,2.128578426246194,1.8441998110251223,2.3255825322728683,1.5233411310579263,1.0228512846407858,1.8538273720727831,2.2032165835580124,1.2009998119131844,1.0206270273889793,1.604932266103602,0.4764735513254672,0.3639172040966811,0.3131984500482181,2.2866483910158677,2.154601389641329,2.0528851765061518,4.888043316568204,2.403047466924176,2.568694529536674,1.8297599254285275,0.5484522320181779,3.171096186656912,3.042020694060989,2.404277749844845,0.1778346644668875,2.6142867842398347,2.3009779823162417,3.9077931723316217,2.0567054240880105,1.3813349700697428,1.1607417785188765,1.7281819943472312,3.2036062057779144,3.061929184157545,4.017149169469283,1.4026082193785905,4.081649507530082,3.1527308085072985,3.4518635089270657,3.8538431375932074,1.5744925512126997,4.72372077755589,2.8796108406812584,0.9679134767334232,1.5317810704822732,4.138359152178729,3.161090214815601,2.951770389082617,3.2784429546227427,2.1270184993118018,3.3264888481347885,2.5437148945678403,3.233946999894361,4.431529762704597,3.5647862538954813,4.255884820986278,4.053865813388372,3.0897017602678742,2.8473445933325423,3.6358604869258224,1.955388637259492,2.8838400473503127,3.484443872790626,3.497984124763063,2.455759339638348,3.203800095269826,3.006772536867357,1.965479737608877,2.1798933319744465,2.612070293192836,3.9554991153824592,3.648464816547517,4.184500106526444,3.78757230175684,3.3006365498721384,3.02836363232283,3.1841217562056885,4.169118966225332,3.240242111019093,3.915960677768852,2.9697971618738923,1.1299385570386,2.717307986328911,3.1189016958972675,2.4051802002605527,2.9581842907871807,1.6545630850790554,2.3977580681531183,2.284093050088675,2.795887243076254,3.4115627708591223,3.5066352127611102,3.9361602886035065,3.902066572515992,2.610363960633363,4.372718610315967,3.083491363119661,2.1159935015877323,2.156534044871015,2.144911011682092,1.8493552407584717,4.159081601434126,2.764944992381324,3.905611531758359,2.540716724478098,4.277830681418135,3.3105816690186938,2.155206613462027,3.713636588104567,3.5401018635547064,1.6051999144777125,1.7516433715618278,3.124051226487953,2.3719878528947334,2.534460192788522,3.683446503425531,3.267013396283058,3.941591391535048,3.2645514018838435,4.304711382466017,2.684993757562959,3.126351840441264,2.9429435569199853,3.118765410908555,2.0235897790944337,3.622029314554192,2.4286587861147773,2.0951729618655994,5.292394521306933,2.0729170855338177,0.9462320825757168,2.739119075886318,6.005065336398827,6.0569641091736495,6.770127666721521,5.640346781001489,5.633254027407438,6.174431565363438,7.246947941745138,5.581629063930656,5.362720504336735,4.70775773362377,7.428920981004157,6.641072482533531,6.374736515665913,7.287803244048407,6.2029523094848535,5.387360412681998,5.667310300677457,6.597021551786485,7.756605593713768,6.632627452617938,5.7663495877683415,5.994231542030925,6.378704072854217,5.740362333785032,4.616524417150913,5.335339987326496,5.372939124793692,5.036111615427723,5.529086767660337,6.050869424857448,5.132008998429942,5.732849448865801,6.781107319547244,6.448344486992528,6.399414819366499,5.860679247147698,6.447651830577588,5.367081109651559,5.8873556526849535,3.9616246541869216,6.284381932579608,4.205847888245449,5.326155813846448,7.171352036284695,7.494927502838001,7.398072414628061,5.024329841014982,5.317124783074046,5.876552365538852,6.037628331680621,5.912802727354569,6.694513582424757,6.0101797788609845,6.927219684374198,6.335595219108058,6.2425707075521615,5.578122938363613,6.407738625745769,6.800295256441381,7.216840328780716,6.511007399653392,4.606305339926791,7.655032263472198,5.502957590616259,6.630606985789793,3.4592800643452866,8.203398153359817,4.9567942756934205,5.370526670765466,5.697978664307992,6.273762709954784,5.05274526001882,6.885755837329,4.187744196259964,5.975103279293128,6.094571294802686,5.723956974354073,4.372497673493347,6.29206262170893,5.145330350868728,6.587056504854597,5.7876909544557,6.727980978712887,6.640789386230871,6.232288777398539,6.217727237731909,5.781163010356058,6.624472531850962,5.195908230361076,5.871771805724644,5.895620994170579,5.617543198026376,5.631761031004175,5.502586590242818,6.482126282928347,7.30278708280303,6.991984340611751,4.825534095511381,6.117680550153719,0.940489440353196],\"xaxis\":\"x\",\"y\":[4.607571604482282,4.799964054441543,3.2908544987542663,4.612204112815066,4.939894052826295,4.93267846009402,4.434896742381875,5.055471681344978,4.840464061253519,4.806710807986595,5.373735865287625,5.208542115552275,4.77003303264906,5.274353538341508,4.883125218349286,4.804189440854675,4.995038620740097,4.678977577376825,4.871879490418842,4.836583005763322,4.910529229502589,4.961781139153404,5.624139495988096,5.243992574839312,4.844736469192718,5.29758701369049,5.260419973323453,5.301587009101879,5.015674237577476,4.575276844394842,5.196238478566125,5.115263227051593,4.68467130341947,5.592055349989062,4.890432088944249,5.263977564175146,4.678667174337322,5.44500310210926,4.914692641452207,4.832125726643392,5.2690382174802215,4.925933935454911,5.538498989714164,5.580371075704837,5.038366376905697,5.784296646013455,4.810987375514933,4.735267964925186,4.5964355345526,4.861540188503138,5.133339067003756,4.869624135455342,5.240575821340838,5.096679228841688,5.340807411956873,4.859247586559391,4.729163438461413,5.066368224996453,4.9244617023247255,5.261610953537723,4.0423147944003865,5.578484465015508,4.644530115981849,5.261947294103528,4.412674449222839,5.208807468302654,4.618188827708471,5.740192366387896,5.01149793096124,5.031539479749028,4.748679619050756,4.8791615932566605,5.010506504958272,5.007524823118074,4.9451637873213485,4.578297628829255,4.629911191127603,5.136631390741864,5.135359772867848,4.73332822591586,5.546946435563959,5.007669903345754,5.462829590785801,4.779585588568983,5.506707952236728,5.081473257321243,5.206878859954676,4.596572882818212,5.02672980169041,5.594645195347297,5.007583730318273,5.02587069662433,5.297650317664919,5.222874141673731,4.972358439910461,5.094646759998636,5.233913255151575,5.001949624092176,4.677279268477293,5.36028437434454,0.7222149034236587,1.5719210992485262,1.1607064678528023,1.0872653580630562,0.872003428739607,0.9815587114697814,0.427840834415254,0.7920479033506194,1.3481112594910267,0.6204413584594055,0.7541374110660162,1.1616681947644747,1.1005485242324748,1.2478097932507732,1.2942289318415272,0.8958314324641911,1.750439261520662,0.9567204249582624,1.2801906639493872,0.9573271589986068,1.0820232401768624,0.5404100030365326,1.117647142657849,0.906439572236069,0.5329186210157868,1.0881444823769872,0.2675925319316858,1.1216019434923548,1.321568569161503,0.8045450649676619,1.1355144824379535,1.1004640210347765,0.7890465416425023,1.0272807463558216,0.625191281541267,1.2173076049288782,1.308798305086229,0.9907685574084988,0.8326929897165098,1.628496974308694,0.4535620312008207,1.4544290445226995,1.2810758821084065,1.356351889867326,1.4141079887295975,0.2058103774770208,1.1487623727645102,1.012257735490282,1.0121030599292014,0.770852843682668,0.4869755461809559,0.6943833555225435,1.117781226884269,1.0188709568753616,1.1863117476010434,1.2472138735497558,0.6486546903964623,0.9952666365513956,1.1596362974706589,0.7387810441941597,1.4620293406882423,1.277787507048313,0.8802760188273794,1.0291409195709396,1.1963264443568251,0.7930365000883433,0.4035886068351918,1.1358239904983922,1.022326436980281,0.6172073250362708,1.431489505711269,1.1657531498432012,0.9839251586297414,1.180136796728559,1.031244609451246,0.8069656235345628,0.4581320816161256,0.864461352047468,1.109805302134234,0.6885353609048434,0.6782175665304078,1.4278960719163036,1.215620812788234,1.228345375360799,0.3205667586236743,0.8257743797704139,1.3836868984255504,1.107259950849141,0.3534494332134992,1.2806892975237558,1.028250762556938,1.332854585759118,0.447716138160535,1.2864376300924134,0.8649928452669559,1.1401049110506878,0.3687329803035045,1.1676385057503424,0.2452225283820371,1.100722839009583,2.727841713587384,2.9497043325204046,3.214114215383589,2.6938528220486404,2.990023386279589,3.2902648803675434,2.9687742421277563,3.3351037462060464,3.1468119220583373,2.787108694840931,3.466794896488929,3.0599873792651504,2.5625305919319183,2.7517988465447667,2.6785617898769707,2.267373457548288,2.9647786730521912,3.070823760206949,3.1560446461824103,3.147991826330151,3.1427170744346853,2.7570785849923065,2.650223208757134,3.103913060350143,2.7932071508556477,3.039286944297795,2.816847755729278,2.924860873447376,3.336815764978288,2.8070259443516634,2.198121948150304,2.8773813216769755,3.05676866020901,3.3529922496221007,2.8975694844683377,2.995771287055466,3.1656094546343536,3.1950255161881342,3.346155661401808,2.72025046330054,3.1736064316433823,2.8164736834371635,3.033140472272608,3.4122727007565823,2.8401875400218235,3.4848703059391672,2.9868317853348563,2.817413560279757,3.216611091154561,2.6830351150892136,2.8563193765165886,2.890560826096426,2.724013381935843,3.199600255791053,3.30864291189389,2.791792687595131,3.247660162539342,2.6755495094705086,3.17579577996112,2.728965745190048,2.7273190659262743,3.329458003252386,2.870956284238776,2.6292463440042564,3.015023010300451,2.684784447523264,2.4169349520394388,2.897762969043581,2.4495481341998326,2.949771319733885,2.242560360890311,2.756921629697973,2.88845269257306,2.8928346339770745,3.0259190998465844,2.618679749914378,3.04454219379047,3.054882171401887,2.775738556384176,4.132256915057223,3.375083452766874,3.2925512732268567,3.004398300225435,2.4106883885905326,2.7285090223319397,2.80994633217706,3.079877867015621,2.744537425706766,3.06972936535178,3.2551773046247563,2.898439774276882,2.597507103274049,3.047587472381008,3.118690754276496,2.550851397135404,3.3801597885210763,2.98706728722547,2.7796166391805075,2.8547565521647957,5.715568023943128],\"yaxis\":\"y\",\"type\":\"scatter\"},{\"marker\":{\"color\":\"red\",\"line\":{\"color\":\"DarkSlateGrey\",\"width\":2},\"size\":20,\"symbol\":\"x\"},\"mode\":\"markers\",\"name\":\"聚类中心\",\"x\":[1.9836315199271528,6.024403169393791,3.0345825446066734],\"y\":[5.030430038142128,2.972660536945895,0.9985308034402209],\"type\":\"scatter\"},{\"marker\":{\"color\":\"black\",\"line\":{\"color\":\"black\",\"width\":2},\"size\":5},\"mode\":\"markers\",\"name\":\"噪声点\",\"x\":[5.658583120618816,4.060691324409988,3.8142286544291366,0.1051180394588671,-0.2451271276617017,0.3639172040966811,0.3131984500482181,4.888043316568204,0.1778346644668875,3.9077931723316217,1.4026082193785905,4.72372077755589,0.9679134767334232,1.1299385570386,5.292394521306933,0.9462320825757168,7.756605593713768,3.9616246541869216,4.205847888245449,7.655032263472198,3.4592800643452866,8.203398153359817,4.187744196259964,4.372497673493347],\"y\":[4.799964054441543,4.995038620740097,4.735267964925186,4.729163438461413,5.740192366387896,4.73332822591586,5.546946435563959,5.506707952236728,5.297650317664919,5.094646759998636,1.0872653580630562,0.6204413584594055,1.1616681947644747,0.770852843682668,0.3687329803035045,0.2452225283820371,3.1560446461824103,2.72025046330054,2.8164736834371635,2.870956284238776,2.684784447523264,2.4169349520394388,2.8928346339770745,3.054882171401887],\"type\":\"scatter\"}],                        {\"template\":{\"data\":{\"histogram2dcontour\":[{\"type\":\"histogram2dcontour\",\"colorbar\":{\"outlinewidth\":0,\"ticks\":\"\"},\"colorscale\":[[0.0,\"#0d0887\"],[0.1111111111111111,\"#46039f\"],[0.2222222222222222,\"#7201a8\"],[0.3333333333333333,\"#9c179e\"],[0.4444444444444444,\"#bd3786\"],[0.5555555555555556,\"#d8576b\"],[0.6666666666666666,\"#ed7953\"],[0.7777777777777778,\"#fb9f3a\"],[0.8888888888888888,\"#fdca26\"],[1.0,\"#f0f921\"]]}],\"choropleth\":[{\"type\":\"choropleth\",\"colorbar\":{\"outlinewidth\":0,\"ticks\":\"\"}}],\"histogram2d\":[{\"type\":\"histogram2d\",\"colorbar\":{\"outlinewidth\":0,\"ticks\":\"\"},\"colorscale\":[[0.0,\"#0d0887\"],[0.1111111111111111,\"#46039f\"],[0.2222222222222222,\"#7201a8\"],[0.3333333333333333,\"#9c179e\"],[0.4444444444444444,\"#bd3786\"],[0.5555555555555556,\"#d8576b\"],[0.6666666666666666,\"#ed7953\"],[0.7777777777777778,\"#fb9f3a\"],[0.8888888888888888,\"#fdca26\"],[1.0,\"#f0f921\"]]}],\"heatmap\":[{\"type\":\"heatmap\",\"colorbar\":{\"outlinewidth\":0,\"ticks\":\"\"},\"colorscale\":[[0.0,\"#0d0887\"],[0.1111111111111111,\"#46039f\"],[0.2222222222222222,\"#7201a8\"],[0.3333333333333333,\"#9c179e\"],[0.4444444444444444,\"#bd3786\"],[0.5555555555555556,\"#d8576b\"],[0.6666666666666666,\"#ed7953\"],[0.7777777777777778,\"#fb9f3a\"],[0.8888888888888888,\"#fdca26\"],[1.0,\"#f0f921\"]]}],\"heatmapgl\":[{\"type\":\"heatmapgl\",\"colorbar\":{\"outlinewidth\":0,\"ticks\":\"\"},\"colorscale\":[[0.0,\"#0d0887\"],[0.1111111111111111,\"#46039f\"],[0.2222222222222222,\"#7201a8\"],[0.3333333333333333,\"#9c179e\"],[0.4444444444444444,\"#bd3786\"],[0.5555555555555556,\"#d8576b\"],[0.6666666666666666,\"#ed7953\"],[0.7777777777777778,\"#fb9f3a\"],[0.8888888888888888,\"#fdca26\"],[1.0,\"#f0f921\"]]}],\"contourcarpet\":[{\"type\":\"contourcarpet\",\"colorbar\":{\"outlinewidth\":0,\"ticks\":\"\"}}],\"contour\":[{\"type\":\"contour\",\"colorbar\":{\"outlinewidth\":0,\"ticks\":\"\"},\"colorscale\":[[0.0,\"#0d0887\"],[0.1111111111111111,\"#46039f\"],[0.2222222222222222,\"#7201a8\"],[0.3333333333333333,\"#9c179e\"],[0.4444444444444444,\"#bd3786\"],[0.5555555555555556,\"#d8576b\"],[0.6666666666666666,\"#ed7953\"],[0.7777777777777778,\"#fb9f3a\"],[0.8888888888888888,\"#fdca26\"],[1.0,\"#f0f921\"]]}],\"surface\":[{\"type\":\"surface\",\"colorbar\":{\"outlinewidth\":0,\"ticks\":\"\"},\"colorscale\":[[0.0,\"#0d0887\"],[0.1111111111111111,\"#46039f\"],[0.2222222222222222,\"#7201a8\"],[0.3333333333333333,\"#9c179e\"],[0.4444444444444444,\"#bd3786\"],[0.5555555555555556,\"#d8576b\"],[0.6666666666666666,\"#ed7953\"],[0.7777777777777778,\"#fb9f3a\"],[0.8888888888888888,\"#fdca26\"],[1.0,\"#f0f921\"]]}],\"mesh3d\":[{\"type\":\"mesh3d\",\"colorbar\":{\"outlinewidth\":0,\"ticks\":\"\"}}],\"scatter\":[{\"fillpattern\":{\"fillmode\":\"overlay\",\"size\":10,\"solidity\":0.2},\"type\":\"scatter\"}],\"parcoords\":[{\"type\":\"parcoords\",\"line\":{\"colorbar\":{\"outlinewidth\":0,\"ticks\":\"\"}}}],\"scatterpolargl\":[{\"type\":\"scatterpolargl\",\"marker\":{\"colorbar\":{\"outlinewidth\":0,\"ticks\":\"\"}}}],\"bar\":[{\"error_x\":{\"color\":\"#2a3f5f\"},\"error_y\":{\"color\":\"#2a3f5f\"},\"marker\":{\"line\":{\"color\":\"#E5ECF6\",\"width\":0.5},\"pattern\":{\"fillmode\":\"overlay\",\"size\":10,\"solidity\":0.2}},\"type\":\"bar\"}],\"scattergeo\":[{\"type\":\"scattergeo\",\"marker\":{\"colorbar\":{\"outlinewidth\":0,\"ticks\":\"\"}}}],\"scatterpolar\":[{\"type\":\"scatterpolar\",\"marker\":{\"colorbar\":{\"outlinewidth\":0,\"ticks\":\"\"}}}],\"histogram\":[{\"marker\":{\"pattern\":{\"fillmode\":\"overlay\",\"size\":10,\"solidity\":0.2}},\"type\":\"histogram\"}],\"scattergl\":[{\"type\":\"scattergl\",\"marker\":{\"colorbar\":{\"outlinewidth\":0,\"ticks\":\"\"}}}],\"scatter3d\":[{\"type\":\"scatter3d\",\"line\":{\"colorbar\":{\"outlinewidth\":0,\"ticks\":\"\"}},\"marker\":{\"colorbar\":{\"outlinewidth\":0,\"ticks\":\"\"}}}],\"scattermapbox\":[{\"type\":\"scattermapbox\",\"marker\":{\"colorbar\":{\"outlinewidth\":0,\"ticks\":\"\"}}}],\"scatterternary\":[{\"type\":\"scatterternary\",\"marker\":{\"colorbar\":{\"outlinewidth\":0,\"ticks\":\"\"}}}],\"scattercarpet\":[{\"type\":\"scattercarpet\",\"marker\":{\"colorbar\":{\"outlinewidth\":0,\"ticks\":\"\"}}}],\"carpet\":[{\"aaxis\":{\"endlinecolor\":\"#2a3f5f\",\"gridcolor\":\"white\",\"linecolor\":\"white\",\"minorgridcolor\":\"white\",\"startlinecolor\":\"#2a3f5f\"},\"baxis\":{\"endlinecolor\":\"#2a3f5f\",\"gridcolor\":\"white\",\"linecolor\":\"white\",\"minorgridcolor\":\"white\",\"startlinecolor\":\"#2a3f5f\"},\"type\":\"carpet\"}],\"table\":[{\"cells\":{\"fill\":{\"color\":\"#EBF0F8\"},\"line\":{\"color\":\"white\"}},\"header\":{\"fill\":{\"color\":\"#C8D4E3\"},\"line\":{\"color\":\"white\"}},\"type\":\"table\"}],\"barpolar\":[{\"marker\":{\"line\":{\"color\":\"#E5ECF6\",\"width\":0.5},\"pattern\":{\"fillmode\":\"overlay\",\"size\":10,\"solidity\":0.2}},\"type\":\"barpolar\"}],\"pie\":[{\"automargin\":true,\"type\":\"pie\"}]},\"layout\":{\"autotypenumbers\":\"strict\",\"colorway\":[\"#636efa\",\"#EF553B\",\"#00cc96\",\"#ab63fa\",\"#FFA15A\",\"#19d3f3\",\"#FF6692\",\"#B6E880\",\"#FF97FF\",\"#FECB52\"],\"font\":{\"color\":\"#2a3f5f\"},\"hovermode\":\"closest\",\"hoverlabel\":{\"align\":\"left\"},\"paper_bgcolor\":\"white\",\"plot_bgcolor\":\"#E5ECF6\",\"polar\":{\"bgcolor\":\"#E5ECF6\",\"angularaxis\":{\"gridcolor\":\"white\",\"linecolor\":\"white\",\"ticks\":\"\"},\"radialaxis\":{\"gridcolor\":\"white\",\"linecolor\":\"white\",\"ticks\":\"\"}},\"ternary\":{\"bgcolor\":\"#E5ECF6\",\"aaxis\":{\"gridcolor\":\"white\",\"linecolor\":\"white\",\"ticks\":\"\"},\"baxis\":{\"gridcolor\":\"white\",\"linecolor\":\"white\",\"ticks\":\"\"},\"caxis\":{\"gridcolor\":\"white\",\"linecolor\":\"white\",\"ticks\":\"\"}},\"coloraxis\":{\"colorbar\":{\"outlinewidth\":0,\"ticks\":\"\"}},\"colorscale\":{\"sequential\":[[0.0,\"#0d0887\"],[0.1111111111111111,\"#46039f\"],[0.2222222222222222,\"#7201a8\"],[0.3333333333333333,\"#9c179e\"],[0.4444444444444444,\"#bd3786\"],[0.5555555555555556,\"#d8576b\"],[0.6666666666666666,\"#ed7953\"],[0.7777777777777778,\"#fb9f3a\"],[0.8888888888888888,\"#fdca26\"],[1.0,\"#f0f921\"]],\"sequentialminus\":[[0.0,\"#0d0887\"],[0.1111111111111111,\"#46039f\"],[0.2222222222222222,\"#7201a8\"],[0.3333333333333333,\"#9c179e\"],[0.4444444444444444,\"#bd3786\"],[0.5555555555555556,\"#d8576b\"],[0.6666666666666666,\"#ed7953\"],[0.7777777777777778,\"#fb9f3a\"],[0.8888888888888888,\"#fdca26\"],[1.0,\"#f0f921\"]],\"diverging\":[[0,\"#8e0152\"],[0.1,\"#c51b7d\"],[0.2,\"#de77ae\"],[0.3,\"#f1b6da\"],[0.4,\"#fde0ef\"],[0.5,\"#f7f7f7\"],[0.6,\"#e6f5d0\"],[0.7,\"#b8e186\"],[0.8,\"#7fbc41\"],[0.9,\"#4d9221\"],[1,\"#276419\"]]},\"xaxis\":{\"gridcolor\":\"white\",\"linecolor\":\"white\",\"ticks\":\"\",\"title\":{\"standoff\":15},\"zerolinecolor\":\"white\",\"automargin\":true,\"zerolinewidth\":2},\"yaxis\":{\"gridcolor\":\"white\",\"linecolor\":\"white\",\"ticks\":\"\",\"title\":{\"standoff\":15},\"zerolinecolor\":\"white\",\"automargin\":true,\"zerolinewidth\":2},\"scene\":{\"xaxis\":{\"backgroundcolor\":\"#E5ECF6\",\"gridcolor\":\"white\",\"linecolor\":\"white\",\"showbackground\":true,\"ticks\":\"\",\"zerolinecolor\":\"white\",\"gridwidth\":2},\"yaxis\":{\"backgroundcolor\":\"#E5ECF6\",\"gridcolor\":\"white\",\"linecolor\":\"white\",\"showbackground\":true,\"ticks\":\"\",\"zerolinecolor\":\"white\",\"gridwidth\":2},\"zaxis\":{\"backgroundcolor\":\"#E5ECF6\",\"gridcolor\":\"white\",\"linecolor\":\"white\",\"showbackground\":true,\"ticks\":\"\",\"zerolinecolor\":\"white\",\"gridwidth\":2}},\"shapedefaults\":{\"line\":{\"color\":\"#2a3f5f\"}},\"annotationdefaults\":{\"arrowcolor\":\"#2a3f5f\",\"arrowhead\":0,\"arrowwidth\":1},\"geo\":{\"bgcolor\":\"white\",\"landcolor\":\"#E5ECF6\",\"subunitcolor\":\"white\",\"showland\":true,\"showlakes\":true,\"lakecolor\":\"white\"},\"title\":{\"x\":0.05},\"mapbox\":{\"style\":\"light\"}}},\"xaxis\":{\"anchor\":\"y\",\"domain\":[0.0,1.0],\"title\":{\"text\":\"特征 1\"}},\"yaxis\":{\"anchor\":\"x\",\"domain\":[0.0,1.0],\"title\":{\"text\":\"特征 2\"}},\"coloraxis\":{\"colorbar\":{\"title\":{\"text\":\"簇\"}},\"colorscale\":[[0.0,\"#0d0887\"],[0.1111111111111111,\"#46039f\"],[0.2222222222222222,\"#7201a8\"],[0.3333333333333333,\"#9c179e\"],[0.4444444444444444,\"#bd3786\"],[0.5555555555555556,\"#d8576b\"],[0.6666666666666666,\"#ed7953\"],[0.7777777777777778,\"#fb9f3a\"],[0.8888888888888888,\"#fdca26\"],[1.0,\"#f0f921\"]]},\"legend\":{\"tracegroupgap\":0},\"title\":{\"text\":\"K-Means 聚类结果（包含噪声点）\"}},                        {\"responsive\": true}                    ).then(function(){\n                            \nvar gd = document.getElementById('a49473d8-a338-4034-8c06-7293f301a71a');\nvar x = new MutationObserver(function (mutations, observer) {{\n        var display = window.getComputedStyle(gd).display;\n        if (!display || display === 'none') {{\n            console.log([gd, 'removed!']);\n            Plotly.purge(gd);\n            observer.disconnect();\n        }}\n}});\n\n// Listen for the removal of the full notebook cells\nvar notebookContainer = gd.closest('#notebook-container');\nif (notebookContainer) {{\n    x.observe(notebookContainer, {childList: true});\n}}\n\n// Listen for the clearing of the current output cell\nvar outputEl = gd.closest('.output');\nif (outputEl) {{\n    x.observe(outputEl, {childList: true});\n}}\n\n                        })                };                });            </script>        </div>"
     },
     "metadata": {},
     "output_type": "display_data"
    }
   ],
   "source": [
    "# 数据标准化\n",
    "scaler = StandardScaler()  \n",
    "scaled_data = scaler.fit_transform(np.array(list(zip(data[\"X1\"], data[\"X2\"]))))  # X1和X2列组合成二维数组，标准化\n",
    "\n",
    "kmeans_manual = KMeans(n_clusters=3, random_state=42)  \n",
    "kmeans_manual.fit(scaled_data)  \n",
    "\n",
    "labels = kmeans_manual.labels  \n",
    "centroids = kmeans_manual.centroids  \n",
    "\n",
    "data[\"Cluster\"] = labels  # 新的列\"Cluster\"\n",
    "\n",
    "fig = px.scatter( \n",
    "    data,  \n",
    "    x=\"X1\",  \n",
    "    y=\"X2\",  \n",
    "    color=\"Cluster\",  \n",
    "    title=\"K-Means 聚类结果（包含噪声点）\",  \n",
    "    labels={\"X1\": \"特征 1\", \"X2\": \"特征 2\", \"Cluster\": \"簇\"},  \n",
    ")\n",
    "\n",
    "centroids_original = scaler.inverse_transform(centroids)  \n",
    "fig.add_scatter(  \n",
    "    x=centroids_original[:, 0],  \n",
    "    y=centroids_original[:, 1],  \n",
    "    mode=\"markers\",  \n",
    "    marker=dict(  \n",
    "        size=20,  \n",
    "        color=\"red\",  \n",
    "        symbol=\"x\",  \n",
    "        line=dict(width=2, color=\"DarkSlateGrey\"),  \n",
    "    ),\n",
    "    name=\"聚类中心\",  \n",
    ")\n",
    "\n",
    "noise_data = data[data[\"Cluster\"] == -1]  \n",
    "if not noise_data.empty:  \n",
    "    fig.add_scatter(  \n",
    "        x=noise_data[\"X1\"],  \n",
    "        y=noise_data[\"X2\"],  \n",
    "        mode=\"markers\",  \n",
    "        marker=dict(  \n",
    "            size=5,  \n",
    "            color=\"black\",  \n",
    "            line=dict(width=2, color=\"black\"),  \n",
    "        ),\n",
    "        name=\"噪声点\",  # 图例名称\n",
    "    )\n",
    "\n",
    "fig.show()  "
   ]
  },
  {
   "cell_type": "markdown",
   "source": [
    "## 肘部法则"
   ],
   "metadata": {
    "collapsed": false
   },
   "id": "3242b2af88c72fa8"
  },
  {
   "cell_type": "code",
   "outputs": [
    {
     "name": "stdout",
     "output_type": "stream",
     "text": [
      "聚类的轮廓系数: 0.461\n"
     ]
    },
    {
     "data": {
      "application/vnd.plotly.v1+json": {
       "data": [
        {
         "hovertemplate": "簇数=%{x}<br>惯性=%{y}<extra></extra>",
         "legendgroup": "",
         "line": {
          "color": "#636efa",
          "dash": "solid"
         },
         "marker": {
          "symbol": "circle"
         },
         "mode": "lines",
         "name": "",
         "orientation": "v",
         "showlegend": false,
         "x": [
          1,
          2,
          3,
          4,
          5,
          6,
          7,
          8,
          9,
          10,
          11,
          12,
          13,
          14,
          15,
          16,
          17,
          18,
          19
         ],
         "xaxis": "x",
         "y": [
          600.0000000000001,
          266.3492797613461,
          161.54695213271083,
          139.35891855918817,
          221.791150508633,
          141.6520826374375,
          207.13301956560525,
          219.3242339994576,
          93.49608170380367,
          139.8187718946852,
          107.41690294567891,
          82.29886155787412,
          120.82963825211115,
          101.16888003906944,
          51.833934681995586,
          85.09554373609981,
          76.64679715288551,
          116.83025283575239,
          93.45642915394495
         ],
         "yaxis": "y",
         "type": "scatter"
        }
       ],
       "layout": {
        "template": {
         "data": {
          "histogram2dcontour": [
           {
            "type": "histogram2dcontour",
            "colorbar": {
             "outlinewidth": 0,
             "ticks": ""
            },
            "colorscale": [
             [
              0.0,
              "#0d0887"
             ],
             [
              0.1111111111111111,
              "#46039f"
             ],
             [
              0.2222222222222222,
              "#7201a8"
             ],
             [
              0.3333333333333333,
              "#9c179e"
             ],
             [
              0.4444444444444444,
              "#bd3786"
             ],
             [
              0.5555555555555556,
              "#d8576b"
             ],
             [
              0.6666666666666666,
              "#ed7953"
             ],
             [
              0.7777777777777778,
              "#fb9f3a"
             ],
             [
              0.8888888888888888,
              "#fdca26"
             ],
             [
              1.0,
              "#f0f921"
             ]
            ]
           }
          ],
          "choropleth": [
           {
            "type": "choropleth",
            "colorbar": {
             "outlinewidth": 0,
             "ticks": ""
            }
           }
          ],
          "histogram2d": [
           {
            "type": "histogram2d",
            "colorbar": {
             "outlinewidth": 0,
             "ticks": ""
            },
            "colorscale": [
             [
              0.0,
              "#0d0887"
             ],
             [
              0.1111111111111111,
              "#46039f"
             ],
             [
              0.2222222222222222,
              "#7201a8"
             ],
             [
              0.3333333333333333,
              "#9c179e"
             ],
             [
              0.4444444444444444,
              "#bd3786"
             ],
             [
              0.5555555555555556,
              "#d8576b"
             ],
             [
              0.6666666666666666,
              "#ed7953"
             ],
             [
              0.7777777777777778,
              "#fb9f3a"
             ],
             [
              0.8888888888888888,
              "#fdca26"
             ],
             [
              1.0,
              "#f0f921"
             ]
            ]
           }
          ],
          "heatmap": [
           {
            "type": "heatmap",
            "colorbar": {
             "outlinewidth": 0,
             "ticks": ""
            },
            "colorscale": [
             [
              0.0,
              "#0d0887"
             ],
             [
              0.1111111111111111,
              "#46039f"
             ],
             [
              0.2222222222222222,
              "#7201a8"
             ],
             [
              0.3333333333333333,
              "#9c179e"
             ],
             [
              0.4444444444444444,
              "#bd3786"
             ],
             [
              0.5555555555555556,
              "#d8576b"
             ],
             [
              0.6666666666666666,
              "#ed7953"
             ],
             [
              0.7777777777777778,
              "#fb9f3a"
             ],
             [
              0.8888888888888888,
              "#fdca26"
             ],
             [
              1.0,
              "#f0f921"
             ]
            ]
           }
          ],
          "heatmapgl": [
           {
            "type": "heatmapgl",
            "colorbar": {
             "outlinewidth": 0,
             "ticks": ""
            },
            "colorscale": [
             [
              0.0,
              "#0d0887"
             ],
             [
              0.1111111111111111,
              "#46039f"
             ],
             [
              0.2222222222222222,
              "#7201a8"
             ],
             [
              0.3333333333333333,
              "#9c179e"
             ],
             [
              0.4444444444444444,
              "#bd3786"
             ],
             [
              0.5555555555555556,
              "#d8576b"
             ],
             [
              0.6666666666666666,
              "#ed7953"
             ],
             [
              0.7777777777777778,
              "#fb9f3a"
             ],
             [
              0.8888888888888888,
              "#fdca26"
             ],
             [
              1.0,
              "#f0f921"
             ]
            ]
           }
          ],
          "contourcarpet": [
           {
            "type": "contourcarpet",
            "colorbar": {
             "outlinewidth": 0,
             "ticks": ""
            }
           }
          ],
          "contour": [
           {
            "type": "contour",
            "colorbar": {
             "outlinewidth": 0,
             "ticks": ""
            },
            "colorscale": [
             [
              0.0,
              "#0d0887"
             ],
             [
              0.1111111111111111,
              "#46039f"
             ],
             [
              0.2222222222222222,
              "#7201a8"
             ],
             [
              0.3333333333333333,
              "#9c179e"
             ],
             [
              0.4444444444444444,
              "#bd3786"
             ],
             [
              0.5555555555555556,
              "#d8576b"
             ],
             [
              0.6666666666666666,
              "#ed7953"
             ],
             [
              0.7777777777777778,
              "#fb9f3a"
             ],
             [
              0.8888888888888888,
              "#fdca26"
             ],
             [
              1.0,
              "#f0f921"
             ]
            ]
           }
          ],
          "surface": [
           {
            "type": "surface",
            "colorbar": {
             "outlinewidth": 0,
             "ticks": ""
            },
            "colorscale": [
             [
              0.0,
              "#0d0887"
             ],
             [
              0.1111111111111111,
              "#46039f"
             ],
             [
              0.2222222222222222,
              "#7201a8"
             ],
             [
              0.3333333333333333,
              "#9c179e"
             ],
             [
              0.4444444444444444,
              "#bd3786"
             ],
             [
              0.5555555555555556,
              "#d8576b"
             ],
             [
              0.6666666666666666,
              "#ed7953"
             ],
             [
              0.7777777777777778,
              "#fb9f3a"
             ],
             [
              0.8888888888888888,
              "#fdca26"
             ],
             [
              1.0,
              "#f0f921"
             ]
            ]
           }
          ],
          "mesh3d": [
           {
            "type": "mesh3d",
            "colorbar": {
             "outlinewidth": 0,
             "ticks": ""
            }
           }
          ],
          "scatter": [
           {
            "fillpattern": {
             "fillmode": "overlay",
             "size": 10,
             "solidity": 0.2
            },
            "type": "scatter"
           }
          ],
          "parcoords": [
           {
            "type": "parcoords",
            "line": {
             "colorbar": {
              "outlinewidth": 0,
              "ticks": ""
             }
            }
           }
          ],
          "scatterpolargl": [
           {
            "type": "scatterpolargl",
            "marker": {
             "colorbar": {
              "outlinewidth": 0,
              "ticks": ""
             }
            }
           }
          ],
          "bar": [
           {
            "error_x": {
             "color": "#2a3f5f"
            },
            "error_y": {
             "color": "#2a3f5f"
            },
            "marker": {
             "line": {
              "color": "#E5ECF6",
              "width": 0.5
             },
             "pattern": {
              "fillmode": "overlay",
              "size": 10,
              "solidity": 0.2
             }
            },
            "type": "bar"
           }
          ],
          "scattergeo": [
           {
            "type": "scattergeo",
            "marker": {
             "colorbar": {
              "outlinewidth": 0,
              "ticks": ""
             }
            }
           }
          ],
          "scatterpolar": [
           {
            "type": "scatterpolar",
            "marker": {
             "colorbar": {
              "outlinewidth": 0,
              "ticks": ""
             }
            }
           }
          ],
          "histogram": [
           {
            "marker": {
             "pattern": {
              "fillmode": "overlay",
              "size": 10,
              "solidity": 0.2
             }
            },
            "type": "histogram"
           }
          ],
          "scattergl": [
           {
            "type": "scattergl",
            "marker": {
             "colorbar": {
              "outlinewidth": 0,
              "ticks": ""
             }
            }
           }
          ],
          "scatter3d": [
           {
            "type": "scatter3d",
            "line": {
             "colorbar": {
              "outlinewidth": 0,
              "ticks": ""
             }
            },
            "marker": {
             "colorbar": {
              "outlinewidth": 0,
              "ticks": ""
             }
            }
           }
          ],
          "scattermapbox": [
           {
            "type": "scattermapbox",
            "marker": {
             "colorbar": {
              "outlinewidth": 0,
              "ticks": ""
             }
            }
           }
          ],
          "scatterternary": [
           {
            "type": "scatterternary",
            "marker": {
             "colorbar": {
              "outlinewidth": 0,
              "ticks": ""
             }
            }
           }
          ],
          "scattercarpet": [
           {
            "type": "scattercarpet",
            "marker": {
             "colorbar": {
              "outlinewidth": 0,
              "ticks": ""
             }
            }
           }
          ],
          "carpet": [
           {
            "aaxis": {
             "endlinecolor": "#2a3f5f",
             "gridcolor": "white",
             "linecolor": "white",
             "minorgridcolor": "white",
             "startlinecolor": "#2a3f5f"
            },
            "baxis": {
             "endlinecolor": "#2a3f5f",
             "gridcolor": "white",
             "linecolor": "white",
             "minorgridcolor": "white",
             "startlinecolor": "#2a3f5f"
            },
            "type": "carpet"
           }
          ],
          "table": [
           {
            "cells": {
             "fill": {
              "color": "#EBF0F8"
             },
             "line": {
              "color": "white"
             }
            },
            "header": {
             "fill": {
              "color": "#C8D4E3"
             },
             "line": {
              "color": "white"
             }
            },
            "type": "table"
           }
          ],
          "barpolar": [
           {
            "marker": {
             "line": {
              "color": "#E5ECF6",
              "width": 0.5
             },
             "pattern": {
              "fillmode": "overlay",
              "size": 10,
              "solidity": 0.2
             }
            },
            "type": "barpolar"
           }
          ],
          "pie": [
           {
            "automargin": true,
            "type": "pie"
           }
          ]
         },
         "layout": {
          "autotypenumbers": "strict",
          "colorway": [
           "#636efa",
           "#EF553B",
           "#00cc96",
           "#ab63fa",
           "#FFA15A",
           "#19d3f3",
           "#FF6692",
           "#B6E880",
           "#FF97FF",
           "#FECB52"
          ],
          "font": {
           "color": "#2a3f5f"
          },
          "hovermode": "closest",
          "hoverlabel": {
           "align": "left"
          },
          "paper_bgcolor": "white",
          "plot_bgcolor": "#E5ECF6",
          "polar": {
           "bgcolor": "#E5ECF6",
           "angularaxis": {
            "gridcolor": "white",
            "linecolor": "white",
            "ticks": ""
           },
           "radialaxis": {
            "gridcolor": "white",
            "linecolor": "white",
            "ticks": ""
           }
          },
          "ternary": {
           "bgcolor": "#E5ECF6",
           "aaxis": {
            "gridcolor": "white",
            "linecolor": "white",
            "ticks": ""
           },
           "baxis": {
            "gridcolor": "white",
            "linecolor": "white",
            "ticks": ""
           },
           "caxis": {
            "gridcolor": "white",
            "linecolor": "white",
            "ticks": ""
           }
          },
          "coloraxis": {
           "colorbar": {
            "outlinewidth": 0,
            "ticks": ""
           }
          },
          "colorscale": {
           "sequential": [
            [
             0.0,
             "#0d0887"
            ],
            [
             0.1111111111111111,
             "#46039f"
            ],
            [
             0.2222222222222222,
             "#7201a8"
            ],
            [
             0.3333333333333333,
             "#9c179e"
            ],
            [
             0.4444444444444444,
             "#bd3786"
            ],
            [
             0.5555555555555556,
             "#d8576b"
            ],
            [
             0.6666666666666666,
             "#ed7953"
            ],
            [
             0.7777777777777778,
             "#fb9f3a"
            ],
            [
             0.8888888888888888,
             "#fdca26"
            ],
            [
             1.0,
             "#f0f921"
            ]
           ],
           "sequentialminus": [
            [
             0.0,
             "#0d0887"
            ],
            [
             0.1111111111111111,
             "#46039f"
            ],
            [
             0.2222222222222222,
             "#7201a8"
            ],
            [
             0.3333333333333333,
             "#9c179e"
            ],
            [
             0.4444444444444444,
             "#bd3786"
            ],
            [
             0.5555555555555556,
             "#d8576b"
            ],
            [
             0.6666666666666666,
             "#ed7953"
            ],
            [
             0.7777777777777778,
             "#fb9f3a"
            ],
            [
             0.8888888888888888,
             "#fdca26"
            ],
            [
             1.0,
             "#f0f921"
            ]
           ],
           "diverging": [
            [
             0,
             "#8e0152"
            ],
            [
             0.1,
             "#c51b7d"
            ],
            [
             0.2,
             "#de77ae"
            ],
            [
             0.3,
             "#f1b6da"
            ],
            [
             0.4,
             "#fde0ef"
            ],
            [
             0.5,
             "#f7f7f7"
            ],
            [
             0.6,
             "#e6f5d0"
            ],
            [
             0.7,
             "#b8e186"
            ],
            [
             0.8,
             "#7fbc41"
            ],
            [
             0.9,
             "#4d9221"
            ],
            [
             1,
             "#276419"
            ]
           ]
          },
          "xaxis": {
           "gridcolor": "white",
           "linecolor": "white",
           "ticks": "",
           "title": {
            "standoff": 15
           },
           "zerolinecolor": "white",
           "automargin": true,
           "zerolinewidth": 2
          },
          "yaxis": {
           "gridcolor": "white",
           "linecolor": "white",
           "ticks": "",
           "title": {
            "standoff": 15
           },
           "zerolinecolor": "white",
           "automargin": true,
           "zerolinewidth": 2
          },
          "scene": {
           "xaxis": {
            "backgroundcolor": "#E5ECF6",
            "gridcolor": "white",
            "linecolor": "white",
            "showbackground": true,
            "ticks": "",
            "zerolinecolor": "white",
            "gridwidth": 2
           },
           "yaxis": {
            "backgroundcolor": "#E5ECF6",
            "gridcolor": "white",
            "linecolor": "white",
            "showbackground": true,
            "ticks": "",
            "zerolinecolor": "white",
            "gridwidth": 2
           },
           "zaxis": {
            "backgroundcolor": "#E5ECF6",
            "gridcolor": "white",
            "linecolor": "white",
            "showbackground": true,
            "ticks": "",
            "zerolinecolor": "white",
            "gridwidth": 2
           }
          },
          "shapedefaults": {
           "line": {
            "color": "#2a3f5f"
           }
          },
          "annotationdefaults": {
           "arrowcolor": "#2a3f5f",
           "arrowhead": 0,
           "arrowwidth": 1
          },
          "geo": {
           "bgcolor": "white",
           "landcolor": "#E5ECF6",
           "subunitcolor": "white",
           "showland": true,
           "showlakes": true,
           "lakecolor": "white"
          },
          "title": {
           "x": 0.05
          },
          "mapbox": {
           "style": "light"
          }
         }
        },
        "xaxis": {
         "anchor": "y",
         "domain": [
          0.0,
          1.0
         ],
         "title": {
          "text": "簇数"
         }
        },
        "yaxis": {
         "anchor": "x",
         "domain": [
          0.0,
          1.0
         ],
         "title": {
          "text": "惯性"
         }
        },
        "legend": {
         "tracegroupgap": 0
        },
        "title": {
         "text": "肘部法则：选择最佳簇数"
        }
       },
       "config": {
        "plotlyServerURL": "https://plot.ly"
       }
      },
      "text/html": "<div>                            <div id=\"425ca7c1-10ad-4e6f-bb02-9a88db67183e\" class=\"plotly-graph-div\" style=\"height:525px; width:100%;\"></div>            <script type=\"text/javascript\">                require([\"plotly\"], function(Plotly) {                    window.PLOTLYENV=window.PLOTLYENV || {};                                    if (document.getElementById(\"425ca7c1-10ad-4e6f-bb02-9a88db67183e\")) {                    Plotly.newPlot(                        \"425ca7c1-10ad-4e6f-bb02-9a88db67183e\",                        [{\"hovertemplate\":\"簇数=%{x}\\u003cbr\\u003e惯性=%{y}\\u003cextra\\u003e\\u003c\\u002fextra\\u003e\",\"legendgroup\":\"\",\"line\":{\"color\":\"#636efa\",\"dash\":\"solid\"},\"marker\":{\"symbol\":\"circle\"},\"mode\":\"lines\",\"name\":\"\",\"orientation\":\"v\",\"showlegend\":false,\"x\":[1,2,3,4,5,6,7,8,9,10,11,12,13,14,15,16,17,18,19],\"xaxis\":\"x\",\"y\":[600.0000000000001,266.3492797613461,161.54695213271083,139.35891855918817,221.791150508633,141.6520826374375,207.13301956560525,219.3242339994576,93.49608170380367,139.8187718946852,107.41690294567891,82.29886155787412,120.82963825211115,101.16888003906944,51.833934681995586,85.09554373609981,76.64679715288551,116.83025283575239,93.45642915394495],\"yaxis\":\"y\",\"type\":\"scatter\"}],                        {\"template\":{\"data\":{\"histogram2dcontour\":[{\"type\":\"histogram2dcontour\",\"colorbar\":{\"outlinewidth\":0,\"ticks\":\"\"},\"colorscale\":[[0.0,\"#0d0887\"],[0.1111111111111111,\"#46039f\"],[0.2222222222222222,\"#7201a8\"],[0.3333333333333333,\"#9c179e\"],[0.4444444444444444,\"#bd3786\"],[0.5555555555555556,\"#d8576b\"],[0.6666666666666666,\"#ed7953\"],[0.7777777777777778,\"#fb9f3a\"],[0.8888888888888888,\"#fdca26\"],[1.0,\"#f0f921\"]]}],\"choropleth\":[{\"type\":\"choropleth\",\"colorbar\":{\"outlinewidth\":0,\"ticks\":\"\"}}],\"histogram2d\":[{\"type\":\"histogram2d\",\"colorbar\":{\"outlinewidth\":0,\"ticks\":\"\"},\"colorscale\":[[0.0,\"#0d0887\"],[0.1111111111111111,\"#46039f\"],[0.2222222222222222,\"#7201a8\"],[0.3333333333333333,\"#9c179e\"],[0.4444444444444444,\"#bd3786\"],[0.5555555555555556,\"#d8576b\"],[0.6666666666666666,\"#ed7953\"],[0.7777777777777778,\"#fb9f3a\"],[0.8888888888888888,\"#fdca26\"],[1.0,\"#f0f921\"]]}],\"heatmap\":[{\"type\":\"heatmap\",\"colorbar\":{\"outlinewidth\":0,\"ticks\":\"\"},\"colorscale\":[[0.0,\"#0d0887\"],[0.1111111111111111,\"#46039f\"],[0.2222222222222222,\"#7201a8\"],[0.3333333333333333,\"#9c179e\"],[0.4444444444444444,\"#bd3786\"],[0.5555555555555556,\"#d8576b\"],[0.6666666666666666,\"#ed7953\"],[0.7777777777777778,\"#fb9f3a\"],[0.8888888888888888,\"#fdca26\"],[1.0,\"#f0f921\"]]}],\"heatmapgl\":[{\"type\":\"heatmapgl\",\"colorbar\":{\"outlinewidth\":0,\"ticks\":\"\"},\"colorscale\":[[0.0,\"#0d0887\"],[0.1111111111111111,\"#46039f\"],[0.2222222222222222,\"#7201a8\"],[0.3333333333333333,\"#9c179e\"],[0.4444444444444444,\"#bd3786\"],[0.5555555555555556,\"#d8576b\"],[0.6666666666666666,\"#ed7953\"],[0.7777777777777778,\"#fb9f3a\"],[0.8888888888888888,\"#fdca26\"],[1.0,\"#f0f921\"]]}],\"contourcarpet\":[{\"type\":\"contourcarpet\",\"colorbar\":{\"outlinewidth\":0,\"ticks\":\"\"}}],\"contour\":[{\"type\":\"contour\",\"colorbar\":{\"outlinewidth\":0,\"ticks\":\"\"},\"colorscale\":[[0.0,\"#0d0887\"],[0.1111111111111111,\"#46039f\"],[0.2222222222222222,\"#7201a8\"],[0.3333333333333333,\"#9c179e\"],[0.4444444444444444,\"#bd3786\"],[0.5555555555555556,\"#d8576b\"],[0.6666666666666666,\"#ed7953\"],[0.7777777777777778,\"#fb9f3a\"],[0.8888888888888888,\"#fdca26\"],[1.0,\"#f0f921\"]]}],\"surface\":[{\"type\":\"surface\",\"colorbar\":{\"outlinewidth\":0,\"ticks\":\"\"},\"colorscale\":[[0.0,\"#0d0887\"],[0.1111111111111111,\"#46039f\"],[0.2222222222222222,\"#7201a8\"],[0.3333333333333333,\"#9c179e\"],[0.4444444444444444,\"#bd3786\"],[0.5555555555555556,\"#d8576b\"],[0.6666666666666666,\"#ed7953\"],[0.7777777777777778,\"#fb9f3a\"],[0.8888888888888888,\"#fdca26\"],[1.0,\"#f0f921\"]]}],\"mesh3d\":[{\"type\":\"mesh3d\",\"colorbar\":{\"outlinewidth\":0,\"ticks\":\"\"}}],\"scatter\":[{\"fillpattern\":{\"fillmode\":\"overlay\",\"size\":10,\"solidity\":0.2},\"type\":\"scatter\"}],\"parcoords\":[{\"type\":\"parcoords\",\"line\":{\"colorbar\":{\"outlinewidth\":0,\"ticks\":\"\"}}}],\"scatterpolargl\":[{\"type\":\"scatterpolargl\",\"marker\":{\"colorbar\":{\"outlinewidth\":0,\"ticks\":\"\"}}}],\"bar\":[{\"error_x\":{\"color\":\"#2a3f5f\"},\"error_y\":{\"color\":\"#2a3f5f\"},\"marker\":{\"line\":{\"color\":\"#E5ECF6\",\"width\":0.5},\"pattern\":{\"fillmode\":\"overlay\",\"size\":10,\"solidity\":0.2}},\"type\":\"bar\"}],\"scattergeo\":[{\"type\":\"scattergeo\",\"marker\":{\"colorbar\":{\"outlinewidth\":0,\"ticks\":\"\"}}}],\"scatterpolar\":[{\"type\":\"scatterpolar\",\"marker\":{\"colorbar\":{\"outlinewidth\":0,\"ticks\":\"\"}}}],\"histogram\":[{\"marker\":{\"pattern\":{\"fillmode\":\"overlay\",\"size\":10,\"solidity\":0.2}},\"type\":\"histogram\"}],\"scattergl\":[{\"type\":\"scattergl\",\"marker\":{\"colorbar\":{\"outlinewidth\":0,\"ticks\":\"\"}}}],\"scatter3d\":[{\"type\":\"scatter3d\",\"line\":{\"colorbar\":{\"outlinewidth\":0,\"ticks\":\"\"}},\"marker\":{\"colorbar\":{\"outlinewidth\":0,\"ticks\":\"\"}}}],\"scattermapbox\":[{\"type\":\"scattermapbox\",\"marker\":{\"colorbar\":{\"outlinewidth\":0,\"ticks\":\"\"}}}],\"scatterternary\":[{\"type\":\"scatterternary\",\"marker\":{\"colorbar\":{\"outlinewidth\":0,\"ticks\":\"\"}}}],\"scattercarpet\":[{\"type\":\"scattercarpet\",\"marker\":{\"colorbar\":{\"outlinewidth\":0,\"ticks\":\"\"}}}],\"carpet\":[{\"aaxis\":{\"endlinecolor\":\"#2a3f5f\",\"gridcolor\":\"white\",\"linecolor\":\"white\",\"minorgridcolor\":\"white\",\"startlinecolor\":\"#2a3f5f\"},\"baxis\":{\"endlinecolor\":\"#2a3f5f\",\"gridcolor\":\"white\",\"linecolor\":\"white\",\"minorgridcolor\":\"white\",\"startlinecolor\":\"#2a3f5f\"},\"type\":\"carpet\"}],\"table\":[{\"cells\":{\"fill\":{\"color\":\"#EBF0F8\"},\"line\":{\"color\":\"white\"}},\"header\":{\"fill\":{\"color\":\"#C8D4E3\"},\"line\":{\"color\":\"white\"}},\"type\":\"table\"}],\"barpolar\":[{\"marker\":{\"line\":{\"color\":\"#E5ECF6\",\"width\":0.5},\"pattern\":{\"fillmode\":\"overlay\",\"size\":10,\"solidity\":0.2}},\"type\":\"barpolar\"}],\"pie\":[{\"automargin\":true,\"type\":\"pie\"}]},\"layout\":{\"autotypenumbers\":\"strict\",\"colorway\":[\"#636efa\",\"#EF553B\",\"#00cc96\",\"#ab63fa\",\"#FFA15A\",\"#19d3f3\",\"#FF6692\",\"#B6E880\",\"#FF97FF\",\"#FECB52\"],\"font\":{\"color\":\"#2a3f5f\"},\"hovermode\":\"closest\",\"hoverlabel\":{\"align\":\"left\"},\"paper_bgcolor\":\"white\",\"plot_bgcolor\":\"#E5ECF6\",\"polar\":{\"bgcolor\":\"#E5ECF6\",\"angularaxis\":{\"gridcolor\":\"white\",\"linecolor\":\"white\",\"ticks\":\"\"},\"radialaxis\":{\"gridcolor\":\"white\",\"linecolor\":\"white\",\"ticks\":\"\"}},\"ternary\":{\"bgcolor\":\"#E5ECF6\",\"aaxis\":{\"gridcolor\":\"white\",\"linecolor\":\"white\",\"ticks\":\"\"},\"baxis\":{\"gridcolor\":\"white\",\"linecolor\":\"white\",\"ticks\":\"\"},\"caxis\":{\"gridcolor\":\"white\",\"linecolor\":\"white\",\"ticks\":\"\"}},\"coloraxis\":{\"colorbar\":{\"outlinewidth\":0,\"ticks\":\"\"}},\"colorscale\":{\"sequential\":[[0.0,\"#0d0887\"],[0.1111111111111111,\"#46039f\"],[0.2222222222222222,\"#7201a8\"],[0.3333333333333333,\"#9c179e\"],[0.4444444444444444,\"#bd3786\"],[0.5555555555555556,\"#d8576b\"],[0.6666666666666666,\"#ed7953\"],[0.7777777777777778,\"#fb9f3a\"],[0.8888888888888888,\"#fdca26\"],[1.0,\"#f0f921\"]],\"sequentialminus\":[[0.0,\"#0d0887\"],[0.1111111111111111,\"#46039f\"],[0.2222222222222222,\"#7201a8\"],[0.3333333333333333,\"#9c179e\"],[0.4444444444444444,\"#bd3786\"],[0.5555555555555556,\"#d8576b\"],[0.6666666666666666,\"#ed7953\"],[0.7777777777777778,\"#fb9f3a\"],[0.8888888888888888,\"#fdca26\"],[1.0,\"#f0f921\"]],\"diverging\":[[0,\"#8e0152\"],[0.1,\"#c51b7d\"],[0.2,\"#de77ae\"],[0.3,\"#f1b6da\"],[0.4,\"#fde0ef\"],[0.5,\"#f7f7f7\"],[0.6,\"#e6f5d0\"],[0.7,\"#b8e186\"],[0.8,\"#7fbc41\"],[0.9,\"#4d9221\"],[1,\"#276419\"]]},\"xaxis\":{\"gridcolor\":\"white\",\"linecolor\":\"white\",\"ticks\":\"\",\"title\":{\"standoff\":15},\"zerolinecolor\":\"white\",\"automargin\":true,\"zerolinewidth\":2},\"yaxis\":{\"gridcolor\":\"white\",\"linecolor\":\"white\",\"ticks\":\"\",\"title\":{\"standoff\":15},\"zerolinecolor\":\"white\",\"automargin\":true,\"zerolinewidth\":2},\"scene\":{\"xaxis\":{\"backgroundcolor\":\"#E5ECF6\",\"gridcolor\":\"white\",\"linecolor\":\"white\",\"showbackground\":true,\"ticks\":\"\",\"zerolinecolor\":\"white\",\"gridwidth\":2},\"yaxis\":{\"backgroundcolor\":\"#E5ECF6\",\"gridcolor\":\"white\",\"linecolor\":\"white\",\"showbackground\":true,\"ticks\":\"\",\"zerolinecolor\":\"white\",\"gridwidth\":2},\"zaxis\":{\"backgroundcolor\":\"#E5ECF6\",\"gridcolor\":\"white\",\"linecolor\":\"white\",\"showbackground\":true,\"ticks\":\"\",\"zerolinecolor\":\"white\",\"gridwidth\":2}},\"shapedefaults\":{\"line\":{\"color\":\"#2a3f5f\"}},\"annotationdefaults\":{\"arrowcolor\":\"#2a3f5f\",\"arrowhead\":0,\"arrowwidth\":1},\"geo\":{\"bgcolor\":\"white\",\"landcolor\":\"#E5ECF6\",\"subunitcolor\":\"white\",\"showland\":true,\"showlakes\":true,\"lakecolor\":\"white\"},\"title\":{\"x\":0.05},\"mapbox\":{\"style\":\"light\"}}},\"xaxis\":{\"anchor\":\"y\",\"domain\":[0.0,1.0],\"title\":{\"text\":\"簇数\"}},\"yaxis\":{\"anchor\":\"x\",\"domain\":[0.0,1.0],\"title\":{\"text\":\"惯性\"}},\"legend\":{\"tracegroupgap\":0},\"title\":{\"text\":\"肘部法则：选择最佳簇数\"}},                        {\"responsive\": true}                    ).then(function(){\n                            \nvar gd = document.getElementById('425ca7c1-10ad-4e6f-bb02-9a88db67183e');\nvar x = new MutationObserver(function (mutations, observer) {{\n        var display = window.getComputedStyle(gd).display;\n        if (!display || display === 'none') {{\n            console.log([gd, 'removed!']);\n            Plotly.purge(gd);\n            observer.disconnect();\n        }}\n}});\n\n// Listen for the removal of the full notebook cells\nvar notebookContainer = gd.closest('#notebook-container');\nif (notebookContainer) {{\n    x.observe(notebookContainer, {childList: true});\n}}\n\n// Listen for the clearing of the current output cell\nvar outputEl = gd.closest('.output');\nif (outputEl) {{\n    x.observe(outputEl, {childList: true});\n}}\n\n                        })                };                });            </script>        </div>"
     },
     "metadata": {},
     "output_type": "display_data"
    }
   ],
   "source": [
    "silhouette_avg = silhouette_score(scaled_data, labels)  # 计算轮廓系数\n",
    "print(f\"聚类的轮廓系数: {silhouette_avg:.3f}\")  \n",
    "\n",
    "def compute_inertia(X, centroids, labels):\n",
    "    \"\"\"\n",
    "    计算惯性值（聚类的总平方误差）\n",
    "    :param X: 输入数据\n",
    "    :param centroids: 聚类中心\n",
    "    :param labels: 聚类标签\n",
    "    :return: 惯性值\n",
    "    \"\"\"\n",
    "    distances = np.linalg.norm(X - centroids[labels], axis=1)  \n",
    "    \n",
    "    return np.sum(distances ** 2)  # 计算即惯性值\n",
    "\n",
    "inertia = []  # 不同簇数下的惯性值\n",
    "for n in range(1, 20):  \n",
    "    kmeans_manual = KMeans(n_clusters=n, random_state=42)  \n",
    "    kmeans_manual.fit(scaled_data)  \n",
    "    labels = kmeans_manual.labels  \n",
    "    centroids = kmeans_manual.centroids  \n",
    "    inertia.append(compute_inertia(scaled_data, centroids, labels))  \n",
    "    \n",
    "\n",
    "fig_elbow = px.line(  \n",
    "    x=range(1, 20),  \n",
    "    y=inertia,  \n",
    "    title=\"肘部法则：选择最佳簇数\",  \n",
    "    labels={\"x\": \"簇数\", \"y\": \"惯性\"},  \n",
    ")  \n",
    "fig_elbow.show()  "
   ],
   "metadata": {
    "collapsed": false,
    "ExecuteTime": {
     "end_time": "2025-04-29T02:58:24.260448500Z",
     "start_time": "2025-04-29T02:58:24.151344400Z"
    }
   },
   "id": "81dfa62b38e0a8ca",
   "execution_count": 29
  },
  {
   "cell_type": "markdown",
   "source": [
    "# DBScan"
   ],
   "metadata": {
    "collapsed": false
   },
   "id": "ae5606f61f812e0d"
  },
  {
   "cell_type": "code",
   "outputs": [
    {
     "data": {
      "application/vnd.plotly.v1+json": {
       "data": [
        {
         "hovertemplate": "特征 1=%{x}<br>特征 2=%{y}<br>簇=%{marker.color}<extra></extra>",
         "legendgroup": "",
         "marker": {
          "color": [
           1,
           -1,
           2,
           1,
           1,
           1,
           1,
           1,
           1,
           1,
           1,
           1,
           1,
           1,
           1,
           1,
           1,
           1,
           1,
           1,
           1,
           1,
           1,
           1,
           1,
           1,
           1,
           1,
           1,
           1,
           1,
           1,
           1,
           1,
           1,
           1,
           1,
           1,
           1,
           1,
           1,
           1,
           1,
           1,
           1,
           1,
           1,
           1,
           1,
           1,
           1,
           1,
           1,
           1,
           1,
           1,
           1,
           1,
           1,
           1,
           1,
           1,
           1,
           1,
           1,
           1,
           1,
           -1,
           1,
           1,
           1,
           1,
           1,
           1,
           1,
           1,
           1,
           1,
           1,
           1,
           1,
           1,
           1,
           1,
           -1,
           1,
           1,
           1,
           1,
           1,
           1,
           1,
           1,
           1,
           1,
           1,
           1,
           1,
           1,
           1,
           3,
           3,
           3,
           3,
           3,
           3,
           3,
           3,
           3,
           3,
           3,
           3,
           3,
           3,
           3,
           3,
           3,
           3,
           3,
           3,
           3,
           3,
           3,
           3,
           3,
           3,
           3,
           3,
           3,
           3,
           3,
           3,
           3,
           3,
           3,
           3,
           3,
           3,
           3,
           3,
           3,
           3,
           3,
           3,
           3,
           3,
           3,
           3,
           3,
           3,
           3,
           3,
           3,
           3,
           3,
           3,
           3,
           3,
           3,
           3,
           3,
           3,
           3,
           3,
           3,
           3,
           3,
           3,
           3,
           3,
           3,
           3,
           3,
           3,
           3,
           3,
           3,
           3,
           3,
           3,
           3,
           3,
           3,
           3,
           3,
           3,
           3,
           3,
           3,
           3,
           3,
           3,
           3,
           3,
           3,
           3,
           -1,
           3,
           -1,
           3,
           2,
           2,
           2,
           2,
           2,
           2,
           2,
           2,
           2,
           2,
           2,
           2,
           2,
           2,
           2,
           2,
           2,
           2,
           2,
           2,
           2,
           2,
           2,
           2,
           2,
           2,
           2,
           2,
           2,
           2,
           2,
           2,
           2,
           2,
           2,
           2,
           2,
           2,
           2,
           2,
           2,
           2,
           2,
           2,
           2,
           2,
           2,
           2,
           2,
           2,
           2,
           2,
           2,
           2,
           2,
           2,
           2,
           2,
           2,
           2,
           2,
           2,
           2,
           2,
           2,
           2,
           -1,
           2,
           2,
           2,
           2,
           2,
           2,
           2,
           2,
           2,
           2,
           2,
           2,
           -1,
           2,
           2,
           2,
           2,
           2,
           2,
           2,
           2,
           2,
           2,
           2,
           2,
           2,
           2,
           2,
           2,
           2,
           2,
           2,
           1
          ],
          "coloraxis": "coloraxis",
          "symbol": "circle"
         },
         "mode": "markers",
         "name": "",
         "orientation": "v",
         "showlegend": false,
         "x": [
          1.8420795311261555,
          5.658583120618816,
          6.35257892020234,
          2.904016525281363,
          3.2319791572074426,
          1.2479226797003768,
          1.97619886162512,
          2.23454135329173,
          2.9834075716604347,
          2.979703906925933,
          2.114964111296854,
          2.121695429851929,
          1.514352903108069,
          2.1697922709882342,
          0.4185237324421214,
          2.47053694822282,
          4.060691324409988,
          3.0070893379030883,
          0.6663234559392024,
          3.162186503015328,
          0.5115525803972185,
          3.134280099558564,
          2.049745950070817,
          0.665827852422697,
          1.0173201258293545,
          2.178935676285175,
          2.8596261496674256,
          1.308825883599691,
          0.9925324554451718,
          1.4037263817193335,
          2.660465724208499,
          2.7999588192935536,
          2.069953453750165,
          3.2976518091928098,
          1.8929765958025333,
          2.5598306396203334,
          1.153540312065502,
          2.2515075383287666,
          2.209602955078801,
          1.5914193717920568,
          1.6783803760299154,
          2.5914864171878738,
          2.8099644223368205,
          0.953116272018942,
          1.5177527591280904,
          3.231142476556044,
          2.5418001057260597,
          3.8142286544291366,
          1.684958290504217,
          2.1777717336419573,
          1.81733279599126,
          1.857765534416548,
          3.0308430076969914,
          2.9265829487849206,
          3.4349354315667204,
          3.203671162333278,
          0.1051180394588671,
          1.4059791628972462,
          2.241850515528486,
          1.3667839525662495,
          1.707254821599876,
          1.9190956589454176,
          1.601567313150977,
          0.3796343714386487,
          2.02134502433816,
          1.120367372903417,
          2.2690142804657305,
          -0.2451271276617017,
          2.128578426246194,
          1.8441998110251223,
          2.3255825322728683,
          1.5233411310579263,
          1.0228512846407858,
          1.8538273720727831,
          2.2032165835580124,
          1.2009998119131844,
          1.0206270273889793,
          1.604932266103602,
          0.4764735513254672,
          0.3639172040966811,
          0.3131984500482181,
          2.2866483910158677,
          2.154601389641329,
          2.0528851765061518,
          4.888043316568204,
          2.403047466924176,
          2.568694529536674,
          1.8297599254285275,
          0.5484522320181779,
          3.171096186656912,
          3.042020694060989,
          2.404277749844845,
          0.1778346644668875,
          2.6142867842398347,
          2.3009779823162417,
          3.9077931723316217,
          2.0567054240880105,
          1.3813349700697428,
          1.1607417785188765,
          1.7281819943472312,
          3.2036062057779144,
          3.061929184157545,
          4.017149169469283,
          1.4026082193785905,
          4.081649507530082,
          3.1527308085072985,
          3.4518635089270657,
          3.8538431375932074,
          1.5744925512126997,
          4.72372077755589,
          2.8796108406812584,
          0.9679134767334232,
          1.5317810704822732,
          4.138359152178729,
          3.161090214815601,
          2.951770389082617,
          3.2784429546227427,
          2.1270184993118018,
          3.3264888481347885,
          2.5437148945678403,
          3.233946999894361,
          4.431529762704597,
          3.5647862538954813,
          4.255884820986278,
          4.053865813388372,
          3.0897017602678742,
          2.8473445933325423,
          3.6358604869258224,
          1.955388637259492,
          2.8838400473503127,
          3.484443872790626,
          3.497984124763063,
          2.455759339638348,
          3.203800095269826,
          3.006772536867357,
          1.965479737608877,
          2.1798933319744465,
          2.612070293192836,
          3.9554991153824592,
          3.648464816547517,
          4.184500106526444,
          3.78757230175684,
          3.3006365498721384,
          3.02836363232283,
          3.1841217562056885,
          4.169118966225332,
          3.240242111019093,
          3.915960677768852,
          2.9697971618738923,
          1.1299385570386,
          2.717307986328911,
          3.1189016958972675,
          2.4051802002605527,
          2.9581842907871807,
          1.6545630850790554,
          2.3977580681531183,
          2.284093050088675,
          2.795887243076254,
          3.4115627708591223,
          3.5066352127611102,
          3.9361602886035065,
          3.902066572515992,
          2.610363960633363,
          4.372718610315967,
          3.083491363119661,
          2.1159935015877323,
          2.156534044871015,
          2.144911011682092,
          1.8493552407584717,
          4.159081601434126,
          2.764944992381324,
          3.905611531758359,
          2.540716724478098,
          4.277830681418135,
          3.3105816690186938,
          2.155206613462027,
          3.713636588104567,
          3.5401018635547064,
          1.6051999144777125,
          1.7516433715618278,
          3.124051226487953,
          2.3719878528947334,
          2.534460192788522,
          3.683446503425531,
          3.267013396283058,
          3.941591391535048,
          3.2645514018838435,
          4.304711382466017,
          2.684993757562959,
          3.126351840441264,
          2.9429435569199853,
          3.118765410908555,
          2.0235897790944337,
          3.622029314554192,
          2.4286587861147773,
          2.0951729618655994,
          5.292394521306933,
          2.0729170855338177,
          0.9462320825757168,
          2.739119075886318,
          6.005065336398827,
          6.0569641091736495,
          6.770127666721521,
          5.640346781001489,
          5.633254027407438,
          6.174431565363438,
          7.246947941745138,
          5.581629063930656,
          5.362720504336735,
          4.70775773362377,
          7.428920981004157,
          6.641072482533531,
          6.374736515665913,
          7.287803244048407,
          6.2029523094848535,
          5.387360412681998,
          5.667310300677457,
          6.597021551786485,
          7.756605593713768,
          6.632627452617938,
          5.7663495877683415,
          5.994231542030925,
          6.378704072854217,
          5.740362333785032,
          4.616524417150913,
          5.335339987326496,
          5.372939124793692,
          5.036111615427723,
          5.529086767660337,
          6.050869424857448,
          5.132008998429942,
          5.732849448865801,
          6.781107319547244,
          6.448344486992528,
          6.399414819366499,
          5.860679247147698,
          6.447651830577588,
          5.367081109651559,
          5.8873556526849535,
          3.9616246541869216,
          6.284381932579608,
          4.205847888245449,
          5.326155813846448,
          7.171352036284695,
          7.494927502838001,
          7.398072414628061,
          5.024329841014982,
          5.317124783074046,
          5.876552365538852,
          6.037628331680621,
          5.912802727354569,
          6.694513582424757,
          6.0101797788609845,
          6.927219684374198,
          6.335595219108058,
          6.2425707075521615,
          5.578122938363613,
          6.407738625745769,
          6.800295256441381,
          7.216840328780716,
          6.511007399653392,
          4.606305339926791,
          7.655032263472198,
          5.502957590616259,
          6.630606985789793,
          3.4592800643452866,
          8.203398153359817,
          4.9567942756934205,
          5.370526670765466,
          5.697978664307992,
          6.273762709954784,
          5.05274526001882,
          6.885755837329,
          4.187744196259964,
          5.975103279293128,
          6.094571294802686,
          5.723956974354073,
          4.372497673493347,
          6.29206262170893,
          5.145330350868728,
          6.587056504854597,
          5.7876909544557,
          6.727980978712887,
          6.640789386230871,
          6.232288777398539,
          6.217727237731909,
          5.781163010356058,
          6.624472531850962,
          5.195908230361076,
          5.871771805724644,
          5.895620994170579,
          5.617543198026376,
          5.631761031004175,
          5.502586590242818,
          6.482126282928347,
          7.30278708280303,
          6.991984340611751,
          4.825534095511381,
          6.117680550153719,
          0.940489440353196
         ],
         "xaxis": "x",
         "y": [
          4.607571604482282,
          4.799964054441543,
          3.2908544987542663,
          4.612204112815066,
          4.939894052826295,
          4.93267846009402,
          4.434896742381875,
          5.055471681344978,
          4.840464061253519,
          4.806710807986595,
          5.373735865287625,
          5.208542115552275,
          4.77003303264906,
          5.274353538341508,
          4.883125218349286,
          4.804189440854675,
          4.995038620740097,
          4.678977577376825,
          4.871879490418842,
          4.836583005763322,
          4.910529229502589,
          4.961781139153404,
          5.624139495988096,
          5.243992574839312,
          4.844736469192718,
          5.29758701369049,
          5.260419973323453,
          5.301587009101879,
          5.015674237577476,
          4.575276844394842,
          5.196238478566125,
          5.115263227051593,
          4.68467130341947,
          5.592055349989062,
          4.890432088944249,
          5.263977564175146,
          4.678667174337322,
          5.44500310210926,
          4.914692641452207,
          4.832125726643392,
          5.2690382174802215,
          4.925933935454911,
          5.538498989714164,
          5.580371075704837,
          5.038366376905697,
          5.784296646013455,
          4.810987375514933,
          4.735267964925186,
          4.5964355345526,
          4.861540188503138,
          5.133339067003756,
          4.869624135455342,
          5.240575821340838,
          5.096679228841688,
          5.340807411956873,
          4.859247586559391,
          4.729163438461413,
          5.066368224996453,
          4.9244617023247255,
          5.261610953537723,
          4.0423147944003865,
          5.578484465015508,
          4.644530115981849,
          5.261947294103528,
          4.412674449222839,
          5.208807468302654,
          4.618188827708471,
          5.740192366387896,
          5.01149793096124,
          5.031539479749028,
          4.748679619050756,
          4.8791615932566605,
          5.010506504958272,
          5.007524823118074,
          4.9451637873213485,
          4.578297628829255,
          4.629911191127603,
          5.136631390741864,
          5.135359772867848,
          4.73332822591586,
          5.546946435563959,
          5.007669903345754,
          5.462829590785801,
          4.779585588568983,
          5.506707952236728,
          5.081473257321243,
          5.206878859954676,
          4.596572882818212,
          5.02672980169041,
          5.594645195347297,
          5.007583730318273,
          5.02587069662433,
          5.297650317664919,
          5.222874141673731,
          4.972358439910461,
          5.094646759998636,
          5.233913255151575,
          5.001949624092176,
          4.677279268477293,
          5.36028437434454,
          0.7222149034236587,
          1.5719210992485262,
          1.1607064678528023,
          1.0872653580630562,
          0.872003428739607,
          0.9815587114697814,
          0.427840834415254,
          0.7920479033506194,
          1.3481112594910267,
          0.6204413584594055,
          0.7541374110660162,
          1.1616681947644747,
          1.1005485242324748,
          1.2478097932507732,
          1.2942289318415272,
          0.8958314324641911,
          1.750439261520662,
          0.9567204249582624,
          1.2801906639493872,
          0.9573271589986068,
          1.0820232401768624,
          0.5404100030365326,
          1.117647142657849,
          0.906439572236069,
          0.5329186210157868,
          1.0881444823769872,
          0.2675925319316858,
          1.1216019434923548,
          1.321568569161503,
          0.8045450649676619,
          1.1355144824379535,
          1.1004640210347765,
          0.7890465416425023,
          1.0272807463558216,
          0.625191281541267,
          1.2173076049288782,
          1.308798305086229,
          0.9907685574084988,
          0.8326929897165098,
          1.628496974308694,
          0.4535620312008207,
          1.4544290445226995,
          1.2810758821084065,
          1.356351889867326,
          1.4141079887295975,
          0.2058103774770208,
          1.1487623727645102,
          1.012257735490282,
          1.0121030599292014,
          0.770852843682668,
          0.4869755461809559,
          0.6943833555225435,
          1.117781226884269,
          1.0188709568753616,
          1.1863117476010434,
          1.2472138735497558,
          0.6486546903964623,
          0.9952666365513956,
          1.1596362974706589,
          0.7387810441941597,
          1.4620293406882423,
          1.277787507048313,
          0.8802760188273794,
          1.0291409195709396,
          1.1963264443568251,
          0.7930365000883433,
          0.4035886068351918,
          1.1358239904983922,
          1.022326436980281,
          0.6172073250362708,
          1.431489505711269,
          1.1657531498432012,
          0.9839251586297414,
          1.180136796728559,
          1.031244609451246,
          0.8069656235345628,
          0.4581320816161256,
          0.864461352047468,
          1.109805302134234,
          0.6885353609048434,
          0.6782175665304078,
          1.4278960719163036,
          1.215620812788234,
          1.228345375360799,
          0.3205667586236743,
          0.8257743797704139,
          1.3836868984255504,
          1.107259950849141,
          0.3534494332134992,
          1.2806892975237558,
          1.028250762556938,
          1.332854585759118,
          0.447716138160535,
          1.2864376300924134,
          0.8649928452669559,
          1.1401049110506878,
          0.3687329803035045,
          1.1676385057503424,
          0.2452225283820371,
          1.100722839009583,
          2.727841713587384,
          2.9497043325204046,
          3.214114215383589,
          2.6938528220486404,
          2.990023386279589,
          3.2902648803675434,
          2.9687742421277563,
          3.3351037462060464,
          3.1468119220583373,
          2.787108694840931,
          3.466794896488929,
          3.0599873792651504,
          2.5625305919319183,
          2.7517988465447667,
          2.6785617898769707,
          2.267373457548288,
          2.9647786730521912,
          3.070823760206949,
          3.1560446461824103,
          3.147991826330151,
          3.1427170744346853,
          2.7570785849923065,
          2.650223208757134,
          3.103913060350143,
          2.7932071508556477,
          3.039286944297795,
          2.816847755729278,
          2.924860873447376,
          3.336815764978288,
          2.8070259443516634,
          2.198121948150304,
          2.8773813216769755,
          3.05676866020901,
          3.3529922496221007,
          2.8975694844683377,
          2.995771287055466,
          3.1656094546343536,
          3.1950255161881342,
          3.346155661401808,
          2.72025046330054,
          3.1736064316433823,
          2.8164736834371635,
          3.033140472272608,
          3.4122727007565823,
          2.8401875400218235,
          3.4848703059391672,
          2.9868317853348563,
          2.817413560279757,
          3.216611091154561,
          2.6830351150892136,
          2.8563193765165886,
          2.890560826096426,
          2.724013381935843,
          3.199600255791053,
          3.30864291189389,
          2.791792687595131,
          3.247660162539342,
          2.6755495094705086,
          3.17579577996112,
          2.728965745190048,
          2.7273190659262743,
          3.329458003252386,
          2.870956284238776,
          2.6292463440042564,
          3.015023010300451,
          2.684784447523264,
          2.4169349520394388,
          2.897762969043581,
          2.4495481341998326,
          2.949771319733885,
          2.242560360890311,
          2.756921629697973,
          2.88845269257306,
          2.8928346339770745,
          3.0259190998465844,
          2.618679749914378,
          3.04454219379047,
          3.054882171401887,
          2.775738556384176,
          4.132256915057223,
          3.375083452766874,
          3.2925512732268567,
          3.004398300225435,
          2.4106883885905326,
          2.7285090223319397,
          2.80994633217706,
          3.079877867015621,
          2.744537425706766,
          3.06972936535178,
          3.2551773046247563,
          2.898439774276882,
          2.597507103274049,
          3.047587472381008,
          3.118690754276496,
          2.550851397135404,
          3.3801597885210763,
          2.98706728722547,
          2.7796166391805075,
          2.8547565521647957,
          5.715568023943128
         ],
         "yaxis": "y",
         "type": "scatter"
        },
        {
         "marker": {
          "color": "red",
          "line": {
           "width": 2
          },
          "size": 20,
          "symbol": "x"
         },
         "mode": "markers",
         "name": "聚类中心",
         "x": [
          1.9766660235451712,
          5.988696789580379,
          3.028519697316797
         ],
         "y": [
          5.018202819148929,
          2.9449151246997403,
          0.9954374611352393
         ],
         "type": "scatter"
        }
       ],
       "layout": {
        "template": {
         "data": {
          "histogram2dcontour": [
           {
            "type": "histogram2dcontour",
            "colorbar": {
             "outlinewidth": 0,
             "ticks": ""
            },
            "colorscale": [
             [
              0.0,
              "#0d0887"
             ],
             [
              0.1111111111111111,
              "#46039f"
             ],
             [
              0.2222222222222222,
              "#7201a8"
             ],
             [
              0.3333333333333333,
              "#9c179e"
             ],
             [
              0.4444444444444444,
              "#bd3786"
             ],
             [
              0.5555555555555556,
              "#d8576b"
             ],
             [
              0.6666666666666666,
              "#ed7953"
             ],
             [
              0.7777777777777778,
              "#fb9f3a"
             ],
             [
              0.8888888888888888,
              "#fdca26"
             ],
             [
              1.0,
              "#f0f921"
             ]
            ]
           }
          ],
          "choropleth": [
           {
            "type": "choropleth",
            "colorbar": {
             "outlinewidth": 0,
             "ticks": ""
            }
           }
          ],
          "histogram2d": [
           {
            "type": "histogram2d",
            "colorbar": {
             "outlinewidth": 0,
             "ticks": ""
            },
            "colorscale": [
             [
              0.0,
              "#0d0887"
             ],
             [
              0.1111111111111111,
              "#46039f"
             ],
             [
              0.2222222222222222,
              "#7201a8"
             ],
             [
              0.3333333333333333,
              "#9c179e"
             ],
             [
              0.4444444444444444,
              "#bd3786"
             ],
             [
              0.5555555555555556,
              "#d8576b"
             ],
             [
              0.6666666666666666,
              "#ed7953"
             ],
             [
              0.7777777777777778,
              "#fb9f3a"
             ],
             [
              0.8888888888888888,
              "#fdca26"
             ],
             [
              1.0,
              "#f0f921"
             ]
            ]
           }
          ],
          "heatmap": [
           {
            "type": "heatmap",
            "colorbar": {
             "outlinewidth": 0,
             "ticks": ""
            },
            "colorscale": [
             [
              0.0,
              "#0d0887"
             ],
             [
              0.1111111111111111,
              "#46039f"
             ],
             [
              0.2222222222222222,
              "#7201a8"
             ],
             [
              0.3333333333333333,
              "#9c179e"
             ],
             [
              0.4444444444444444,
              "#bd3786"
             ],
             [
              0.5555555555555556,
              "#d8576b"
             ],
             [
              0.6666666666666666,
              "#ed7953"
             ],
             [
              0.7777777777777778,
              "#fb9f3a"
             ],
             [
              0.8888888888888888,
              "#fdca26"
             ],
             [
              1.0,
              "#f0f921"
             ]
            ]
           }
          ],
          "heatmapgl": [
           {
            "type": "heatmapgl",
            "colorbar": {
             "outlinewidth": 0,
             "ticks": ""
            },
            "colorscale": [
             [
              0.0,
              "#0d0887"
             ],
             [
              0.1111111111111111,
              "#46039f"
             ],
             [
              0.2222222222222222,
              "#7201a8"
             ],
             [
              0.3333333333333333,
              "#9c179e"
             ],
             [
              0.4444444444444444,
              "#bd3786"
             ],
             [
              0.5555555555555556,
              "#d8576b"
             ],
             [
              0.6666666666666666,
              "#ed7953"
             ],
             [
              0.7777777777777778,
              "#fb9f3a"
             ],
             [
              0.8888888888888888,
              "#fdca26"
             ],
             [
              1.0,
              "#f0f921"
             ]
            ]
           }
          ],
          "contourcarpet": [
           {
            "type": "contourcarpet",
            "colorbar": {
             "outlinewidth": 0,
             "ticks": ""
            }
           }
          ],
          "contour": [
           {
            "type": "contour",
            "colorbar": {
             "outlinewidth": 0,
             "ticks": ""
            },
            "colorscale": [
             [
              0.0,
              "#0d0887"
             ],
             [
              0.1111111111111111,
              "#46039f"
             ],
             [
              0.2222222222222222,
              "#7201a8"
             ],
             [
              0.3333333333333333,
              "#9c179e"
             ],
             [
              0.4444444444444444,
              "#bd3786"
             ],
             [
              0.5555555555555556,
              "#d8576b"
             ],
             [
              0.6666666666666666,
              "#ed7953"
             ],
             [
              0.7777777777777778,
              "#fb9f3a"
             ],
             [
              0.8888888888888888,
              "#fdca26"
             ],
             [
              1.0,
              "#f0f921"
             ]
            ]
           }
          ],
          "surface": [
           {
            "type": "surface",
            "colorbar": {
             "outlinewidth": 0,
             "ticks": ""
            },
            "colorscale": [
             [
              0.0,
              "#0d0887"
             ],
             [
              0.1111111111111111,
              "#46039f"
             ],
             [
              0.2222222222222222,
              "#7201a8"
             ],
             [
              0.3333333333333333,
              "#9c179e"
             ],
             [
              0.4444444444444444,
              "#bd3786"
             ],
             [
              0.5555555555555556,
              "#d8576b"
             ],
             [
              0.6666666666666666,
              "#ed7953"
             ],
             [
              0.7777777777777778,
              "#fb9f3a"
             ],
             [
              0.8888888888888888,
              "#fdca26"
             ],
             [
              1.0,
              "#f0f921"
             ]
            ]
           }
          ],
          "mesh3d": [
           {
            "type": "mesh3d",
            "colorbar": {
             "outlinewidth": 0,
             "ticks": ""
            }
           }
          ],
          "scatter": [
           {
            "fillpattern": {
             "fillmode": "overlay",
             "size": 10,
             "solidity": 0.2
            },
            "type": "scatter"
           }
          ],
          "parcoords": [
           {
            "type": "parcoords",
            "line": {
             "colorbar": {
              "outlinewidth": 0,
              "ticks": ""
             }
            }
           }
          ],
          "scatterpolargl": [
           {
            "type": "scatterpolargl",
            "marker": {
             "colorbar": {
              "outlinewidth": 0,
              "ticks": ""
             }
            }
           }
          ],
          "bar": [
           {
            "error_x": {
             "color": "#2a3f5f"
            },
            "error_y": {
             "color": "#2a3f5f"
            },
            "marker": {
             "line": {
              "color": "#E5ECF6",
              "width": 0.5
             },
             "pattern": {
              "fillmode": "overlay",
              "size": 10,
              "solidity": 0.2
             }
            },
            "type": "bar"
           }
          ],
          "scattergeo": [
           {
            "type": "scattergeo",
            "marker": {
             "colorbar": {
              "outlinewidth": 0,
              "ticks": ""
             }
            }
           }
          ],
          "scatterpolar": [
           {
            "type": "scatterpolar",
            "marker": {
             "colorbar": {
              "outlinewidth": 0,
              "ticks": ""
             }
            }
           }
          ],
          "histogram": [
           {
            "marker": {
             "pattern": {
              "fillmode": "overlay",
              "size": 10,
              "solidity": 0.2
             }
            },
            "type": "histogram"
           }
          ],
          "scattergl": [
           {
            "type": "scattergl",
            "marker": {
             "colorbar": {
              "outlinewidth": 0,
              "ticks": ""
             }
            }
           }
          ],
          "scatter3d": [
           {
            "type": "scatter3d",
            "line": {
             "colorbar": {
              "outlinewidth": 0,
              "ticks": ""
             }
            },
            "marker": {
             "colorbar": {
              "outlinewidth": 0,
              "ticks": ""
             }
            }
           }
          ],
          "scattermapbox": [
           {
            "type": "scattermapbox",
            "marker": {
             "colorbar": {
              "outlinewidth": 0,
              "ticks": ""
             }
            }
           }
          ],
          "scatterternary": [
           {
            "type": "scatterternary",
            "marker": {
             "colorbar": {
              "outlinewidth": 0,
              "ticks": ""
             }
            }
           }
          ],
          "scattercarpet": [
           {
            "type": "scattercarpet",
            "marker": {
             "colorbar": {
              "outlinewidth": 0,
              "ticks": ""
             }
            }
           }
          ],
          "carpet": [
           {
            "aaxis": {
             "endlinecolor": "#2a3f5f",
             "gridcolor": "white",
             "linecolor": "white",
             "minorgridcolor": "white",
             "startlinecolor": "#2a3f5f"
            },
            "baxis": {
             "endlinecolor": "#2a3f5f",
             "gridcolor": "white",
             "linecolor": "white",
             "minorgridcolor": "white",
             "startlinecolor": "#2a3f5f"
            },
            "type": "carpet"
           }
          ],
          "table": [
           {
            "cells": {
             "fill": {
              "color": "#EBF0F8"
             },
             "line": {
              "color": "white"
             }
            },
            "header": {
             "fill": {
              "color": "#C8D4E3"
             },
             "line": {
              "color": "white"
             }
            },
            "type": "table"
           }
          ],
          "barpolar": [
           {
            "marker": {
             "line": {
              "color": "#E5ECF6",
              "width": 0.5
             },
             "pattern": {
              "fillmode": "overlay",
              "size": 10,
              "solidity": 0.2
             }
            },
            "type": "barpolar"
           }
          ],
          "pie": [
           {
            "automargin": true,
            "type": "pie"
           }
          ]
         },
         "layout": {
          "autotypenumbers": "strict",
          "colorway": [
           "#636efa",
           "#EF553B",
           "#00cc96",
           "#ab63fa",
           "#FFA15A",
           "#19d3f3",
           "#FF6692",
           "#B6E880",
           "#FF97FF",
           "#FECB52"
          ],
          "font": {
           "color": "#2a3f5f"
          },
          "hovermode": "closest",
          "hoverlabel": {
           "align": "left"
          },
          "paper_bgcolor": "white",
          "plot_bgcolor": "#E5ECF6",
          "polar": {
           "bgcolor": "#E5ECF6",
           "angularaxis": {
            "gridcolor": "white",
            "linecolor": "white",
            "ticks": ""
           },
           "radialaxis": {
            "gridcolor": "white",
            "linecolor": "white",
            "ticks": ""
           }
          },
          "ternary": {
           "bgcolor": "#E5ECF6",
           "aaxis": {
            "gridcolor": "white",
            "linecolor": "white",
            "ticks": ""
           },
           "baxis": {
            "gridcolor": "white",
            "linecolor": "white",
            "ticks": ""
           },
           "caxis": {
            "gridcolor": "white",
            "linecolor": "white",
            "ticks": ""
           }
          },
          "coloraxis": {
           "colorbar": {
            "outlinewidth": 0,
            "ticks": ""
           }
          },
          "colorscale": {
           "sequential": [
            [
             0.0,
             "#0d0887"
            ],
            [
             0.1111111111111111,
             "#46039f"
            ],
            [
             0.2222222222222222,
             "#7201a8"
            ],
            [
             0.3333333333333333,
             "#9c179e"
            ],
            [
             0.4444444444444444,
             "#bd3786"
            ],
            [
             0.5555555555555556,
             "#d8576b"
            ],
            [
             0.6666666666666666,
             "#ed7953"
            ],
            [
             0.7777777777777778,
             "#fb9f3a"
            ],
            [
             0.8888888888888888,
             "#fdca26"
            ],
            [
             1.0,
             "#f0f921"
            ]
           ],
           "sequentialminus": [
            [
             0.0,
             "#0d0887"
            ],
            [
             0.1111111111111111,
             "#46039f"
            ],
            [
             0.2222222222222222,
             "#7201a8"
            ],
            [
             0.3333333333333333,
             "#9c179e"
            ],
            [
             0.4444444444444444,
             "#bd3786"
            ],
            [
             0.5555555555555556,
             "#d8576b"
            ],
            [
             0.6666666666666666,
             "#ed7953"
            ],
            [
             0.7777777777777778,
             "#fb9f3a"
            ],
            [
             0.8888888888888888,
             "#fdca26"
            ],
            [
             1.0,
             "#f0f921"
            ]
           ],
           "diverging": [
            [
             0,
             "#8e0152"
            ],
            [
             0.1,
             "#c51b7d"
            ],
            [
             0.2,
             "#de77ae"
            ],
            [
             0.3,
             "#f1b6da"
            ],
            [
             0.4,
             "#fde0ef"
            ],
            [
             0.5,
             "#f7f7f7"
            ],
            [
             0.6,
             "#e6f5d0"
            ],
            [
             0.7,
             "#b8e186"
            ],
            [
             0.8,
             "#7fbc41"
            ],
            [
             0.9,
             "#4d9221"
            ],
            [
             1,
             "#276419"
            ]
           ]
          },
          "xaxis": {
           "gridcolor": "white",
           "linecolor": "white",
           "ticks": "",
           "title": {
            "standoff": 15
           },
           "zerolinecolor": "white",
           "automargin": true,
           "zerolinewidth": 2
          },
          "yaxis": {
           "gridcolor": "white",
           "linecolor": "white",
           "ticks": "",
           "title": {
            "standoff": 15
           },
           "zerolinecolor": "white",
           "automargin": true,
           "zerolinewidth": 2
          },
          "scene": {
           "xaxis": {
            "backgroundcolor": "#E5ECF6",
            "gridcolor": "white",
            "linecolor": "white",
            "showbackground": true,
            "ticks": "",
            "zerolinecolor": "white",
            "gridwidth": 2
           },
           "yaxis": {
            "backgroundcolor": "#E5ECF6",
            "gridcolor": "white",
            "linecolor": "white",
            "showbackground": true,
            "ticks": "",
            "zerolinecolor": "white",
            "gridwidth": 2
           },
           "zaxis": {
            "backgroundcolor": "#E5ECF6",
            "gridcolor": "white",
            "linecolor": "white",
            "showbackground": true,
            "ticks": "",
            "zerolinecolor": "white",
            "gridwidth": 2
           }
          },
          "shapedefaults": {
           "line": {
            "color": "#2a3f5f"
           }
          },
          "annotationdefaults": {
           "arrowcolor": "#2a3f5f",
           "arrowhead": 0,
           "arrowwidth": 1
          },
          "geo": {
           "bgcolor": "white",
           "landcolor": "#E5ECF6",
           "subunitcolor": "white",
           "showland": true,
           "showlakes": true,
           "lakecolor": "white"
          },
          "title": {
           "x": 0.05
          },
          "mapbox": {
           "style": "light"
          }
         }
        },
        "xaxis": {
         "anchor": "y",
         "domain": [
          0.0,
          1.0
         ],
         "title": {
          "text": "特征 1"
         }
        },
        "yaxis": {
         "anchor": "x",
         "domain": [
          0.0,
          1.0
         ],
         "title": {
          "text": "特征 2"
         }
        },
        "coloraxis": {
         "colorbar": {
          "title": {
           "text": "簇"
          }
         },
         "colorscale": [
          [
           0.0,
           "#440154"
          ],
          [
           0.1111111111111111,
           "#482878"
          ],
          [
           0.2222222222222222,
           "#3e4989"
          ],
          [
           0.3333333333333333,
           "#31688e"
          ],
          [
           0.4444444444444444,
           "#26828e"
          ],
          [
           0.5555555555555556,
           "#1f9e89"
          ],
          [
           0.6666666666666666,
           "#35b779"
          ],
          [
           0.7777777777777778,
           "#6ece58"
          ],
          [
           0.8888888888888888,
           "#b5de2b"
          ],
          [
           1.0,
           "#fde725"
          ]
         ]
        },
        "legend": {
         "tracegroupgap": 0
        },
        "title": {
         "text": "DBSCAN 聚类结果"
        }
       },
       "config": {
        "plotlyServerURL": "https://plot.ly"
       }
      },
      "text/html": "<div>                            <div id=\"89ae98be-dbe2-412e-a8b2-dc2f52979b25\" class=\"plotly-graph-div\" style=\"height:525px; width:100%;\"></div>            <script type=\"text/javascript\">                require([\"plotly\"], function(Plotly) {                    window.PLOTLYENV=window.PLOTLYENV || {};                                    if (document.getElementById(\"89ae98be-dbe2-412e-a8b2-dc2f52979b25\")) {                    Plotly.newPlot(                        \"89ae98be-dbe2-412e-a8b2-dc2f52979b25\",                        [{\"hovertemplate\":\"特征 1=%{x}\\u003cbr\\u003e特征 2=%{y}\\u003cbr\\u003e簇=%{marker.color}\\u003cextra\\u003e\\u003c\\u002fextra\\u003e\",\"legendgroup\":\"\",\"marker\":{\"color\":[1,-1,2,1,1,1,1,1,1,1,1,1,1,1,1,1,1,1,1,1,1,1,1,1,1,1,1,1,1,1,1,1,1,1,1,1,1,1,1,1,1,1,1,1,1,1,1,1,1,1,1,1,1,1,1,1,1,1,1,1,1,1,1,1,1,1,1,-1,1,1,1,1,1,1,1,1,1,1,1,1,1,1,1,1,-1,1,1,1,1,1,1,1,1,1,1,1,1,1,1,1,3,3,3,3,3,3,3,3,3,3,3,3,3,3,3,3,3,3,3,3,3,3,3,3,3,3,3,3,3,3,3,3,3,3,3,3,3,3,3,3,3,3,3,3,3,3,3,3,3,3,3,3,3,3,3,3,3,3,3,3,3,3,3,3,3,3,3,3,3,3,3,3,3,3,3,3,3,3,3,3,3,3,3,3,3,3,3,3,3,3,3,3,3,3,3,3,-1,3,-1,3,2,2,2,2,2,2,2,2,2,2,2,2,2,2,2,2,2,2,2,2,2,2,2,2,2,2,2,2,2,2,2,2,2,2,2,2,2,2,2,2,2,2,2,2,2,2,2,2,2,2,2,2,2,2,2,2,2,2,2,2,2,2,2,2,2,2,-1,2,2,2,2,2,2,2,2,2,2,2,2,-1,2,2,2,2,2,2,2,2,2,2,2,2,2,2,2,2,2,2,2,1],\"coloraxis\":\"coloraxis\",\"symbol\":\"circle\"},\"mode\":\"markers\",\"name\":\"\",\"orientation\":\"v\",\"showlegend\":false,\"x\":[1.8420795311261555,5.658583120618816,6.35257892020234,2.904016525281363,3.2319791572074426,1.2479226797003768,1.97619886162512,2.23454135329173,2.9834075716604347,2.979703906925933,2.114964111296854,2.121695429851929,1.514352903108069,2.1697922709882342,0.4185237324421214,2.47053694822282,4.060691324409988,3.0070893379030883,0.6663234559392024,3.162186503015328,0.5115525803972185,3.134280099558564,2.049745950070817,0.665827852422697,1.0173201258293545,2.178935676285175,2.8596261496674256,1.308825883599691,0.9925324554451718,1.4037263817193335,2.660465724208499,2.7999588192935536,2.069953453750165,3.2976518091928098,1.8929765958025333,2.5598306396203334,1.153540312065502,2.2515075383287666,2.209602955078801,1.5914193717920568,1.6783803760299154,2.5914864171878738,2.8099644223368205,0.953116272018942,1.5177527591280904,3.231142476556044,2.5418001057260597,3.8142286544291366,1.684958290504217,2.1777717336419573,1.81733279599126,1.857765534416548,3.0308430076969914,2.9265829487849206,3.4349354315667204,3.203671162333278,0.1051180394588671,1.4059791628972462,2.241850515528486,1.3667839525662495,1.707254821599876,1.9190956589454176,1.601567313150977,0.3796343714386487,2.02134502433816,1.120367372903417,2.2690142804657305,-0.2451271276617017,2.128578426246194,1.8441998110251223,2.3255825322728683,1.5233411310579263,1.0228512846407858,1.8538273720727831,2.2032165835580124,1.2009998119131844,1.0206270273889793,1.604932266103602,0.4764735513254672,0.3639172040966811,0.3131984500482181,2.2866483910158677,2.154601389641329,2.0528851765061518,4.888043316568204,2.403047466924176,2.568694529536674,1.8297599254285275,0.5484522320181779,3.171096186656912,3.042020694060989,2.404277749844845,0.1778346644668875,2.6142867842398347,2.3009779823162417,3.9077931723316217,2.0567054240880105,1.3813349700697428,1.1607417785188765,1.7281819943472312,3.2036062057779144,3.061929184157545,4.017149169469283,1.4026082193785905,4.081649507530082,3.1527308085072985,3.4518635089270657,3.8538431375932074,1.5744925512126997,4.72372077755589,2.8796108406812584,0.9679134767334232,1.5317810704822732,4.138359152178729,3.161090214815601,2.951770389082617,3.2784429546227427,2.1270184993118018,3.3264888481347885,2.5437148945678403,3.233946999894361,4.431529762704597,3.5647862538954813,4.255884820986278,4.053865813388372,3.0897017602678742,2.8473445933325423,3.6358604869258224,1.955388637259492,2.8838400473503127,3.484443872790626,3.497984124763063,2.455759339638348,3.203800095269826,3.006772536867357,1.965479737608877,2.1798933319744465,2.612070293192836,3.9554991153824592,3.648464816547517,4.184500106526444,3.78757230175684,3.3006365498721384,3.02836363232283,3.1841217562056885,4.169118966225332,3.240242111019093,3.915960677768852,2.9697971618738923,1.1299385570386,2.717307986328911,3.1189016958972675,2.4051802002605527,2.9581842907871807,1.6545630850790554,2.3977580681531183,2.284093050088675,2.795887243076254,3.4115627708591223,3.5066352127611102,3.9361602886035065,3.902066572515992,2.610363960633363,4.372718610315967,3.083491363119661,2.1159935015877323,2.156534044871015,2.144911011682092,1.8493552407584717,4.159081601434126,2.764944992381324,3.905611531758359,2.540716724478098,4.277830681418135,3.3105816690186938,2.155206613462027,3.713636588104567,3.5401018635547064,1.6051999144777125,1.7516433715618278,3.124051226487953,2.3719878528947334,2.534460192788522,3.683446503425531,3.267013396283058,3.941591391535048,3.2645514018838435,4.304711382466017,2.684993757562959,3.126351840441264,2.9429435569199853,3.118765410908555,2.0235897790944337,3.622029314554192,2.4286587861147773,2.0951729618655994,5.292394521306933,2.0729170855338177,0.9462320825757168,2.739119075886318,6.005065336398827,6.0569641091736495,6.770127666721521,5.640346781001489,5.633254027407438,6.174431565363438,7.246947941745138,5.581629063930656,5.362720504336735,4.70775773362377,7.428920981004157,6.641072482533531,6.374736515665913,7.287803244048407,6.2029523094848535,5.387360412681998,5.667310300677457,6.597021551786485,7.756605593713768,6.632627452617938,5.7663495877683415,5.994231542030925,6.378704072854217,5.740362333785032,4.616524417150913,5.335339987326496,5.372939124793692,5.036111615427723,5.529086767660337,6.050869424857448,5.132008998429942,5.732849448865801,6.781107319547244,6.448344486992528,6.399414819366499,5.860679247147698,6.447651830577588,5.367081109651559,5.8873556526849535,3.9616246541869216,6.284381932579608,4.205847888245449,5.326155813846448,7.171352036284695,7.494927502838001,7.398072414628061,5.024329841014982,5.317124783074046,5.876552365538852,6.037628331680621,5.912802727354569,6.694513582424757,6.0101797788609845,6.927219684374198,6.335595219108058,6.2425707075521615,5.578122938363613,6.407738625745769,6.800295256441381,7.216840328780716,6.511007399653392,4.606305339926791,7.655032263472198,5.502957590616259,6.630606985789793,3.4592800643452866,8.203398153359817,4.9567942756934205,5.370526670765466,5.697978664307992,6.273762709954784,5.05274526001882,6.885755837329,4.187744196259964,5.975103279293128,6.094571294802686,5.723956974354073,4.372497673493347,6.29206262170893,5.145330350868728,6.587056504854597,5.7876909544557,6.727980978712887,6.640789386230871,6.232288777398539,6.217727237731909,5.781163010356058,6.624472531850962,5.195908230361076,5.871771805724644,5.895620994170579,5.617543198026376,5.631761031004175,5.502586590242818,6.482126282928347,7.30278708280303,6.991984340611751,4.825534095511381,6.117680550153719,0.940489440353196],\"xaxis\":\"x\",\"y\":[4.607571604482282,4.799964054441543,3.2908544987542663,4.612204112815066,4.939894052826295,4.93267846009402,4.434896742381875,5.055471681344978,4.840464061253519,4.806710807986595,5.373735865287625,5.208542115552275,4.77003303264906,5.274353538341508,4.883125218349286,4.804189440854675,4.995038620740097,4.678977577376825,4.871879490418842,4.836583005763322,4.910529229502589,4.961781139153404,5.624139495988096,5.243992574839312,4.844736469192718,5.29758701369049,5.260419973323453,5.301587009101879,5.015674237577476,4.575276844394842,5.196238478566125,5.115263227051593,4.68467130341947,5.592055349989062,4.890432088944249,5.263977564175146,4.678667174337322,5.44500310210926,4.914692641452207,4.832125726643392,5.2690382174802215,4.925933935454911,5.538498989714164,5.580371075704837,5.038366376905697,5.784296646013455,4.810987375514933,4.735267964925186,4.5964355345526,4.861540188503138,5.133339067003756,4.869624135455342,5.240575821340838,5.096679228841688,5.340807411956873,4.859247586559391,4.729163438461413,5.066368224996453,4.9244617023247255,5.261610953537723,4.0423147944003865,5.578484465015508,4.644530115981849,5.261947294103528,4.412674449222839,5.208807468302654,4.618188827708471,5.740192366387896,5.01149793096124,5.031539479749028,4.748679619050756,4.8791615932566605,5.010506504958272,5.007524823118074,4.9451637873213485,4.578297628829255,4.629911191127603,5.136631390741864,5.135359772867848,4.73332822591586,5.546946435563959,5.007669903345754,5.462829590785801,4.779585588568983,5.506707952236728,5.081473257321243,5.206878859954676,4.596572882818212,5.02672980169041,5.594645195347297,5.007583730318273,5.02587069662433,5.297650317664919,5.222874141673731,4.972358439910461,5.094646759998636,5.233913255151575,5.001949624092176,4.677279268477293,5.36028437434454,0.7222149034236587,1.5719210992485262,1.1607064678528023,1.0872653580630562,0.872003428739607,0.9815587114697814,0.427840834415254,0.7920479033506194,1.3481112594910267,0.6204413584594055,0.7541374110660162,1.1616681947644747,1.1005485242324748,1.2478097932507732,1.2942289318415272,0.8958314324641911,1.750439261520662,0.9567204249582624,1.2801906639493872,0.9573271589986068,1.0820232401768624,0.5404100030365326,1.117647142657849,0.906439572236069,0.5329186210157868,1.0881444823769872,0.2675925319316858,1.1216019434923548,1.321568569161503,0.8045450649676619,1.1355144824379535,1.1004640210347765,0.7890465416425023,1.0272807463558216,0.625191281541267,1.2173076049288782,1.308798305086229,0.9907685574084988,0.8326929897165098,1.628496974308694,0.4535620312008207,1.4544290445226995,1.2810758821084065,1.356351889867326,1.4141079887295975,0.2058103774770208,1.1487623727645102,1.012257735490282,1.0121030599292014,0.770852843682668,0.4869755461809559,0.6943833555225435,1.117781226884269,1.0188709568753616,1.1863117476010434,1.2472138735497558,0.6486546903964623,0.9952666365513956,1.1596362974706589,0.7387810441941597,1.4620293406882423,1.277787507048313,0.8802760188273794,1.0291409195709396,1.1963264443568251,0.7930365000883433,0.4035886068351918,1.1358239904983922,1.022326436980281,0.6172073250362708,1.431489505711269,1.1657531498432012,0.9839251586297414,1.180136796728559,1.031244609451246,0.8069656235345628,0.4581320816161256,0.864461352047468,1.109805302134234,0.6885353609048434,0.6782175665304078,1.4278960719163036,1.215620812788234,1.228345375360799,0.3205667586236743,0.8257743797704139,1.3836868984255504,1.107259950849141,0.3534494332134992,1.2806892975237558,1.028250762556938,1.332854585759118,0.447716138160535,1.2864376300924134,0.8649928452669559,1.1401049110506878,0.3687329803035045,1.1676385057503424,0.2452225283820371,1.100722839009583,2.727841713587384,2.9497043325204046,3.214114215383589,2.6938528220486404,2.990023386279589,3.2902648803675434,2.9687742421277563,3.3351037462060464,3.1468119220583373,2.787108694840931,3.466794896488929,3.0599873792651504,2.5625305919319183,2.7517988465447667,2.6785617898769707,2.267373457548288,2.9647786730521912,3.070823760206949,3.1560446461824103,3.147991826330151,3.1427170744346853,2.7570785849923065,2.650223208757134,3.103913060350143,2.7932071508556477,3.039286944297795,2.816847755729278,2.924860873447376,3.336815764978288,2.8070259443516634,2.198121948150304,2.8773813216769755,3.05676866020901,3.3529922496221007,2.8975694844683377,2.995771287055466,3.1656094546343536,3.1950255161881342,3.346155661401808,2.72025046330054,3.1736064316433823,2.8164736834371635,3.033140472272608,3.4122727007565823,2.8401875400218235,3.4848703059391672,2.9868317853348563,2.817413560279757,3.216611091154561,2.6830351150892136,2.8563193765165886,2.890560826096426,2.724013381935843,3.199600255791053,3.30864291189389,2.791792687595131,3.247660162539342,2.6755495094705086,3.17579577996112,2.728965745190048,2.7273190659262743,3.329458003252386,2.870956284238776,2.6292463440042564,3.015023010300451,2.684784447523264,2.4169349520394388,2.897762969043581,2.4495481341998326,2.949771319733885,2.242560360890311,2.756921629697973,2.88845269257306,2.8928346339770745,3.0259190998465844,2.618679749914378,3.04454219379047,3.054882171401887,2.775738556384176,4.132256915057223,3.375083452766874,3.2925512732268567,3.004398300225435,2.4106883885905326,2.7285090223319397,2.80994633217706,3.079877867015621,2.744537425706766,3.06972936535178,3.2551773046247563,2.898439774276882,2.597507103274049,3.047587472381008,3.118690754276496,2.550851397135404,3.3801597885210763,2.98706728722547,2.7796166391805075,2.8547565521647957,5.715568023943128],\"yaxis\":\"y\",\"type\":\"scatter\"},{\"marker\":{\"color\":\"red\",\"line\":{\"width\":2},\"size\":20,\"symbol\":\"x\"},\"mode\":\"markers\",\"name\":\"聚类中心\",\"x\":[1.9766660235451712,5.988696789580379,3.028519697316797],\"y\":[5.018202819148929,2.9449151246997403,0.9954374611352393],\"type\":\"scatter\"}],                        {\"template\":{\"data\":{\"histogram2dcontour\":[{\"type\":\"histogram2dcontour\",\"colorbar\":{\"outlinewidth\":0,\"ticks\":\"\"},\"colorscale\":[[0.0,\"#0d0887\"],[0.1111111111111111,\"#46039f\"],[0.2222222222222222,\"#7201a8\"],[0.3333333333333333,\"#9c179e\"],[0.4444444444444444,\"#bd3786\"],[0.5555555555555556,\"#d8576b\"],[0.6666666666666666,\"#ed7953\"],[0.7777777777777778,\"#fb9f3a\"],[0.8888888888888888,\"#fdca26\"],[1.0,\"#f0f921\"]]}],\"choropleth\":[{\"type\":\"choropleth\",\"colorbar\":{\"outlinewidth\":0,\"ticks\":\"\"}}],\"histogram2d\":[{\"type\":\"histogram2d\",\"colorbar\":{\"outlinewidth\":0,\"ticks\":\"\"},\"colorscale\":[[0.0,\"#0d0887\"],[0.1111111111111111,\"#46039f\"],[0.2222222222222222,\"#7201a8\"],[0.3333333333333333,\"#9c179e\"],[0.4444444444444444,\"#bd3786\"],[0.5555555555555556,\"#d8576b\"],[0.6666666666666666,\"#ed7953\"],[0.7777777777777778,\"#fb9f3a\"],[0.8888888888888888,\"#fdca26\"],[1.0,\"#f0f921\"]]}],\"heatmap\":[{\"type\":\"heatmap\",\"colorbar\":{\"outlinewidth\":0,\"ticks\":\"\"},\"colorscale\":[[0.0,\"#0d0887\"],[0.1111111111111111,\"#46039f\"],[0.2222222222222222,\"#7201a8\"],[0.3333333333333333,\"#9c179e\"],[0.4444444444444444,\"#bd3786\"],[0.5555555555555556,\"#d8576b\"],[0.6666666666666666,\"#ed7953\"],[0.7777777777777778,\"#fb9f3a\"],[0.8888888888888888,\"#fdca26\"],[1.0,\"#f0f921\"]]}],\"heatmapgl\":[{\"type\":\"heatmapgl\",\"colorbar\":{\"outlinewidth\":0,\"ticks\":\"\"},\"colorscale\":[[0.0,\"#0d0887\"],[0.1111111111111111,\"#46039f\"],[0.2222222222222222,\"#7201a8\"],[0.3333333333333333,\"#9c179e\"],[0.4444444444444444,\"#bd3786\"],[0.5555555555555556,\"#d8576b\"],[0.6666666666666666,\"#ed7953\"],[0.7777777777777778,\"#fb9f3a\"],[0.8888888888888888,\"#fdca26\"],[1.0,\"#f0f921\"]]}],\"contourcarpet\":[{\"type\":\"contourcarpet\",\"colorbar\":{\"outlinewidth\":0,\"ticks\":\"\"}}],\"contour\":[{\"type\":\"contour\",\"colorbar\":{\"outlinewidth\":0,\"ticks\":\"\"},\"colorscale\":[[0.0,\"#0d0887\"],[0.1111111111111111,\"#46039f\"],[0.2222222222222222,\"#7201a8\"],[0.3333333333333333,\"#9c179e\"],[0.4444444444444444,\"#bd3786\"],[0.5555555555555556,\"#d8576b\"],[0.6666666666666666,\"#ed7953\"],[0.7777777777777778,\"#fb9f3a\"],[0.8888888888888888,\"#fdca26\"],[1.0,\"#f0f921\"]]}],\"surface\":[{\"type\":\"surface\",\"colorbar\":{\"outlinewidth\":0,\"ticks\":\"\"},\"colorscale\":[[0.0,\"#0d0887\"],[0.1111111111111111,\"#46039f\"],[0.2222222222222222,\"#7201a8\"],[0.3333333333333333,\"#9c179e\"],[0.4444444444444444,\"#bd3786\"],[0.5555555555555556,\"#d8576b\"],[0.6666666666666666,\"#ed7953\"],[0.7777777777777778,\"#fb9f3a\"],[0.8888888888888888,\"#fdca26\"],[1.0,\"#f0f921\"]]}],\"mesh3d\":[{\"type\":\"mesh3d\",\"colorbar\":{\"outlinewidth\":0,\"ticks\":\"\"}}],\"scatter\":[{\"fillpattern\":{\"fillmode\":\"overlay\",\"size\":10,\"solidity\":0.2},\"type\":\"scatter\"}],\"parcoords\":[{\"type\":\"parcoords\",\"line\":{\"colorbar\":{\"outlinewidth\":0,\"ticks\":\"\"}}}],\"scatterpolargl\":[{\"type\":\"scatterpolargl\",\"marker\":{\"colorbar\":{\"outlinewidth\":0,\"ticks\":\"\"}}}],\"bar\":[{\"error_x\":{\"color\":\"#2a3f5f\"},\"error_y\":{\"color\":\"#2a3f5f\"},\"marker\":{\"line\":{\"color\":\"#E5ECF6\",\"width\":0.5},\"pattern\":{\"fillmode\":\"overlay\",\"size\":10,\"solidity\":0.2}},\"type\":\"bar\"}],\"scattergeo\":[{\"type\":\"scattergeo\",\"marker\":{\"colorbar\":{\"outlinewidth\":0,\"ticks\":\"\"}}}],\"scatterpolar\":[{\"type\":\"scatterpolar\",\"marker\":{\"colorbar\":{\"outlinewidth\":0,\"ticks\":\"\"}}}],\"histogram\":[{\"marker\":{\"pattern\":{\"fillmode\":\"overlay\",\"size\":10,\"solidity\":0.2}},\"type\":\"histogram\"}],\"scattergl\":[{\"type\":\"scattergl\",\"marker\":{\"colorbar\":{\"outlinewidth\":0,\"ticks\":\"\"}}}],\"scatter3d\":[{\"type\":\"scatter3d\",\"line\":{\"colorbar\":{\"outlinewidth\":0,\"ticks\":\"\"}},\"marker\":{\"colorbar\":{\"outlinewidth\":0,\"ticks\":\"\"}}}],\"scattermapbox\":[{\"type\":\"scattermapbox\",\"marker\":{\"colorbar\":{\"outlinewidth\":0,\"ticks\":\"\"}}}],\"scatterternary\":[{\"type\":\"scatterternary\",\"marker\":{\"colorbar\":{\"outlinewidth\":0,\"ticks\":\"\"}}}],\"scattercarpet\":[{\"type\":\"scattercarpet\",\"marker\":{\"colorbar\":{\"outlinewidth\":0,\"ticks\":\"\"}}}],\"carpet\":[{\"aaxis\":{\"endlinecolor\":\"#2a3f5f\",\"gridcolor\":\"white\",\"linecolor\":\"white\",\"minorgridcolor\":\"white\",\"startlinecolor\":\"#2a3f5f\"},\"baxis\":{\"endlinecolor\":\"#2a3f5f\",\"gridcolor\":\"white\",\"linecolor\":\"white\",\"minorgridcolor\":\"white\",\"startlinecolor\":\"#2a3f5f\"},\"type\":\"carpet\"}],\"table\":[{\"cells\":{\"fill\":{\"color\":\"#EBF0F8\"},\"line\":{\"color\":\"white\"}},\"header\":{\"fill\":{\"color\":\"#C8D4E3\"},\"line\":{\"color\":\"white\"}},\"type\":\"table\"}],\"barpolar\":[{\"marker\":{\"line\":{\"color\":\"#E5ECF6\",\"width\":0.5},\"pattern\":{\"fillmode\":\"overlay\",\"size\":10,\"solidity\":0.2}},\"type\":\"barpolar\"}],\"pie\":[{\"automargin\":true,\"type\":\"pie\"}]},\"layout\":{\"autotypenumbers\":\"strict\",\"colorway\":[\"#636efa\",\"#EF553B\",\"#00cc96\",\"#ab63fa\",\"#FFA15A\",\"#19d3f3\",\"#FF6692\",\"#B6E880\",\"#FF97FF\",\"#FECB52\"],\"font\":{\"color\":\"#2a3f5f\"},\"hovermode\":\"closest\",\"hoverlabel\":{\"align\":\"left\"},\"paper_bgcolor\":\"white\",\"plot_bgcolor\":\"#E5ECF6\",\"polar\":{\"bgcolor\":\"#E5ECF6\",\"angularaxis\":{\"gridcolor\":\"white\",\"linecolor\":\"white\",\"ticks\":\"\"},\"radialaxis\":{\"gridcolor\":\"white\",\"linecolor\":\"white\",\"ticks\":\"\"}},\"ternary\":{\"bgcolor\":\"#E5ECF6\",\"aaxis\":{\"gridcolor\":\"white\",\"linecolor\":\"white\",\"ticks\":\"\"},\"baxis\":{\"gridcolor\":\"white\",\"linecolor\":\"white\",\"ticks\":\"\"},\"caxis\":{\"gridcolor\":\"white\",\"linecolor\":\"white\",\"ticks\":\"\"}},\"coloraxis\":{\"colorbar\":{\"outlinewidth\":0,\"ticks\":\"\"}},\"colorscale\":{\"sequential\":[[0.0,\"#0d0887\"],[0.1111111111111111,\"#46039f\"],[0.2222222222222222,\"#7201a8\"],[0.3333333333333333,\"#9c179e\"],[0.4444444444444444,\"#bd3786\"],[0.5555555555555556,\"#d8576b\"],[0.6666666666666666,\"#ed7953\"],[0.7777777777777778,\"#fb9f3a\"],[0.8888888888888888,\"#fdca26\"],[1.0,\"#f0f921\"]],\"sequentialminus\":[[0.0,\"#0d0887\"],[0.1111111111111111,\"#46039f\"],[0.2222222222222222,\"#7201a8\"],[0.3333333333333333,\"#9c179e\"],[0.4444444444444444,\"#bd3786\"],[0.5555555555555556,\"#d8576b\"],[0.6666666666666666,\"#ed7953\"],[0.7777777777777778,\"#fb9f3a\"],[0.8888888888888888,\"#fdca26\"],[1.0,\"#f0f921\"]],\"diverging\":[[0,\"#8e0152\"],[0.1,\"#c51b7d\"],[0.2,\"#de77ae\"],[0.3,\"#f1b6da\"],[0.4,\"#fde0ef\"],[0.5,\"#f7f7f7\"],[0.6,\"#e6f5d0\"],[0.7,\"#b8e186\"],[0.8,\"#7fbc41\"],[0.9,\"#4d9221\"],[1,\"#276419\"]]},\"xaxis\":{\"gridcolor\":\"white\",\"linecolor\":\"white\",\"ticks\":\"\",\"title\":{\"standoff\":15},\"zerolinecolor\":\"white\",\"automargin\":true,\"zerolinewidth\":2},\"yaxis\":{\"gridcolor\":\"white\",\"linecolor\":\"white\",\"ticks\":\"\",\"title\":{\"standoff\":15},\"zerolinecolor\":\"white\",\"automargin\":true,\"zerolinewidth\":2},\"scene\":{\"xaxis\":{\"backgroundcolor\":\"#E5ECF6\",\"gridcolor\":\"white\",\"linecolor\":\"white\",\"showbackground\":true,\"ticks\":\"\",\"zerolinecolor\":\"white\",\"gridwidth\":2},\"yaxis\":{\"backgroundcolor\":\"#E5ECF6\",\"gridcolor\":\"white\",\"linecolor\":\"white\",\"showbackground\":true,\"ticks\":\"\",\"zerolinecolor\":\"white\",\"gridwidth\":2},\"zaxis\":{\"backgroundcolor\":\"#E5ECF6\",\"gridcolor\":\"white\",\"linecolor\":\"white\",\"showbackground\":true,\"ticks\":\"\",\"zerolinecolor\":\"white\",\"gridwidth\":2}},\"shapedefaults\":{\"line\":{\"color\":\"#2a3f5f\"}},\"annotationdefaults\":{\"arrowcolor\":\"#2a3f5f\",\"arrowhead\":0,\"arrowwidth\":1},\"geo\":{\"bgcolor\":\"white\",\"landcolor\":\"#E5ECF6\",\"subunitcolor\":\"white\",\"showland\":true,\"showlakes\":true,\"lakecolor\":\"white\"},\"title\":{\"x\":0.05},\"mapbox\":{\"style\":\"light\"}}},\"xaxis\":{\"anchor\":\"y\",\"domain\":[0.0,1.0],\"title\":{\"text\":\"特征 1\"}},\"yaxis\":{\"anchor\":\"x\",\"domain\":[0.0,1.0],\"title\":{\"text\":\"特征 2\"}},\"coloraxis\":{\"colorbar\":{\"title\":{\"text\":\"簇\"}},\"colorscale\":[[0.0,\"#440154\"],[0.1111111111111111,\"#482878\"],[0.2222222222222222,\"#3e4989\"],[0.3333333333333333,\"#31688e\"],[0.4444444444444444,\"#26828e\"],[0.5555555555555556,\"#1f9e89\"],[0.6666666666666666,\"#35b779\"],[0.7777777777777778,\"#6ece58\"],[0.8888888888888888,\"#b5de2b\"],[1.0,\"#fde725\"]]},\"legend\":{\"tracegroupgap\":0},\"title\":{\"text\":\"DBSCAN 聚类结果\"}},                        {\"responsive\": true}                    ).then(function(){\n                            \nvar gd = document.getElementById('89ae98be-dbe2-412e-a8b2-dc2f52979b25');\nvar x = new MutationObserver(function (mutations, observer) {{\n        var display = window.getComputedStyle(gd).display;\n        if (!display || display === 'none') {{\n            console.log([gd, 'removed!']);\n            Plotly.purge(gd);\n            observer.disconnect();\n        }}\n}});\n\n// Listen for the removal of the full notebook cells\nvar notebookContainer = gd.closest('#notebook-container');\nif (notebookContainer) {{\n    x.observe(notebookContainer, {childList: true});\n}}\n\n// Listen for the clearing of the current output cell\nvar outputEl = gd.closest('.output');\nif (outputEl) {{\n    x.observe(outputEl, {childList: true});\n}}\n\n                        })                };                });            </script>        </div>"
     },
     "metadata": {},
     "output_type": "display_data"
    },
    {
     "name": "stdout",
     "output_type": "stream",
     "text": [
      "聚类的轮廓系数: 0.677\n"
     ]
    },
    {
     "data": {
      "application/vnd.plotly.v1+json": {
       "data": [
        {
         "hovertemplate": "点索引=%{x}<br>第 3 个最近邻距离=%{y}<extra></extra>",
         "legendgroup": "",
         "line": {
          "color": "#636efa",
          "dash": "solid"
         },
         "marker": {
          "symbol": "circle"
         },
         "mode": "lines",
         "name": "",
         "orientation": "v",
         "showlegend": false,
         "x": [
          0,
          1,
          2,
          3,
          4,
          5,
          6,
          7,
          8,
          9,
          10,
          11,
          12,
          13,
          14,
          15,
          16,
          17,
          18,
          19,
          20,
          21,
          22,
          23,
          24,
          25,
          26,
          27,
          28,
          29,
          30,
          31,
          32,
          33,
          34,
          35,
          36,
          37,
          38,
          39,
          40,
          41,
          42,
          43,
          44,
          45,
          46,
          47,
          48,
          49,
          50,
          51,
          52,
          53,
          54,
          55,
          56,
          57,
          58,
          59,
          60,
          61,
          62,
          63,
          64,
          65,
          66,
          67,
          68,
          69,
          70,
          71,
          72,
          73,
          74,
          75,
          76,
          77,
          78,
          79,
          80,
          81,
          82,
          83,
          84,
          85,
          86,
          87,
          88,
          89,
          90,
          91,
          92,
          93,
          94,
          95,
          96,
          97,
          98,
          99,
          100,
          101,
          102,
          103,
          104,
          105,
          106,
          107,
          108,
          109,
          110,
          111,
          112,
          113,
          114,
          115,
          116,
          117,
          118,
          119,
          120,
          121,
          122,
          123,
          124,
          125,
          126,
          127,
          128,
          129,
          130,
          131,
          132,
          133,
          134,
          135,
          136,
          137,
          138,
          139,
          140,
          141,
          142,
          143,
          144,
          145,
          146,
          147,
          148,
          149,
          150,
          151,
          152,
          153,
          154,
          155,
          156,
          157,
          158,
          159,
          160,
          161,
          162,
          163,
          164,
          165,
          166,
          167,
          168,
          169,
          170,
          171,
          172,
          173,
          174,
          175,
          176,
          177,
          178,
          179,
          180,
          181,
          182,
          183,
          184,
          185,
          186,
          187,
          188,
          189,
          190,
          191,
          192,
          193,
          194,
          195,
          196,
          197,
          198,
          199,
          200,
          201,
          202,
          203,
          204,
          205,
          206,
          207,
          208,
          209,
          210,
          211,
          212,
          213,
          214,
          215,
          216,
          217,
          218,
          219,
          220,
          221,
          222,
          223,
          224,
          225,
          226,
          227,
          228,
          229,
          230,
          231,
          232,
          233,
          234,
          235,
          236,
          237,
          238,
          239,
          240,
          241,
          242,
          243,
          244,
          245,
          246,
          247,
          248,
          249,
          250,
          251,
          252,
          253,
          254,
          255,
          256,
          257,
          258,
          259,
          260,
          261,
          262,
          263,
          264,
          265,
          266,
          267,
          268,
          269,
          270,
          271,
          272,
          273,
          274,
          275,
          276,
          277,
          278,
          279,
          280,
          281,
          282,
          283,
          284,
          285,
          286,
          287,
          288,
          289,
          290,
          291,
          292,
          293,
          294,
          295,
          296,
          297,
          298,
          299
         ],
         "xaxis": "x",
         "y": [
          0.12411030763303617,
          0.8392603694458943,
          0.07820556553865488,
          0.1418317317419235,
          0.07134076432708711,
          0.12588944603136265,
          0.12411030763303617,
          0.06100501183340145,
          0.09678060411048774,
          0.09657258285810112,
          0.06560092566844745,
          0.06073177033212012,
          0.08731524261417638,
          0.06354907018825129,
          0.10888100769763455,
          0.09589504727936383,
          0.3849734220543919,
          0.09678060411048774,
          0.12907669687898435,
          0.07582485038725713,
          0.0837245333329702,
          0.07083662628325793,
          0.1495145048202345,
          0.14925769087256058,
          0.1215170361942005,
          0.06073177033212012,
          0.1033776728783023,
          0.1486756741937132,
          0.13267382230833086,
          0.12928407562183156,
          0.06604448100196338,
          0.09169910977565843,
          0.11916164934743782,
          0.16554636830599515,
          0.08763299177786617,
          0.06604448100196338,
          0.07496916686781151,
          0.09541528284062013,
          0.035671682724223344,
          0.1116384430209903,
          0.10831174869300365,
          0.11407370552027818,
          0.20871049572934183,
          0.24839825976335092,
          0.07419180911063675,
          0.26334461022562183,
          0.11841607475390362,
          0.3260456065876044,
          0.08200086952921613,
          0.05144092722708833,
          0.10831174869300365,
          0.09650664339586239,
          0.13862086485056188,
          0.10128224892938312,
          0.2184865420609893,
          0.07083662628325793,
          0.23732510387536182,
          0.11160400681273863,
          0.041912544222181936,
          0.131971043309626,
          0.32959340178228996,
          0.15872844930876956,
          0.11084336376390935,
          0.14925769087256058,
          0.14872171414916158,
          0.131971043309626,
          0.14779950810683953,
          0.4317881193154245,
          0.071329204323603,
          0.08763299177786617,
          0.10204374170813187,
          0.0946816770895679,
          0.12588944603136265,
          0.07716035141862508,
          0.05144092722708833,
          0.09871732562555806,
          0.09871732562555806,
          0.1105064244308792,
          0.11778087488736216,
          0.13464806130511908,
          0.2570595677447665,
          0.05467665875132968,
          0.0990384191420497,
          0.10611826272254336,
          0.5806543156892968,
          0.08382247243594368,
          0.04815584412236278,
          0.1220791537932539,
          0.10888100769763455,
          0.19079965676503735,
          0.103915661562274,
          0.06244501423094615,
          0.1828666687969998,
          0.03740915561919122,
          0.05336220246664901,
          0.28620996622277745,
          0.07399625669680866,
          0.08069653867031543,
          0.07813634708461056,
          0.14759928124567118,
          0.11751728774281328,
          0.14515269981681966,
          0.09180192070688716,
          0.14368190621404128,
          0.09291867843358263,
          0.07315286097022088,
          0.18701711078659303,
          0.12767902951535093,
          0.1488279722937835,
          0.2968651477519409,
          0.1012466348547574,
          0.2955610402474032,
          0.08172174546179185,
          0.12028539128381222,
          0.07082585343489428,
          0.0732151724491138,
          0.20586001912083587,
          0.10687166195047842,
          0.08422532955819183,
          0.05744433100372503,
          0.050003112443009534,
          0.15926664599865129,
          0.04312192222090654,
          0.12204700818185371,
          0.18248249238296096,
          0.07133925709002142,
          0.22056784764941215,
          0.07281454075430638,
          0.11703203704125696,
          0.12225560120599861,
          0.04312192222090654,
          0.05708095244203544,
          0.10999917515254083,
          0.05559689189333959,
          0.1012466348547574,
          0.08159448960223763,
          0.10953447306912678,
          0.0656867292399655,
          0.06965879158154012,
          0.20379683838112214,
          0.13848534693275172,
          0.12626500387436848,
          0.07301076359253492,
          0.07829857671229391,
          0.07226054947984409,
          0.24123386980337733,
          0.07885939307958541,
          0.10870324683437516,
          0.06974927190075936,
          0.2865398498907942,
          0.17153373351486928,
          0.07137181664416989,
          0.10631163073717952,
          0.0732151724491138,
          0.10481115851074951,
          0.10823734368467205,
          0.12252559488611368,
          0.08558368511985841,
          0.08352237035749122,
          0.1833693381343951,
          0.16516274149755444,
          0.11094666308704405,
          0.07147546765291979,
          0.10243432519173272,
          0.07082585343489428,
          0.12252559488611368,
          0.23246038025401264,
          0.10442003200630114,
          0.14060492872274477,
          0.14889630910177426,
          0.17561660615201755,
          0.09140186740317567,
          0.07147546765291979,
          0.10243432519173272,
          0.07885939307958541,
          0.11554657573298673,
          0.19856135137707612,
          0.15104950026924277,
          0.10623492651564419,
          0.2048244282933841,
          0.06866925072137965,
          0.1518733250191221,
          0.12648701770754475,
          0.09022278425680905,
          0.22523217844885407,
          0.07786734848120118,
          0.06944803461909271,
          0.12028539128381222,
          0.23261832990027617,
          0.05488123927769485,
          0.07884861183048361,
          0.04905678002498143,
          0.20125742866740262,
          0.10466054892901784,
          0.09163009206891622,
          0.08159448960223763,
          0.5785198047849288,
          0.06320765270869749,
          0.5448849442940454,
          0.11444563011328593,
          0.03156477245027481,
          0.08487239222680763,
          0.0821722187396175,
          0.11923663730116213,
          0.04130536014640973,
          0.09267152235403625,
          0.1434085602123983,
          0.11013582969208344,
          0.07019646309073001,
          0.1452893181180564,
          0.13784947816687887,
          0.05249713374903944,
          0.06934125443654196,
          0.13071720923993577,
          0.0703929964201747,
          0.22335702517150643,
          0.05258349994980318,
          0.049469716472423986,
          0.2513526354897372,
          0.07904842561457802,
          0.06238620824787488,
          0.04182785936801348,
          0.07989783044692045,
          0.036309306129474216,
          0.18760027090904385,
          0.07475465472387154,
          0.13085509304367446,
          0.10020340027712082,
          0.11918941695707184,
          0.05275701533587789,
          0.3207999602577171,
          0.08466159983186684,
          0.07287014910558849,
          0.07334209812990822,
          0.10791474544168907,
          0.0648887875184934,
          0.09597962133671484,
          0.09403752257301948,
          0.0772107331092465,
          0.26216477573705144,
          0.08506465268613106,
          0.1661303484637691,
          0.07115915619896666,
          0.13784947816687887,
          0.14994258699869203,
          0.12558555856688003,
          0.10195332905012833,
          0.13222944027119454,
          0.07222028655034038,
          0.048382601702586694,
          0.07756856079325494,
          0.09413822006741328,
          0.028235346480609946,
          0.1139548915851137,
          0.08454485721681906,
          0.03799641355434975,
          0.0861472497750048,
          0.06934125443654196,
          0.07145457435138279,
          0.1590510962822817,
          0.08268544149870893,
          0.314789514094954,
          0.203738624540734,
          0.12710657027019254,
          0.0510454085202662,
          0.3986118739409153,
          0.4970407208680282,
          0.09747067963282066,
          0.15571388644321993,
          0.046698256397964565,
          0.21550034497179,
          0.11896090089219633,
          0.10717411920478907,
          0.15607863467094976,
          0.08632407425558022,
          0.07647037040818173,
          0.04799375911627049,
          0.2007721766674088,
          0.04368926835877119,
          0.5254050004047414,
          0.13499984964484077,
          0.06461047121538496,
          0.05599803527477112,
          0.1971332755242246,
          0.041893095778314716,
          0.04899830711628245,
          0.03814042712124307,
          0.11996990008022974,
          0.09812917134280734,
          0.054685006902572865,
          0.08559279957288944,
          0.15571388644321993,
          0.05258349994980318,
          0.0838312364387498,
          0.08361753216225218,
          0.08341060118834305,
          0.1307521147012138,
          0.10902492389488916,
          0.0646767198065093,
          0.31463289217528606
         ],
         "yaxis": "y",
         "type": "scatter"
        }
       ],
       "layout": {
        "template": {
         "data": {
          "histogram2dcontour": [
           {
            "type": "histogram2dcontour",
            "colorbar": {
             "outlinewidth": 0,
             "ticks": ""
            },
            "colorscale": [
             [
              0.0,
              "#0d0887"
             ],
             [
              0.1111111111111111,
              "#46039f"
             ],
             [
              0.2222222222222222,
              "#7201a8"
             ],
             [
              0.3333333333333333,
              "#9c179e"
             ],
             [
              0.4444444444444444,
              "#bd3786"
             ],
             [
              0.5555555555555556,
              "#d8576b"
             ],
             [
              0.6666666666666666,
              "#ed7953"
             ],
             [
              0.7777777777777778,
              "#fb9f3a"
             ],
             [
              0.8888888888888888,
              "#fdca26"
             ],
             [
              1.0,
              "#f0f921"
             ]
            ]
           }
          ],
          "choropleth": [
           {
            "type": "choropleth",
            "colorbar": {
             "outlinewidth": 0,
             "ticks": ""
            }
           }
          ],
          "histogram2d": [
           {
            "type": "histogram2d",
            "colorbar": {
             "outlinewidth": 0,
             "ticks": ""
            },
            "colorscale": [
             [
              0.0,
              "#0d0887"
             ],
             [
              0.1111111111111111,
              "#46039f"
             ],
             [
              0.2222222222222222,
              "#7201a8"
             ],
             [
              0.3333333333333333,
              "#9c179e"
             ],
             [
              0.4444444444444444,
              "#bd3786"
             ],
             [
              0.5555555555555556,
              "#d8576b"
             ],
             [
              0.6666666666666666,
              "#ed7953"
             ],
             [
              0.7777777777777778,
              "#fb9f3a"
             ],
             [
              0.8888888888888888,
              "#fdca26"
             ],
             [
              1.0,
              "#f0f921"
             ]
            ]
           }
          ],
          "heatmap": [
           {
            "type": "heatmap",
            "colorbar": {
             "outlinewidth": 0,
             "ticks": ""
            },
            "colorscale": [
             [
              0.0,
              "#0d0887"
             ],
             [
              0.1111111111111111,
              "#46039f"
             ],
             [
              0.2222222222222222,
              "#7201a8"
             ],
             [
              0.3333333333333333,
              "#9c179e"
             ],
             [
              0.4444444444444444,
              "#bd3786"
             ],
             [
              0.5555555555555556,
              "#d8576b"
             ],
             [
              0.6666666666666666,
              "#ed7953"
             ],
             [
              0.7777777777777778,
              "#fb9f3a"
             ],
             [
              0.8888888888888888,
              "#fdca26"
             ],
             [
              1.0,
              "#f0f921"
             ]
            ]
           }
          ],
          "heatmapgl": [
           {
            "type": "heatmapgl",
            "colorbar": {
             "outlinewidth": 0,
             "ticks": ""
            },
            "colorscale": [
             [
              0.0,
              "#0d0887"
             ],
             [
              0.1111111111111111,
              "#46039f"
             ],
             [
              0.2222222222222222,
              "#7201a8"
             ],
             [
              0.3333333333333333,
              "#9c179e"
             ],
             [
              0.4444444444444444,
              "#bd3786"
             ],
             [
              0.5555555555555556,
              "#d8576b"
             ],
             [
              0.6666666666666666,
              "#ed7953"
             ],
             [
              0.7777777777777778,
              "#fb9f3a"
             ],
             [
              0.8888888888888888,
              "#fdca26"
             ],
             [
              1.0,
              "#f0f921"
             ]
            ]
           }
          ],
          "contourcarpet": [
           {
            "type": "contourcarpet",
            "colorbar": {
             "outlinewidth": 0,
             "ticks": ""
            }
           }
          ],
          "contour": [
           {
            "type": "contour",
            "colorbar": {
             "outlinewidth": 0,
             "ticks": ""
            },
            "colorscale": [
             [
              0.0,
              "#0d0887"
             ],
             [
              0.1111111111111111,
              "#46039f"
             ],
             [
              0.2222222222222222,
              "#7201a8"
             ],
             [
              0.3333333333333333,
              "#9c179e"
             ],
             [
              0.4444444444444444,
              "#bd3786"
             ],
             [
              0.5555555555555556,
              "#d8576b"
             ],
             [
              0.6666666666666666,
              "#ed7953"
             ],
             [
              0.7777777777777778,
              "#fb9f3a"
             ],
             [
              0.8888888888888888,
              "#fdca26"
             ],
             [
              1.0,
              "#f0f921"
             ]
            ]
           }
          ],
          "surface": [
           {
            "type": "surface",
            "colorbar": {
             "outlinewidth": 0,
             "ticks": ""
            },
            "colorscale": [
             [
              0.0,
              "#0d0887"
             ],
             [
              0.1111111111111111,
              "#46039f"
             ],
             [
              0.2222222222222222,
              "#7201a8"
             ],
             [
              0.3333333333333333,
              "#9c179e"
             ],
             [
              0.4444444444444444,
              "#bd3786"
             ],
             [
              0.5555555555555556,
              "#d8576b"
             ],
             [
              0.6666666666666666,
              "#ed7953"
             ],
             [
              0.7777777777777778,
              "#fb9f3a"
             ],
             [
              0.8888888888888888,
              "#fdca26"
             ],
             [
              1.0,
              "#f0f921"
             ]
            ]
           }
          ],
          "mesh3d": [
           {
            "type": "mesh3d",
            "colorbar": {
             "outlinewidth": 0,
             "ticks": ""
            }
           }
          ],
          "scatter": [
           {
            "fillpattern": {
             "fillmode": "overlay",
             "size": 10,
             "solidity": 0.2
            },
            "type": "scatter"
           }
          ],
          "parcoords": [
           {
            "type": "parcoords",
            "line": {
             "colorbar": {
              "outlinewidth": 0,
              "ticks": ""
             }
            }
           }
          ],
          "scatterpolargl": [
           {
            "type": "scatterpolargl",
            "marker": {
             "colorbar": {
              "outlinewidth": 0,
              "ticks": ""
             }
            }
           }
          ],
          "bar": [
           {
            "error_x": {
             "color": "#2a3f5f"
            },
            "error_y": {
             "color": "#2a3f5f"
            },
            "marker": {
             "line": {
              "color": "#E5ECF6",
              "width": 0.5
             },
             "pattern": {
              "fillmode": "overlay",
              "size": 10,
              "solidity": 0.2
             }
            },
            "type": "bar"
           }
          ],
          "scattergeo": [
           {
            "type": "scattergeo",
            "marker": {
             "colorbar": {
              "outlinewidth": 0,
              "ticks": ""
             }
            }
           }
          ],
          "scatterpolar": [
           {
            "type": "scatterpolar",
            "marker": {
             "colorbar": {
              "outlinewidth": 0,
              "ticks": ""
             }
            }
           }
          ],
          "histogram": [
           {
            "marker": {
             "pattern": {
              "fillmode": "overlay",
              "size": 10,
              "solidity": 0.2
             }
            },
            "type": "histogram"
           }
          ],
          "scattergl": [
           {
            "type": "scattergl",
            "marker": {
             "colorbar": {
              "outlinewidth": 0,
              "ticks": ""
             }
            }
           }
          ],
          "scatter3d": [
           {
            "type": "scatter3d",
            "line": {
             "colorbar": {
              "outlinewidth": 0,
              "ticks": ""
             }
            },
            "marker": {
             "colorbar": {
              "outlinewidth": 0,
              "ticks": ""
             }
            }
           }
          ],
          "scattermapbox": [
           {
            "type": "scattermapbox",
            "marker": {
             "colorbar": {
              "outlinewidth": 0,
              "ticks": ""
             }
            }
           }
          ],
          "scatterternary": [
           {
            "type": "scatterternary",
            "marker": {
             "colorbar": {
              "outlinewidth": 0,
              "ticks": ""
             }
            }
           }
          ],
          "scattercarpet": [
           {
            "type": "scattercarpet",
            "marker": {
             "colorbar": {
              "outlinewidth": 0,
              "ticks": ""
             }
            }
           }
          ],
          "carpet": [
           {
            "aaxis": {
             "endlinecolor": "#2a3f5f",
             "gridcolor": "white",
             "linecolor": "white",
             "minorgridcolor": "white",
             "startlinecolor": "#2a3f5f"
            },
            "baxis": {
             "endlinecolor": "#2a3f5f",
             "gridcolor": "white",
             "linecolor": "white",
             "minorgridcolor": "white",
             "startlinecolor": "#2a3f5f"
            },
            "type": "carpet"
           }
          ],
          "table": [
           {
            "cells": {
             "fill": {
              "color": "#EBF0F8"
             },
             "line": {
              "color": "white"
             }
            },
            "header": {
             "fill": {
              "color": "#C8D4E3"
             },
             "line": {
              "color": "white"
             }
            },
            "type": "table"
           }
          ],
          "barpolar": [
           {
            "marker": {
             "line": {
              "color": "#E5ECF6",
              "width": 0.5
             },
             "pattern": {
              "fillmode": "overlay",
              "size": 10,
              "solidity": 0.2
             }
            },
            "type": "barpolar"
           }
          ],
          "pie": [
           {
            "automargin": true,
            "type": "pie"
           }
          ]
         },
         "layout": {
          "autotypenumbers": "strict",
          "colorway": [
           "#636efa",
           "#EF553B",
           "#00cc96",
           "#ab63fa",
           "#FFA15A",
           "#19d3f3",
           "#FF6692",
           "#B6E880",
           "#FF97FF",
           "#FECB52"
          ],
          "font": {
           "color": "#2a3f5f"
          },
          "hovermode": "closest",
          "hoverlabel": {
           "align": "left"
          },
          "paper_bgcolor": "white",
          "plot_bgcolor": "#E5ECF6",
          "polar": {
           "bgcolor": "#E5ECF6",
           "angularaxis": {
            "gridcolor": "white",
            "linecolor": "white",
            "ticks": ""
           },
           "radialaxis": {
            "gridcolor": "white",
            "linecolor": "white",
            "ticks": ""
           }
          },
          "ternary": {
           "bgcolor": "#E5ECF6",
           "aaxis": {
            "gridcolor": "white",
            "linecolor": "white",
            "ticks": ""
           },
           "baxis": {
            "gridcolor": "white",
            "linecolor": "white",
            "ticks": ""
           },
           "caxis": {
            "gridcolor": "white",
            "linecolor": "white",
            "ticks": ""
           }
          },
          "coloraxis": {
           "colorbar": {
            "outlinewidth": 0,
            "ticks": ""
           }
          },
          "colorscale": {
           "sequential": [
            [
             0.0,
             "#0d0887"
            ],
            [
             0.1111111111111111,
             "#46039f"
            ],
            [
             0.2222222222222222,
             "#7201a8"
            ],
            [
             0.3333333333333333,
             "#9c179e"
            ],
            [
             0.4444444444444444,
             "#bd3786"
            ],
            [
             0.5555555555555556,
             "#d8576b"
            ],
            [
             0.6666666666666666,
             "#ed7953"
            ],
            [
             0.7777777777777778,
             "#fb9f3a"
            ],
            [
             0.8888888888888888,
             "#fdca26"
            ],
            [
             1.0,
             "#f0f921"
            ]
           ],
           "sequentialminus": [
            [
             0.0,
             "#0d0887"
            ],
            [
             0.1111111111111111,
             "#46039f"
            ],
            [
             0.2222222222222222,
             "#7201a8"
            ],
            [
             0.3333333333333333,
             "#9c179e"
            ],
            [
             0.4444444444444444,
             "#bd3786"
            ],
            [
             0.5555555555555556,
             "#d8576b"
            ],
            [
             0.6666666666666666,
             "#ed7953"
            ],
            [
             0.7777777777777778,
             "#fb9f3a"
            ],
            [
             0.8888888888888888,
             "#fdca26"
            ],
            [
             1.0,
             "#f0f921"
            ]
           ],
           "diverging": [
            [
             0,
             "#8e0152"
            ],
            [
             0.1,
             "#c51b7d"
            ],
            [
             0.2,
             "#de77ae"
            ],
            [
             0.3,
             "#f1b6da"
            ],
            [
             0.4,
             "#fde0ef"
            ],
            [
             0.5,
             "#f7f7f7"
            ],
            [
             0.6,
             "#e6f5d0"
            ],
            [
             0.7,
             "#b8e186"
            ],
            [
             0.8,
             "#7fbc41"
            ],
            [
             0.9,
             "#4d9221"
            ],
            [
             1,
             "#276419"
            ]
           ]
          },
          "xaxis": {
           "gridcolor": "white",
           "linecolor": "white",
           "ticks": "",
           "title": {
            "standoff": 15
           },
           "zerolinecolor": "white",
           "automargin": true,
           "zerolinewidth": 2
          },
          "yaxis": {
           "gridcolor": "white",
           "linecolor": "white",
           "ticks": "",
           "title": {
            "standoff": 15
           },
           "zerolinecolor": "white",
           "automargin": true,
           "zerolinewidth": 2
          },
          "scene": {
           "xaxis": {
            "backgroundcolor": "#E5ECF6",
            "gridcolor": "white",
            "linecolor": "white",
            "showbackground": true,
            "ticks": "",
            "zerolinecolor": "white",
            "gridwidth": 2
           },
           "yaxis": {
            "backgroundcolor": "#E5ECF6",
            "gridcolor": "white",
            "linecolor": "white",
            "showbackground": true,
            "ticks": "",
            "zerolinecolor": "white",
            "gridwidth": 2
           },
           "zaxis": {
            "backgroundcolor": "#E5ECF6",
            "gridcolor": "white",
            "linecolor": "white",
            "showbackground": true,
            "ticks": "",
            "zerolinecolor": "white",
            "gridwidth": 2
           }
          },
          "shapedefaults": {
           "line": {
            "color": "#2a3f5f"
           }
          },
          "annotationdefaults": {
           "arrowcolor": "#2a3f5f",
           "arrowhead": 0,
           "arrowwidth": 1
          },
          "geo": {
           "bgcolor": "white",
           "landcolor": "#E5ECF6",
           "subunitcolor": "white",
           "showland": true,
           "showlakes": true,
           "lakecolor": "white"
          },
          "title": {
           "x": 0.05
          },
          "mapbox": {
           "style": "light"
          }
         }
        },
        "xaxis": {
         "anchor": "y",
         "domain": [
          0.0,
          1.0
         ],
         "title": {
          "text": "点索引"
         }
        },
        "yaxis": {
         "anchor": "x",
         "domain": [
          0.0,
          1.0
         ],
         "title": {
          "text": "第 3 个最近邻距离"
         }
        },
        "legend": {
         "tracegroupgap": 0
        },
        "title": {
         "text": "距离排序图（选择 eps）"
        }
       },
       "config": {
        "plotlyServerURL": "https://plot.ly"
       }
      },
      "text/html": "<div>                            <div id=\"3ec5164a-0dcf-467a-b11f-ff09d8e1552d\" class=\"plotly-graph-div\" style=\"height:525px; width:100%;\"></div>            <script type=\"text/javascript\">                require([\"plotly\"], function(Plotly) {                    window.PLOTLYENV=window.PLOTLYENV || {};                                    if (document.getElementById(\"3ec5164a-0dcf-467a-b11f-ff09d8e1552d\")) {                    Plotly.newPlot(                        \"3ec5164a-0dcf-467a-b11f-ff09d8e1552d\",                        [{\"hovertemplate\":\"点索引=%{x}\\u003cbr\\u003e第 3 个最近邻距离=%{y}\\u003cextra\\u003e\\u003c\\u002fextra\\u003e\",\"legendgroup\":\"\",\"line\":{\"color\":\"#636efa\",\"dash\":\"solid\"},\"marker\":{\"symbol\":\"circle\"},\"mode\":\"lines\",\"name\":\"\",\"orientation\":\"v\",\"showlegend\":false,\"x\":[0,1,2,3,4,5,6,7,8,9,10,11,12,13,14,15,16,17,18,19,20,21,22,23,24,25,26,27,28,29,30,31,32,33,34,35,36,37,38,39,40,41,42,43,44,45,46,47,48,49,50,51,52,53,54,55,56,57,58,59,60,61,62,63,64,65,66,67,68,69,70,71,72,73,74,75,76,77,78,79,80,81,82,83,84,85,86,87,88,89,90,91,92,93,94,95,96,97,98,99,100,101,102,103,104,105,106,107,108,109,110,111,112,113,114,115,116,117,118,119,120,121,122,123,124,125,126,127,128,129,130,131,132,133,134,135,136,137,138,139,140,141,142,143,144,145,146,147,148,149,150,151,152,153,154,155,156,157,158,159,160,161,162,163,164,165,166,167,168,169,170,171,172,173,174,175,176,177,178,179,180,181,182,183,184,185,186,187,188,189,190,191,192,193,194,195,196,197,198,199,200,201,202,203,204,205,206,207,208,209,210,211,212,213,214,215,216,217,218,219,220,221,222,223,224,225,226,227,228,229,230,231,232,233,234,235,236,237,238,239,240,241,242,243,244,245,246,247,248,249,250,251,252,253,254,255,256,257,258,259,260,261,262,263,264,265,266,267,268,269,270,271,272,273,274,275,276,277,278,279,280,281,282,283,284,285,286,287,288,289,290,291,292,293,294,295,296,297,298,299],\"xaxis\":\"x\",\"y\":[0.12411030763303617,0.8392603694458943,0.07820556553865488,0.1418317317419235,0.07134076432708711,0.12588944603136265,0.12411030763303617,0.06100501183340145,0.09678060411048774,0.09657258285810112,0.06560092566844745,0.06073177033212012,0.08731524261417638,0.06354907018825129,0.10888100769763455,0.09589504727936383,0.3849734220543919,0.09678060411048774,0.12907669687898435,0.07582485038725713,0.0837245333329702,0.07083662628325793,0.1495145048202345,0.14925769087256058,0.1215170361942005,0.06073177033212012,0.1033776728783023,0.1486756741937132,0.13267382230833086,0.12928407562183156,0.06604448100196338,0.09169910977565843,0.11916164934743782,0.16554636830599515,0.08763299177786617,0.06604448100196338,0.07496916686781151,0.09541528284062013,0.035671682724223344,0.1116384430209903,0.10831174869300365,0.11407370552027818,0.20871049572934183,0.24839825976335092,0.07419180911063675,0.26334461022562183,0.11841607475390362,0.3260456065876044,0.08200086952921613,0.05144092722708833,0.10831174869300365,0.09650664339586239,0.13862086485056188,0.10128224892938312,0.2184865420609893,0.07083662628325793,0.23732510387536182,0.11160400681273863,0.041912544222181936,0.131971043309626,0.32959340178228996,0.15872844930876956,0.11084336376390935,0.14925769087256058,0.14872171414916158,0.131971043309626,0.14779950810683953,0.4317881193154245,0.071329204323603,0.08763299177786617,0.10204374170813187,0.0946816770895679,0.12588944603136265,0.07716035141862508,0.05144092722708833,0.09871732562555806,0.09871732562555806,0.1105064244308792,0.11778087488736216,0.13464806130511908,0.2570595677447665,0.05467665875132968,0.0990384191420497,0.10611826272254336,0.5806543156892968,0.08382247243594368,0.04815584412236278,0.1220791537932539,0.10888100769763455,0.19079965676503735,0.103915661562274,0.06244501423094615,0.1828666687969998,0.03740915561919122,0.05336220246664901,0.28620996622277745,0.07399625669680866,0.08069653867031543,0.07813634708461056,0.14759928124567118,0.11751728774281328,0.14515269981681966,0.09180192070688716,0.14368190621404128,0.09291867843358263,0.07315286097022088,0.18701711078659303,0.12767902951535093,0.1488279722937835,0.2968651477519409,0.1012466348547574,0.2955610402474032,0.08172174546179185,0.12028539128381222,0.07082585343489428,0.0732151724491138,0.20586001912083587,0.10687166195047842,0.08422532955819183,0.05744433100372503,0.050003112443009534,0.15926664599865129,0.04312192222090654,0.12204700818185371,0.18248249238296096,0.07133925709002142,0.22056784764941215,0.07281454075430638,0.11703203704125696,0.12225560120599861,0.04312192222090654,0.05708095244203544,0.10999917515254083,0.05559689189333959,0.1012466348547574,0.08159448960223763,0.10953447306912678,0.0656867292399655,0.06965879158154012,0.20379683838112214,0.13848534693275172,0.12626500387436848,0.07301076359253492,0.07829857671229391,0.07226054947984409,0.24123386980337733,0.07885939307958541,0.10870324683437516,0.06974927190075936,0.2865398498907942,0.17153373351486928,0.07137181664416989,0.10631163073717952,0.0732151724491138,0.10481115851074951,0.10823734368467205,0.12252559488611368,0.08558368511985841,0.08352237035749122,0.1833693381343951,0.16516274149755444,0.11094666308704405,0.07147546765291979,0.10243432519173272,0.07082585343489428,0.12252559488611368,0.23246038025401264,0.10442003200630114,0.14060492872274477,0.14889630910177426,0.17561660615201755,0.09140186740317567,0.07147546765291979,0.10243432519173272,0.07885939307958541,0.11554657573298673,0.19856135137707612,0.15104950026924277,0.10623492651564419,0.2048244282933841,0.06866925072137965,0.1518733250191221,0.12648701770754475,0.09022278425680905,0.22523217844885407,0.07786734848120118,0.06944803461909271,0.12028539128381222,0.23261832990027617,0.05488123927769485,0.07884861183048361,0.04905678002498143,0.20125742866740262,0.10466054892901784,0.09163009206891622,0.08159448960223763,0.5785198047849288,0.06320765270869749,0.5448849442940454,0.11444563011328593,0.03156477245027481,0.08487239222680763,0.0821722187396175,0.11923663730116213,0.04130536014640973,0.09267152235403625,0.1434085602123983,0.11013582969208344,0.07019646309073001,0.1452893181180564,0.13784947816687887,0.05249713374903944,0.06934125443654196,0.13071720923993577,0.0703929964201747,0.22335702517150643,0.05258349994980318,0.049469716472423986,0.2513526354897372,0.07904842561457802,0.06238620824787488,0.04182785936801348,0.07989783044692045,0.036309306129474216,0.18760027090904385,0.07475465472387154,0.13085509304367446,0.10020340027712082,0.11918941695707184,0.05275701533587789,0.3207999602577171,0.08466159983186684,0.07287014910558849,0.07334209812990822,0.10791474544168907,0.0648887875184934,0.09597962133671484,0.09403752257301948,0.0772107331092465,0.26216477573705144,0.08506465268613106,0.1661303484637691,0.07115915619896666,0.13784947816687887,0.14994258699869203,0.12558555856688003,0.10195332905012833,0.13222944027119454,0.07222028655034038,0.048382601702586694,0.07756856079325494,0.09413822006741328,0.028235346480609946,0.1139548915851137,0.08454485721681906,0.03799641355434975,0.0861472497750048,0.06934125443654196,0.07145457435138279,0.1590510962822817,0.08268544149870893,0.314789514094954,0.203738624540734,0.12710657027019254,0.0510454085202662,0.3986118739409153,0.4970407208680282,0.09747067963282066,0.15571388644321993,0.046698256397964565,0.21550034497179,0.11896090089219633,0.10717411920478907,0.15607863467094976,0.08632407425558022,0.07647037040818173,0.04799375911627049,0.2007721766674088,0.04368926835877119,0.5254050004047414,0.13499984964484077,0.06461047121538496,0.05599803527477112,0.1971332755242246,0.041893095778314716,0.04899830711628245,0.03814042712124307,0.11996990008022974,0.09812917134280734,0.054685006902572865,0.08559279957288944,0.15571388644321993,0.05258349994980318,0.0838312364387498,0.08361753216225218,0.08341060118834305,0.1307521147012138,0.10902492389488916,0.0646767198065093,0.31463289217528606],\"yaxis\":\"y\",\"type\":\"scatter\"}],                        {\"template\":{\"data\":{\"histogram2dcontour\":[{\"type\":\"histogram2dcontour\",\"colorbar\":{\"outlinewidth\":0,\"ticks\":\"\"},\"colorscale\":[[0.0,\"#0d0887\"],[0.1111111111111111,\"#46039f\"],[0.2222222222222222,\"#7201a8\"],[0.3333333333333333,\"#9c179e\"],[0.4444444444444444,\"#bd3786\"],[0.5555555555555556,\"#d8576b\"],[0.6666666666666666,\"#ed7953\"],[0.7777777777777778,\"#fb9f3a\"],[0.8888888888888888,\"#fdca26\"],[1.0,\"#f0f921\"]]}],\"choropleth\":[{\"type\":\"choropleth\",\"colorbar\":{\"outlinewidth\":0,\"ticks\":\"\"}}],\"histogram2d\":[{\"type\":\"histogram2d\",\"colorbar\":{\"outlinewidth\":0,\"ticks\":\"\"},\"colorscale\":[[0.0,\"#0d0887\"],[0.1111111111111111,\"#46039f\"],[0.2222222222222222,\"#7201a8\"],[0.3333333333333333,\"#9c179e\"],[0.4444444444444444,\"#bd3786\"],[0.5555555555555556,\"#d8576b\"],[0.6666666666666666,\"#ed7953\"],[0.7777777777777778,\"#fb9f3a\"],[0.8888888888888888,\"#fdca26\"],[1.0,\"#f0f921\"]]}],\"heatmap\":[{\"type\":\"heatmap\",\"colorbar\":{\"outlinewidth\":0,\"ticks\":\"\"},\"colorscale\":[[0.0,\"#0d0887\"],[0.1111111111111111,\"#46039f\"],[0.2222222222222222,\"#7201a8\"],[0.3333333333333333,\"#9c179e\"],[0.4444444444444444,\"#bd3786\"],[0.5555555555555556,\"#d8576b\"],[0.6666666666666666,\"#ed7953\"],[0.7777777777777778,\"#fb9f3a\"],[0.8888888888888888,\"#fdca26\"],[1.0,\"#f0f921\"]]}],\"heatmapgl\":[{\"type\":\"heatmapgl\",\"colorbar\":{\"outlinewidth\":0,\"ticks\":\"\"},\"colorscale\":[[0.0,\"#0d0887\"],[0.1111111111111111,\"#46039f\"],[0.2222222222222222,\"#7201a8\"],[0.3333333333333333,\"#9c179e\"],[0.4444444444444444,\"#bd3786\"],[0.5555555555555556,\"#d8576b\"],[0.6666666666666666,\"#ed7953\"],[0.7777777777777778,\"#fb9f3a\"],[0.8888888888888888,\"#fdca26\"],[1.0,\"#f0f921\"]]}],\"contourcarpet\":[{\"type\":\"contourcarpet\",\"colorbar\":{\"outlinewidth\":0,\"ticks\":\"\"}}],\"contour\":[{\"type\":\"contour\",\"colorbar\":{\"outlinewidth\":0,\"ticks\":\"\"},\"colorscale\":[[0.0,\"#0d0887\"],[0.1111111111111111,\"#46039f\"],[0.2222222222222222,\"#7201a8\"],[0.3333333333333333,\"#9c179e\"],[0.4444444444444444,\"#bd3786\"],[0.5555555555555556,\"#d8576b\"],[0.6666666666666666,\"#ed7953\"],[0.7777777777777778,\"#fb9f3a\"],[0.8888888888888888,\"#fdca26\"],[1.0,\"#f0f921\"]]}],\"surface\":[{\"type\":\"surface\",\"colorbar\":{\"outlinewidth\":0,\"ticks\":\"\"},\"colorscale\":[[0.0,\"#0d0887\"],[0.1111111111111111,\"#46039f\"],[0.2222222222222222,\"#7201a8\"],[0.3333333333333333,\"#9c179e\"],[0.4444444444444444,\"#bd3786\"],[0.5555555555555556,\"#d8576b\"],[0.6666666666666666,\"#ed7953\"],[0.7777777777777778,\"#fb9f3a\"],[0.8888888888888888,\"#fdca26\"],[1.0,\"#f0f921\"]]}],\"mesh3d\":[{\"type\":\"mesh3d\",\"colorbar\":{\"outlinewidth\":0,\"ticks\":\"\"}}],\"scatter\":[{\"fillpattern\":{\"fillmode\":\"overlay\",\"size\":10,\"solidity\":0.2},\"type\":\"scatter\"}],\"parcoords\":[{\"type\":\"parcoords\",\"line\":{\"colorbar\":{\"outlinewidth\":0,\"ticks\":\"\"}}}],\"scatterpolargl\":[{\"type\":\"scatterpolargl\",\"marker\":{\"colorbar\":{\"outlinewidth\":0,\"ticks\":\"\"}}}],\"bar\":[{\"error_x\":{\"color\":\"#2a3f5f\"},\"error_y\":{\"color\":\"#2a3f5f\"},\"marker\":{\"line\":{\"color\":\"#E5ECF6\",\"width\":0.5},\"pattern\":{\"fillmode\":\"overlay\",\"size\":10,\"solidity\":0.2}},\"type\":\"bar\"}],\"scattergeo\":[{\"type\":\"scattergeo\",\"marker\":{\"colorbar\":{\"outlinewidth\":0,\"ticks\":\"\"}}}],\"scatterpolar\":[{\"type\":\"scatterpolar\",\"marker\":{\"colorbar\":{\"outlinewidth\":0,\"ticks\":\"\"}}}],\"histogram\":[{\"marker\":{\"pattern\":{\"fillmode\":\"overlay\",\"size\":10,\"solidity\":0.2}},\"type\":\"histogram\"}],\"scattergl\":[{\"type\":\"scattergl\",\"marker\":{\"colorbar\":{\"outlinewidth\":0,\"ticks\":\"\"}}}],\"scatter3d\":[{\"type\":\"scatter3d\",\"line\":{\"colorbar\":{\"outlinewidth\":0,\"ticks\":\"\"}},\"marker\":{\"colorbar\":{\"outlinewidth\":0,\"ticks\":\"\"}}}],\"scattermapbox\":[{\"type\":\"scattermapbox\",\"marker\":{\"colorbar\":{\"outlinewidth\":0,\"ticks\":\"\"}}}],\"scatterternary\":[{\"type\":\"scatterternary\",\"marker\":{\"colorbar\":{\"outlinewidth\":0,\"ticks\":\"\"}}}],\"scattercarpet\":[{\"type\":\"scattercarpet\",\"marker\":{\"colorbar\":{\"outlinewidth\":0,\"ticks\":\"\"}}}],\"carpet\":[{\"aaxis\":{\"endlinecolor\":\"#2a3f5f\",\"gridcolor\":\"white\",\"linecolor\":\"white\",\"minorgridcolor\":\"white\",\"startlinecolor\":\"#2a3f5f\"},\"baxis\":{\"endlinecolor\":\"#2a3f5f\",\"gridcolor\":\"white\",\"linecolor\":\"white\",\"minorgridcolor\":\"white\",\"startlinecolor\":\"#2a3f5f\"},\"type\":\"carpet\"}],\"table\":[{\"cells\":{\"fill\":{\"color\":\"#EBF0F8\"},\"line\":{\"color\":\"white\"}},\"header\":{\"fill\":{\"color\":\"#C8D4E3\"},\"line\":{\"color\":\"white\"}},\"type\":\"table\"}],\"barpolar\":[{\"marker\":{\"line\":{\"color\":\"#E5ECF6\",\"width\":0.5},\"pattern\":{\"fillmode\":\"overlay\",\"size\":10,\"solidity\":0.2}},\"type\":\"barpolar\"}],\"pie\":[{\"automargin\":true,\"type\":\"pie\"}]},\"layout\":{\"autotypenumbers\":\"strict\",\"colorway\":[\"#636efa\",\"#EF553B\",\"#00cc96\",\"#ab63fa\",\"#FFA15A\",\"#19d3f3\",\"#FF6692\",\"#B6E880\",\"#FF97FF\",\"#FECB52\"],\"font\":{\"color\":\"#2a3f5f\"},\"hovermode\":\"closest\",\"hoverlabel\":{\"align\":\"left\"},\"paper_bgcolor\":\"white\",\"plot_bgcolor\":\"#E5ECF6\",\"polar\":{\"bgcolor\":\"#E5ECF6\",\"angularaxis\":{\"gridcolor\":\"white\",\"linecolor\":\"white\",\"ticks\":\"\"},\"radialaxis\":{\"gridcolor\":\"white\",\"linecolor\":\"white\",\"ticks\":\"\"}},\"ternary\":{\"bgcolor\":\"#E5ECF6\",\"aaxis\":{\"gridcolor\":\"white\",\"linecolor\":\"white\",\"ticks\":\"\"},\"baxis\":{\"gridcolor\":\"white\",\"linecolor\":\"white\",\"ticks\":\"\"},\"caxis\":{\"gridcolor\":\"white\",\"linecolor\":\"white\",\"ticks\":\"\"}},\"coloraxis\":{\"colorbar\":{\"outlinewidth\":0,\"ticks\":\"\"}},\"colorscale\":{\"sequential\":[[0.0,\"#0d0887\"],[0.1111111111111111,\"#46039f\"],[0.2222222222222222,\"#7201a8\"],[0.3333333333333333,\"#9c179e\"],[0.4444444444444444,\"#bd3786\"],[0.5555555555555556,\"#d8576b\"],[0.6666666666666666,\"#ed7953\"],[0.7777777777777778,\"#fb9f3a\"],[0.8888888888888888,\"#fdca26\"],[1.0,\"#f0f921\"]],\"sequentialminus\":[[0.0,\"#0d0887\"],[0.1111111111111111,\"#46039f\"],[0.2222222222222222,\"#7201a8\"],[0.3333333333333333,\"#9c179e\"],[0.4444444444444444,\"#bd3786\"],[0.5555555555555556,\"#d8576b\"],[0.6666666666666666,\"#ed7953\"],[0.7777777777777778,\"#fb9f3a\"],[0.8888888888888888,\"#fdca26\"],[1.0,\"#f0f921\"]],\"diverging\":[[0,\"#8e0152\"],[0.1,\"#c51b7d\"],[0.2,\"#de77ae\"],[0.3,\"#f1b6da\"],[0.4,\"#fde0ef\"],[0.5,\"#f7f7f7\"],[0.6,\"#e6f5d0\"],[0.7,\"#b8e186\"],[0.8,\"#7fbc41\"],[0.9,\"#4d9221\"],[1,\"#276419\"]]},\"xaxis\":{\"gridcolor\":\"white\",\"linecolor\":\"white\",\"ticks\":\"\",\"title\":{\"standoff\":15},\"zerolinecolor\":\"white\",\"automargin\":true,\"zerolinewidth\":2},\"yaxis\":{\"gridcolor\":\"white\",\"linecolor\":\"white\",\"ticks\":\"\",\"title\":{\"standoff\":15},\"zerolinecolor\":\"white\",\"automargin\":true,\"zerolinewidth\":2},\"scene\":{\"xaxis\":{\"backgroundcolor\":\"#E5ECF6\",\"gridcolor\":\"white\",\"linecolor\":\"white\",\"showbackground\":true,\"ticks\":\"\",\"zerolinecolor\":\"white\",\"gridwidth\":2},\"yaxis\":{\"backgroundcolor\":\"#E5ECF6\",\"gridcolor\":\"white\",\"linecolor\":\"white\",\"showbackground\":true,\"ticks\":\"\",\"zerolinecolor\":\"white\",\"gridwidth\":2},\"zaxis\":{\"backgroundcolor\":\"#E5ECF6\",\"gridcolor\":\"white\",\"linecolor\":\"white\",\"showbackground\":true,\"ticks\":\"\",\"zerolinecolor\":\"white\",\"gridwidth\":2}},\"shapedefaults\":{\"line\":{\"color\":\"#2a3f5f\"}},\"annotationdefaults\":{\"arrowcolor\":\"#2a3f5f\",\"arrowhead\":0,\"arrowwidth\":1},\"geo\":{\"bgcolor\":\"white\",\"landcolor\":\"#E5ECF6\",\"subunitcolor\":\"white\",\"showland\":true,\"showlakes\":true,\"lakecolor\":\"white\"},\"title\":{\"x\":0.05},\"mapbox\":{\"style\":\"light\"}}},\"xaxis\":{\"anchor\":\"y\",\"domain\":[0.0,1.0],\"title\":{\"text\":\"点索引\"}},\"yaxis\":{\"anchor\":\"x\",\"domain\":[0.0,1.0],\"title\":{\"text\":\"第 3 个最近邻距离\"}},\"legend\":{\"tracegroupgap\":0},\"title\":{\"text\":\"距离排序图（选择 eps）\"}},                        {\"responsive\": true}                    ).then(function(){\n                            \nvar gd = document.getElementById('3ec5164a-0dcf-467a-b11f-ff09d8e1552d');\nvar x = new MutationObserver(function (mutations, observer) {{\n        var display = window.getComputedStyle(gd).display;\n        if (!display || display === 'none') {{\n            console.log([gd, 'removed!']);\n            Plotly.purge(gd);\n            observer.disconnect();\n        }}\n}});\n\n// Listen for the removal of the full notebook cells\nvar notebookContainer = gd.closest('#notebook-container');\nif (notebookContainer) {{\n    x.observe(notebookContainer, {childList: true});\n}}\n\n// Listen for the clearing of the current output cell\nvar outputEl = gd.closest('.output');\nif (outputEl) {{\n    x.observe(outputEl, {childList: true});\n}}\n\n                        })                };                });            </script>        </div>"
     },
     "metadata": {},
     "output_type": "display_data"
    }
   ],
   "source": [
    "class DBSCAN:\n",
    "    def __init__(self, eps, min_samples):\n",
    "        \"\"\"\n",
    "        初始化DBSCANManual类\n",
    "        :param eps: 邻域半径\n",
    "        :param min_samples: 形成簇所需的最小点数\n",
    "        \"\"\"\n",
    "        self.eps = eps  \n",
    "        self.min_samples = min_samples  \n",
    "        self.labels = None  \n",
    "\n",
    "    def fit(self, X):\n",
    "        \"\"\"\n",
    "        执行DBSCAN聚类算法\n",
    "        :param X: 输入数据，形状为(n_samples, n_features)\n",
    "        \"\"\"\n",
    "        n_samples = X.shape[0]  # 数据点数量\n",
    "        visited = np.zeros(n_samples, dtype=bool)  \n",
    "        cluster_label = 0  \n",
    "        self.labels = np.zeros(n_samples, dtype=int)  # 初始化标签为0\n",
    "\n",
    "        for i in range(n_samples):  \n",
    "            if visited[i]:  \n",
    "                continue\n",
    "            visited[i] = True  \n",
    "            neighbors = self.region_query(X, i)  \n",
    "\n",
    "            if len(neighbors) < self.min_samples:  # 如果邻域点数量小于min_samples\n",
    "                self.labels[i] = -1  # 标记该点为噪声点（标签为-1）\n",
    "            else:  # 如果邻域点数量大于或等于min_samples\n",
    "                cluster_label += 1  # 给当前簇分配一个新的标签\n",
    "                self.expand_cluster(X, i, neighbors, cluster_label, visited)  # 扩展该簇\n",
    "\n",
    "    def region_query(self, X, idx):\n",
    "        \"\"\"\n",
    "        查询当前点的邻域点\n",
    "        :param X: 输入数据\n",
    "        :param idx: 当前点的索引\n",
    "        :return: 邻域点的索引列表\n",
    "        \"\"\"\n",
    "        distances = np.linalg.norm(X - X[idx], axis=1)  \n",
    "        neighbors = np.where(distances <= self.eps)[0]  \n",
    "        return neighbors\n",
    "\n",
    "    def expand_cluster(self, X, idx, neighbors, cluster_label, visited):\n",
    "        \"\"\"\n",
    "        扩展簇\n",
    "        :param X: 输入数据\n",
    "        :param idx: 当前点的索引\n",
    "        :param neighbors: 当前点的邻域点索引列表\n",
    "        :param cluster_label: 当前簇的标签\n",
    "        :param visited: 访问标记数组\n",
    "        \"\"\"\n",
    "        self.labels[idx] = cluster_label  # 分配簇标签\n",
    "\n",
    "        for neighbor in neighbors:  \n",
    "            if not visited[neighbor]:  \n",
    "                visited[neighbor] = True  \n",
    "                neighbor_neighbors = self.region_query(X, neighbor)  # 查询该邻域点的邻域点\n",
    "\n",
    "                if len(neighbor_neighbors) >= self.min_samples:  \n",
    "                    self.expand_cluster(X, neighbor, neighbor_neighbors, cluster_label, visited)  \n",
    "                self.labels[neighbor] = cluster_label  \n",
    "\n",
    "\n",
    "def find_optimal_eps(data, min_samples=3, percentile=95):\n",
    "    \"\"\"使用k-distance图自动寻找最佳eps参数\"\"\"\n",
    "    distances = pdist(data, 'euclidean')  \n",
    "    dist_matrix = squareform(distances)  \n",
    "    k_distances = np.sort(dist_matrix)[:, min_samples]  # 获取每个点的第k个最近邻距离\n",
    "    \n",
    "    sorted_k_distances = np.sort(k_distances)  # 对第k个最近邻距离进行排序\n",
    "\n",
    "    # 使用kneed自动检测拐点\n",
    "    kneedle = KneeLocator(\n",
    "        x=range(len(sorted_k_distances)),  # x轴是点的索引\n",
    "        y=sorted_k_distances,  # y轴是排序后的第k个最近邻距离\n",
    "        S=1.0,  # 灵敏度参数\n",
    "        curve=\"convex\",  \n",
    "        direction=\"increasing\"  \n",
    "    )\n",
    "    \n",
    "    # 返回拐点最佳eps，或95%分位数\n",
    "    return kneedle.knee_y if kneedle.knee else np.percentile(k_distances, percentile)\n",
    "\n",
    "\n",
    "eps_range = np.linspace(0.1, 1.0, 20)  # 在0.1到1.0之间生成20个等间距的eps值\n",
    "min_samples_range = range(2, 11)  # min_samples的取值范围是2到10\n",
    "\n",
    "# 初始化最佳参数和最佳轮廓系数\n",
    "best_silhouette = -1  # 轮廓系数范围[-1, 1]\n",
    "best_eps = 0.6  \n",
    "best_min_samples = 50  \n",
    "\n",
    "# 遍历不同的 eps 和 min_samples 组合，寻找最佳参数\n",
    "for eps in eps_range:\n",
    "    for min_samples in min_samples_range:\n",
    "        dbscan = DBSCAN(eps=eps, min_samples=min_samples)  \n",
    "        dbscan.fit(scaled_data)  \n",
    "        labels = dbscan.labels  \n",
    "        \n",
    "        # 计算轮廓系数，评估聚类效果\n",
    "        if len(set(labels)) > 1:  # 确保有多个簇（否则无法计算轮廓系数）\n",
    "            silhouette_avg = silhouette_score(scaled_data, labels)  # 计算轮廓系数\n",
    "            if silhouette_avg > best_silhouette:  \n",
    "                best_silhouette = silhouette_avg  \n",
    "                best_eps = eps  \n",
    "                best_min_samples = min_samples  \n",
    "\n",
    "# 使用最佳参数进行聚类\n",
    "dbscan = DBSCAN(eps=best_eps, min_samples=best_min_samples)\n",
    "dbscan.fit(scaled_data)\n",
    "labels = dbscan.labels  \n",
    "\n",
    "\n",
    "data[\"Cluster\"] = labels  # 在原始数据框中添加聚类标签列\n",
    "\n",
    "# 计算每个簇的聚类中心（使用原始数据）\n",
    "centers = []  \n",
    "for cluster in np.unique(labels):\n",
    "    if cluster != -1:  \n",
    "        cluster_data = data[data[\"Cluster\"] == cluster]  # 获取当前簇的原始数据\n",
    "        center = cluster_data[[\"X1\", \"X2\"]].mean().values  # 计算簇内点的均值作为中心\n",
    "        centers.append(center) \n",
    "        \n",
    "centers = np.array(centers)  \n",
    "\n",
    "fig = px.scatter(\n",
    "    data, \n",
    "    x=\"X1\", \n",
    "    y=\"X2\",  \n",
    "    color=\"Cluster\",  \n",
    "    title=\"DBSCAN 聚类结果\",  \n",
    "    color_continuous_scale=\"Viridis\",  \n",
    "    labels={\"X1\": \"特征 1\", \"X2\": \"特征 2\", \"Cluster\": \"簇\"}, \n",
    ")\n",
    "\n",
    "if len(centers) > 0:\n",
    "    fig.add_scatter(\n",
    "        x=centers[:, 0],  \n",
    "        y=centers[:, 1],  \n",
    "        mode=\"markers\",  \n",
    "        marker=dict(\n",
    "            size=20,  \n",
    "            color=\"red\",  \n",
    "            symbol=\"x\",  \n",
    "            line=dict(width=2)  \n",
    "        ),\n",
    "        name=\"聚类中心\"  \n",
    "    )\n",
    "\n",
    "fig.show()\n",
    "\n",
    "# 计算聚类效果（轮廓系数）\n",
    "silhouette_avg = silhouette_score(scaled_data, labels)  \n",
    "print(f\"聚类的轮廓系数: {silhouette_avg:.3f}\")  \n",
    "\n",
    "# 绘制距离排序图以帮助选择 eps\n",
    "distances = []\n",
    "for i in range(len(scaled_data)):\n",
    "    dist = np.sort(np.linalg.norm(scaled_data[i] - scaled_data, axis=1))\n",
    "    distances.append(dist)\n",
    "\n",
    "distances = np.array(distances)\n",
    "k = 3  \n",
    "fig_dist = px.line(\n",
    "    x=range(len(distances[:, k])),  \n",
    "    y=distances[:, k],  \n",
    "    title=\"距离排序图（选择 eps）\",  \n",
    "    labels={\"x\": \"点索引\", \"y\": \"第 3 个最近邻距离\"},  \n",
    ")\n",
    "fig_dist.show()"
   ],
   "metadata": {
    "collapsed": false,
    "ExecuteTime": {
     "end_time": "2025-04-29T02:56:40.055401500Z",
     "start_time": "2025-04-29T02:56:38.362241200Z"
    }
   },
   "id": "4e9261c05e2fd1fd",
   "execution_count": 18
  },
  {
   "cell_type": "code",
   "outputs": [],
   "source": [],
   "metadata": {
    "collapsed": false,
    "ExecuteTime": {
     "end_time": "2025-04-29T02:56:40.067077900Z",
     "start_time": "2025-04-29T02:56:40.056968400Z"
    }
   },
   "id": "2c9d0d3fd1762259",
   "execution_count": 18
  }
 ],
 "metadata": {
  "kernelspec": {
   "display_name": "Python 3",
   "language": "python",
   "name": "python3"
  },
  "language_info": {
   "codemirror_mode": {
    "name": "ipython",
    "version": 2
   },
   "file_extension": ".py",
   "mimetype": "text/x-python",
   "name": "python",
   "nbconvert_exporter": "python",
   "pygments_lexer": "ipython2",
   "version": "2.7.6"
  }
 },
 "nbformat": 4,
 "nbformat_minor": 5
}
