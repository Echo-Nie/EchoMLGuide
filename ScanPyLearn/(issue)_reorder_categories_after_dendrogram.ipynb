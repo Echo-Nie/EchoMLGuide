{
 "cells": [
  {
   "cell_type": "code",
   "execution_count": 1,
   "id": "initial_id",
   "metadata": {
    "collapsed": true,
    "ExecuteTime": {
     "end_time": "2025-03-10T12:14:43.052692300Z",
     "start_time": "2025-03-10T12:14:39.572716100Z"
    }
   },
   "outputs": [
    {
     "name": "stdout",
     "output_type": "stream",
     "text": [
      "BasePlot._reorder_categories_after_dendrogram的地址是: 1265248907040\n",
      "_reorder_categories_after_dendrogram的地址是: 1265248899200\n",
      "the same object? False\n"
     ]
    }
   ],
   "source": [
    "from scanpy.plotting._anndata import _reorder_categories_after_dendrogram\n",
    "from scanpy.plotting._baseplot_class import BasePlot\n",
    "\n",
    "addr1 = id(BasePlot._reorder_categories_after_dendrogram)\n",
    "addr2 = id(_reorder_categories_after_dendrogram)\n",
    "\n",
    "print(\"BasePlot._reorder_categories_after_dendrogram的地址是:\", addr1)\n",
    "print(\"_reorder_categories_after_dendrogram的地址是:\", addr2)\n",
    "\n",
    "are_same = (addr1 == addr2)\n",
    "print(\"the same object?\", are_same)"
   ]
  },
  {
   "cell_type": "code",
   "outputs": [],
   "source": [],
   "metadata": {
    "collapsed": false
   },
   "id": "2467aba27328bbaa"
  }
 ],
 "metadata": {
  "kernelspec": {
   "display_name": "Python 3",
   "language": "python",
   "name": "python3"
  },
  "language_info": {
   "codemirror_mode": {
    "name": "ipython",
    "version": 2
   },
   "file_extension": ".py",
   "mimetype": "text/x-python",
   "name": "python",
   "nbconvert_exporter": "python",
   "pygments_lexer": "ipython2",
   "version": "2.7.6"
  }
 },
 "nbformat": 4,
 "nbformat_minor": 5
}
